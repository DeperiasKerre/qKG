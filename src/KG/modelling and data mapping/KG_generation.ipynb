{
 "cells": [
  {
   "cell_type": "markdown",
   "id": "9adec3ee",
   "metadata": {},
   "source": [
    "The final KG Generation-Including all the data values, provenace information, references and all relationships."
   ]
  },
  {
   "cell_type": "code",
   "execution_count": 1,
   "id": "d5eb8300",
   "metadata": {},
   "outputs": [],
   "source": [
    "#importing a graph structure and other ontology URIs\n",
    "from rdflib import Graph\n",
    "#import other libraries\n",
    "from rdflib import Graph, Literal, RDF, RDFS, URIRef, OWL, Namespace"
   ]
  },
  {
   "cell_type": "code",
   "execution_count": 2,
   "id": "b5ffbe63",
   "metadata": {},
   "outputs": [
    {
     "data": {
      "text/plain": [
       "<Graph identifier=N09ca6724e0cf47ef8cda3cb9be81437f (<class 'rdflib.graph.Graph'>)>"
      ]
     },
     "execution_count": 2,
     "metadata": {},
     "output_type": "execute_result"
    }
   ],
   "source": [
    "#loading the KG containing references\n",
    "myGraph=Graph()\n",
    "myGraph.parse(\"qcl_KG_references.ttl\")"
   ]
  },
  {
   "cell_type": "code",
   "execution_count": 3,
   "id": "15c0a3ca",
   "metadata": {},
   "outputs": [
    {
     "name": "stdout",
     "output_type": "stream",
     "text": [
      "Number of elements:2524\n"
     ]
    }
   ],
   "source": [
    "#number of graph elements\n",
    "print(f\"Number of elements:{len(myGraph)}\")"
   ]
  },
  {
   "cell_type": "code",
   "execution_count": 4,
   "id": "1bfbf480",
   "metadata": {},
   "outputs": [],
   "source": [
    "#binding namespace prefixes\n",
    "##QCL Ontology\n",
    "namespace_qcl_onto = Namespace(\"https://github.com/DeperiasKerre/qcl_Onto/blob/main/qclontology/version-1.0/qclonto.owl#\")\n",
    "myGraph.bind(\"QpOnto\", namespace_qcl_onto)\n",
    "#BIBO ontology\n",
    "namespace_bibo=Namespace(\"https://dcmi.github.io/bibo/#:\")\n",
    "myGraph.bind(\"bibo\", namespace_bibo)\n",
    "##MDO ontology\n",
    "namespace_mdo=Namespace(\"https://w3id.org/mdo/core/\")\n",
    "myGraph.bind(\"mdo\", namespace_mdo)\n",
    "##QUDT-The QUDT ontology has several subdivisions of vocabularies\n",
    "###Units\n",
    "namespace_qudt_units = Namespace(\"https://qudt.org/vocab/unit/\")\n",
    "myGraph.bind(\"QUDT_units\", namespace_qudt_units)\n",
    "###Quantity Kinds\n",
    "namespace_qudt_quantity_kind = Namespace(\"https://qudt.org/vocab/quantitykind/\")\n",
    "myGraph.bind(\"QUDT_quantity_kinds\", namespace_qudt_quantity_kind)\n",
    "###properties\n",
    "namespace_qudt_properties = Namespace(\"https://qudt.org/schema/qudt/\")\n",
    "myGraph.bind(\"QUDT_properties\", namespace_qudt_properties)"
   ]
  },
  {
   "cell_type": "code",
   "execution_count": 5,
   "id": "673b13a5",
   "metadata": {},
   "outputs": [],
   "source": [
    "#URIS for KG Concepts\n",
    "\n",
    "##agent\n",
    "agent=URIRef(\"https://www.w3.org/TR/prov-o/#Agent\")\n",
    "\n",
    "##academic article\n",
    "academic_article=namespace_bibo[\"AcademicArticle\"]\n",
    "\n",
    "##property\n",
    "Property=namespace_mdo[\"Property\"]\n",
    "\n",
    "##laser working mode\n",
    "working_mode=namespace_qcl_onto[\"LaserWorkingMode\"]\n",
    "\n",
    "##optoelectronic characteristics\n",
    "working_temperature=namespace_qcl_onto[\"WorkingTemperature\"]\n",
    "optical_power=namespace_qcl_onto[\"OpticalPower\"]\n",
    "lasing_frequency=namespace_qcl_onto[\"LasingFrequency\"]\n",
    "\n",
    "##laser heterostructure\n",
    "heterostructure=namespace_qcl_onto[\"LaserHeterostructure\"]\n",
    "\n",
    "##heterostructure materials\n",
    "materials=namespace_qcl_onto[\"HeterostructureMaterials\"]\n",
    "\n",
    "##design type\n",
    "laser_design=namespace_qcl_onto[\"LaserDesignType\"]\n",
    "\n",
    "##URIs for quantity Values\n",
    "frequency_value=namespace_qcl_onto[\"FrequencyValue\"]\n",
    "power_value= namespace_qcl_onto[\"PowerValue\"]\n",
    "temperature_value=namespace_qcl_onto[\"WorkingTempValue\"]\n",
    "\n",
    "##URIs for Quantity Kinds\n",
    "power=namespace_qudt_quantity_kind[\"Power\"]\n",
    "frequency=namespace_qudt_quantity_kind[\"Frequency\"]\n",
    "temperature=namespace_qudt_quantity_kind[\"Temperature\"]\n",
    "\n",
    "##URIS for Units\n",
    "Kelvin=namespace_qudt_units[\"K\"]\n",
    "Milliwatt=namespace_qudt_units[\"MilliW\"]\n",
    "Watt=namespace_qudt_units[\"W\"]\n",
    "Microwatt=namespace_qudt_units[\"MicroW\"]\n",
    "TeraHertz=namespace_qudt_units[\"TeraHZ\"]\n",
    "\n",
    "##Laser Working Modes\n",
    "continous_wave=namespace_qcl_onto[\"ContinousWaveOperation\"]\n",
    "pulsed_mode=namespace_qcl_onto[\"PulsedOperation\"]\n",
    "\n",
    "##Laser Design Types\n",
    "lo_phonon=namespace_qcl_onto[\"LOPhononDepopulation\"]\n",
    "bound_continum=namespace_qcl_onto[\"BoundToContinum\"]\n",
    "double_resonant=namespace_qcl_onto[\"DoubleResonantPhonon\"]"
   ]
  },
  {
   "cell_type": "code",
   "execution_count": 6,
   "id": "0c0f45d8",
   "metadata": {},
   "outputs": [],
   "source": [
    "#URIS for properties\n",
    "#URIS for object properties\n",
    "#was attributed to\n",
    "attributed_to=URIRef(\"http://www.w3.org/ns/prov#wasAttributedTo\")\n",
    "#has materials\n",
    "has_materials=namespace_qcl_onto[\"hasMaterials\"]\n",
    "#has quantity kind\n",
    "has_quantitykind=namespace_qudt_properties[\"hasQuantityKind\"]\n",
    "#has design type\n",
    "has_designtype=namespace_qcl_onto[\"hasDesignType\"]\n",
    "#relates to heterostructure\n",
    "relates_to_heterostructure=namespace_qcl_onto[\"relatesToHeterostructure\"]\n",
    "#corresponds to working mode\n",
    "corresponds_to_working_mode=namespace_qcl_onto[\"correspondsToWorkingMode\"]\n",
    "#has unit\n",
    "has_unit=namespace_qudt_properties[\"hasUnit\"]\n",
    "#was attributed to\n",
    "attributed_to=URIRef(\"http://www.w3.org/ns/prov#wasAttributedTo\")\n",
    "#has quantity value\n",
    "has_quantity_value=URIRef(\"https://qudt.org/vocab/unit/#hasQuantityValue\")\n",
    "\n",
    "#URIs for data properties\n",
    "materials_prop=namespace_qcl_onto[\"matFormula\"]\n",
    "numerical_value=namespace_qudt_properties[\"numericValue\"]\n",
    "\n",
    "#datatypes\n",
    "string=URIRef(\"http://www.w3.org/2001/XMLSchema#string\")\n",
    "number=URIRef(\"http://www.w3.org/2001/XMLSchema#float\")"
   ]
  },
  {
   "cell_type": "code",
   "execution_count": 7,
   "id": "8ca995ec",
   "metadata": {},
   "outputs": [],
   "source": [
    "#load qcl properties data file\n",
    "import pandas as pd\n",
    "properties_df=pd.read_csv(\"C:/Users/USER/Documents/Projects/KG/Data/qcl_data/qcl_data.csv\")\n",
    "#generating paper IDS based on the abstract DOI\n",
    "qcl_onto_URI=\"https://github.com/DeperiasKerre/qcl_Onto/blob/main/qclontology/version-1.0/qclonto.owl#\"\n",
    "properties_df['paper_id']= qcl_onto_URI +\"paper_id/\" + properties_df['Abstract_DOI'].astype(str)"
   ]
  },
  {
   "cell_type": "markdown",
   "id": "19a565aa",
   "metadata": {},
   "source": [
    "Enriching the Instance IDs with the Ontology URI."
   ]
  },
  {
   "cell_type": "code",
   "execution_count": 8,
   "id": "33f37bc3",
   "metadata": {},
   "outputs": [],
   "source": [
    "#heterostructure\n",
    "properties_df['HS_ID']=properties_df['HS_ID'].apply(lambda q : qcl_onto_URI +\"heterostructure_ID/\" + q  if \"none\" not in q else \"none\")\n",
    "for a in properties_df['HS_ID']:\n",
    "    myGraph.add((URIRef(a), RDF.type, heterostructure)) "
   ]
  },
  {
   "cell_type": "code",
   "execution_count": 9,
   "id": "d9042e6d",
   "metadata": {},
   "outputs": [],
   "source": [
    "#power\n",
    "properties_df['power_ID']=properties_df['power_ID'].apply(lambda q : qcl_onto_URI +\"power_ID/\" + q  if \"none\" not in q else \"none\")\n",
    "for a in properties_df['power_ID']:\n",
    "    myGraph.add((URIRef(a), RDF.type, optical_power))"
   ]
  },
  {
   "cell_type": "code",
   "execution_count": 10,
   "id": "929fc3a0",
   "metadata": {},
   "outputs": [],
   "source": [
    "#lasing frequency\n",
    "properties_df['frequency_ID']=properties_df['frequency_ID'].apply(lambda q : qcl_onto_URI +\"frequency_ID/\" + q  if \"none\" not in q else \"none\")\n",
    "for a in properties_df['frequency_ID']:\n",
    "    myGraph.add((URIRef(a), RDF.type, lasing_frequency))"
   ]
  },
  {
   "cell_type": "code",
   "execution_count": 11,
   "id": "384a8ee3",
   "metadata": {},
   "outputs": [],
   "source": [
    "#heterostructure materials-materials ID generated based on the materials formula\n",
    "properties_df['hs_materials_ID']=properties_df['HS_Materials_Formula'].apply(lambda q : qcl_onto_URI +\"hs_materials_ID/\" + q  if \"none\" not in q else \"none\")\n",
    "for a in properties_df['hs_materials_ID']:\n",
    "    myGraph.add((URIRef(a), RDF.type, materials))"
   ]
  },
  {
   "cell_type": "code",
   "execution_count": 12,
   "id": "a4d7ebaf",
   "metadata": {},
   "outputs": [],
   "source": [
    "#working temperature\n",
    "#continous wave mode\n",
    "properties_df['temp_cw_ID']=properties_df['temp_cw_ID'].apply(lambda q : qcl_onto_URI +\"temp_cw_ID/\" + q  if \"none\" not in q else \"none\")\n",
    "for a in properties_df['temp_cw_ID']:\n",
    "    myGraph.add((URIRef(a), RDF.type, working_temperature))\n",
    "#pulsed mode\n",
    "properties_df['temp_pm_ID']=properties_df['temp_pm_ID'].apply(lambda q : qcl_onto_URI +\"temp_pm_ID/\" + q  if \"none\" not in q else \"none\")\n",
    "for a in properties_df['temp_pm_ID']:\n",
    "    myGraph.add((URIRef(a), RDF.type, working_temperature))"
   ]
  },
  {
   "cell_type": "code",
   "execution_count": 13,
   "id": "72cd8149",
   "metadata": {},
   "outputs": [],
   "source": [
    "#laser design type\n",
    "#a function return the design type URI based on the design type text. \n",
    "def designtype_mapper(a):\n",
    "    if (a==\"longitudinal-optical\" or a == \"LO-Phonon\" or a == \"LO-phonon\" or a == \"longitudinal-optical phonon\"):\n",
    "        return lo_phonon\n",
    "    elif (a==\"resonant-phonon\" or a == \"Resonant-phonon\" or a == \"resonant phonon\" or a == \"three-well phonon depopulation\" or a == \"double-phonon resonant\" or a == \"resonant-phonon depopulation\" or a == \"two-phonon-resonance\" or a == \"direct-phonon design\" ):\n",
    "        return double_resonant\n",
    "    elif (a==\"bound-to-continuum\"):\n",
    "        return bound_continum\n",
    "    else:\n",
    "        return \"none\"\n",
    "#invoke the function on the design type column\n",
    "properties_df[\"Design_Type\"]=properties_df[\"Design_Type\"].apply(lambda q : designtype_mapper(q))"
   ]
  },
  {
   "cell_type": "code",
   "execution_count": 14,
   "id": "b235dd34",
   "metadata": {},
   "outputs": [],
   "source": [
    "#power, frequency and temperature values\n",
    "##power value\n",
    "properties_df['power_value_ID']=properties_df['Power_Value'].apply(lambda q : qcl_onto_URI +\"power_value_ID/\" + q  if \"none\" not in q else \"none\")\n",
    "for a in properties_df['power_value_ID']:\n",
    "    myGraph.add((URIRef(a), RDF.type, power_value))\n",
    "##frequency value\n",
    "properties_df['frequency_value_ID']=properties_df['Frequency Value'].apply(lambda q : qcl_onto_URI +\"frequency_value_ID/\" + q  if \"none\" not in q else \"none\")\n",
    "for a in properties_df['frequency_value_ID']:\n",
    "    myGraph.add((URIRef(a), RDF.type, frequency_value))\n",
    "##working temperature value\n",
    "###continous wave\n",
    "properties_df['temp_value_cw_ID']=properties_df['TemperatureValue_CW'].apply(lambda q : qcl_onto_URI +\"temp_cw_value_ID/\" + q  if \"none\" not in q else \"none\")\n",
    "for a in properties_df['temp_value_cw_ID']:\n",
    "    myGraph.add((URIRef(a), RDF.type, temperature_value))\n",
    "###pulse mode\n",
    "properties_df['temp_value_pm_ID']=properties_df['Temperature_ValuePM'].apply(lambda q : qcl_onto_URI +\"temp_pm_value_ID/\" + q  if \"none\" not in q else \"none\")\n",
    "for a in properties_df['temp_value_pm_ID']:\n",
    "    myGraph.add((URIRef(a), RDF.type, temperature_value))"
   ]
  },
  {
   "cell_type": "markdown",
   "id": "9e83b830",
   "metadata": {},
   "source": [
    "Units"
   ]
  },
  {
   "cell_type": "code",
   "execution_count": 15,
   "id": "590b78b5",
   "metadata": {},
   "outputs": [],
   "source": [
    "#power unit\n",
    "#a function return the design power unit URI based on the unit text. \n",
    "def power_unit_mapper(unit_name):\n",
    "    if (unit_name==\"milliwatt\"):\n",
    "        return Milliwatt\n",
    "    elif (unit_name==\"microwatt\"):\n",
    "        return Microwatt\n",
    "    elif (unit_name==\"watt\"):\n",
    "        return Watt\n",
    "    else:\n",
    "        return \"none\"\n",
    "#invoke the function on the power unit column\n",
    "properties_df[\"Power_Unit\"]=properties_df[\"Power_Unit\"].apply(lambda q : power_unit_mapper(q))"
   ]
  },
  {
   "cell_type": "markdown",
   "id": "b1592cc6",
   "metadata": {},
   "source": [
    "Mapping QCL Properties to Their Provenance Information"
   ]
  },
  {
   "cell_type": "code",
   "execution_count": 16,
   "id": "4981a511",
   "metadata": {},
   "outputs": [],
   "source": [
    "#mapping the QCL properties to the paper URIs\n",
    "#heterostructure\n",
    "for a,b in zip(properties_df['HS_ID'],properties_df['paper_id']):\n",
    "    if(\"none\" not in a):\n",
    "        myGraph.add((URIRef(a), attributed_to, URIRef(b)))\n",
    "#power\n",
    "for a,b in zip(properties_df['power_ID'],properties_df['paper_id']):\n",
    "    if(\"none\" not in a):\n",
    "        myGraph.add((URIRef(a), attributed_to, URIRef(b)))\n",
    "#lasing frequency\n",
    "for a,b in zip(properties_df['frequency_ID'],properties_df['paper_id']):\n",
    "    if(\"none\" not in a):\n",
    "        myGraph.add((URIRef(a), attributed_to, URIRef(b)))\n",
    "#working temperature\n",
    "##continous wave mode\n",
    "for a,b in zip(properties_df['temp_cw_ID'],properties_df['paper_id']):\n",
    "    if(\"none\" not in a):\n",
    "        myGraph.add((URIRef(a), attributed_to, URIRef(b)))\n",
    "##pulse mode\n",
    "for a,b in zip(properties_df['temp_pm_ID'],properties_df['paper_id']):\n",
    "    if(\"none\" not in a):\n",
    "        myGraph.add((URIRef(a), attributed_to, URIRef(b)))"
   ]
  },
  {
   "cell_type": "markdown",
   "id": "d9197e99",
   "metadata": {},
   "source": [
    "Linking the working temperatures to the laser working modes"
   ]
  },
  {
   "cell_type": "code",
   "execution_count": 17,
   "id": "e4bd066a",
   "metadata": {},
   "outputs": [],
   "source": [
    "##continous wave mode\n",
    "for a,b in zip(properties_df['temp_cw_ID'],properties_df['paper_id']):\n",
    "    if(\"none\" not in a):\n",
    "        myGraph.add((URIRef(a), corresponds_to_working_mode, continous_wave))\n",
    "##pulse mode\n",
    "for a,b in zip(properties_df['temp_pm_ID'],properties_df['paper_id']):\n",
    "    if(\"none\" not in a):\n",
    "        myGraph.add((URIRef(a), corresponds_to_working_mode, pulsed_mode))"
   ]
  },
  {
   "cell_type": "markdown",
   "id": "fc4267d9",
   "metadata": {},
   "source": [
    "Mapping the Laser Heterostructure to the Design Types"
   ]
  },
  {
   "cell_type": "code",
   "execution_count": 18,
   "id": "80b24fa8",
   "metadata": {},
   "outputs": [],
   "source": [
    "for a,b in zip(properties_df['HS_ID'], properties_df['Design_Type']):\n",
    "    if(\"none\" not in b):\n",
    "        myGraph.add((URIRef(a), has_designtype, b))"
   ]
  },
  {
   "cell_type": "markdown",
   "id": "723e5914",
   "metadata": {},
   "source": [
    "Mapping the Laser Heterostructure to the Heterostructure Materials"
   ]
  },
  {
   "cell_type": "code",
   "execution_count": 19,
   "id": "02678e73",
   "metadata": {},
   "outputs": [],
   "source": [
    "for a,b in zip(properties_df['HS_ID'], properties_df['hs_materials_ID']):\n",
    "    if(\"none\" not in b):\n",
    "            myGraph.add((URIRef(a), has_materials, URIRef(b)))"
   ]
  },
  {
   "cell_type": "markdown",
   "id": "660244ea",
   "metadata": {},
   "source": [
    "Mapping the laser working properties to the Heterostructure"
   ]
  },
  {
   "cell_type": "code",
   "execution_count": 20,
   "id": "084ca545",
   "metadata": {},
   "outputs": [],
   "source": [
    "for a,b in zip(properties_df['temp_cw_ID'], properties_df['HS_ID']):\n",
    "    if(\"none\" not in a and \"none\" not in b):#there can be temperature mentioned without a heterostructure mentioned. \n",
    "        myGraph.add((URIRef(a), relates_to_heterostructure, URIRef(b)))\n",
    "for c,d in zip(properties_df['temp_pm_ID'], properties_df['HS_ID']):\n",
    "    if(\"none\" not in c and \"none\" not in d):\n",
    "        myGraph.add((URIRef(c), relates_to_heterostructure, URIRef(d)))\n",
    "for e,f in zip(properties_df['frequency_ID'], properties_df['HS_ID']):\n",
    "    if(\"none\" not in e and \"none\" not in f):\n",
    "        myGraph.add((URIRef(e), relates_to_heterostructure, URIRef(f))) \n",
    "for g,h in zip(properties_df['power_ID'], properties_df['HS_ID']):\n",
    "    if(\"none\" not in g and \"none\" not in h):\n",
    "        myGraph.add((URIRef(g), relates_to_heterostructure, URIRef(h)))      "
   ]
  },
  {
   "cell_type": "markdown",
   "id": "50b41ce2",
   "metadata": {},
   "source": [
    "Mapping the working properties i.e power, temperature and frequency to the quantity values and quantity kinds"
   ]
  },
  {
   "cell_type": "code",
   "execution_count": 21,
   "id": "0a4a261c",
   "metadata": {},
   "outputs": [],
   "source": [
    "#Quantity Values and Quantity Kinds\n",
    "##power\n",
    "for a,b in zip(properties_df['power_ID'], properties_df['power_value_ID']):\n",
    "    if(\"none\" not in b):\n",
    "        myGraph.add((URIRef(a), has_quantity_value, URIRef(b)))\n",
    "        myGraph.add((URIRef(a), has_quantitykind, power))\n",
    "##frequency\n",
    "for a,b in zip(properties_df['frequency_ID'], properties_df['frequency_value_ID']):\n",
    "    if(\"none\" not in b):\n",
    "        myGraph.add((URIRef(a), has_quantity_value, URIRef(b)))\n",
    "        myGraph.add((URIRef(a), has_quantitykind, frequency))\n",
    "##working temperature\n",
    "for a,b in zip(properties_df['temp_cw_ID'], properties_df['temp_value_cw_ID']):\n",
    "    if(\"none\" not in b):\n",
    "        myGraph.add((URIRef(a), has_quantity_value, URIRef(b)))\n",
    "        myGraph.add((URIRef(a), has_quantitykind, temperature))\n",
    "for a,b in zip(properties_df['temp_pm_ID'], properties_df['temp_value_pm_ID']):\n",
    "    if(\"none\" not in b):\n",
    "        myGraph.add((URIRef(a), has_quantity_value, URIRef(b)))\n",
    "        myGraph.add((URIRef(a), has_quantitykind, temperature))"
   ]
  },
  {
   "cell_type": "markdown",
   "id": "1021e124",
   "metadata": {},
   "source": [
    "Mapping the quantity values with the units"
   ]
  },
  {
   "cell_type": "code",
   "execution_count": 22,
   "id": "c126a3ad",
   "metadata": {},
   "outputs": [],
   "source": [
    "##power\n",
    "for a,b in zip(properties_df['power_value_ID'],properties_df['Power_Unit']):\n",
    "        myGraph.add((URIRef(a), has_unit, URIRef(b)))\n",
    "##frequency\n",
    "for a in properties_df['frequency_value_ID']:\n",
    "        myGraph.add((URIRef(a), has_unit, TeraHertz))\n",
    "##working temperature\n",
    "for a in properties_df['temp_value_cw_ID']:\n",
    "        myGraph.add((URIRef(a), has_unit, Kelvin))\n",
    "for a in properties_df['temp_value_pm_ID']:\n",
    "        myGraph.add((URIRef(a), has_unit, Kelvin))"
   ]
  },
  {
   "cell_type": "markdown",
   "id": "ae7df84e",
   "metadata": {},
   "source": [
    "Mapping the Data Literal Values for Power, Temperature, Frequency and Heterostructure Materials"
   ]
  },
  {
   "cell_type": "code",
   "execution_count": 23,
   "id": "839d7343",
   "metadata": {},
   "outputs": [],
   "source": [
    "#power literal values\n",
    "##power\n",
    "for a,b in zip(properties_df['power_value_ID'],properties_df['Power_Value']):\n",
    "    if (\"none\" not in b):\n",
    "        myGraph.add((URIRef(a), numerical_value, Literal(b, datatype=number)))\n",
    "##frequency\n",
    "for a,b in zip(properties_df['frequency_value_ID'],properties_df['Frequency Value']):\n",
    "    if (\"none\" not in b):\n",
    "        myGraph.add((URIRef(a), numerical_value, Literal(b, datatype=number)))\n",
    "##working temperature\n",
    "for a,b in zip(properties_df['temp_value_cw_ID'], properties_df[\"TemperatureValue_CW\"]):\n",
    "    if (\"none\" not in b):\n",
    "        myGraph.add((URIRef(a), numerical_value, Literal(b, datatype=number)))\n",
    "for a,b in zip(properties_df['temp_value_pm_ID'], properties_df[\"Temperature_ValuePM\"]):\n",
    "    if (\"none\" not in b):\n",
    "        myGraph.add((URIRef(a), numerical_value, Literal(b, datatype=number)))\n",
    "##heterostructure materials\n",
    "for a,b in zip(properties_df['hs_materials_ID'], properties_df['HS_Materials_Formula']):\n",
    "    if (\"none\" not in b):\n",
    "        myGraph.add((URIRef(a), materials_prop, Literal(b, datatype=string)))"
   ]
  },
  {
   "cell_type": "markdown",
   "id": "e397b67e",
   "metadata": {},
   "source": [
    "Assigning Some Labels for Units and Design Types"
   ]
  },
  {
   "cell_type": "code",
   "execution_count": 24,
   "id": "ae734c6f",
   "metadata": {},
   "outputs": [
    {
     "data": {
      "text/plain": [
       "<Graph identifier=N09ca6724e0cf47ef8cda3cb9be81437f (<class 'rdflib.graph.Graph'>)>"
      ]
     },
     "execution_count": 24,
     "metadata": {},
     "output_type": "execute_result"
    }
   ],
   "source": [
    "#Units\n",
    "myGraph.add((Kelvin, RDFS.label, Literal(\"Kelvin\", datatype=string)))\n",
    "myGraph.add((Milliwatt, RDFS.label, Literal(\"Milliwatts\", datatype=string)))\n",
    "myGraph.add((Watt, RDFS.label, Literal(\"Watts\", datatype=string)))\n",
    "myGraph.add((Microwatt, RDFS.label, Literal(\"Microwatts\", datatype=string)))\n",
    "myGraph.add((TeraHertz, RDFS.label, Literal(\"Terahertz\", datatype=string)))\n",
    "#Design Types\n",
    "myGraph.add((lo_phonon, RDFS.label, Literal(\"Longitudinal Optical Phonon Depopulation\", datatype=string)))\n",
    "myGraph.add((bound_continum, RDFS.label, Literal(\"Bound to Continuum\", datatype=string)))\n",
    "myGraph.add((double_resonant, RDFS.label, Literal(\"Resonant Phonon\", datatype=string)))"
   ]
  },
  {
   "cell_type": "code",
   "execution_count": 25,
   "id": "d52484f8",
   "metadata": {},
   "outputs": [
    {
     "name": "stdout",
     "output_type": "stream",
     "text": [
      "Number of Triples:3413\n"
     ]
    }
   ],
   "source": [
    "#number of graph elements in the QCL KG\n",
    "print(f\"Number of Triples:{len(myGraph)}\")"
   ]
  },
  {
   "cell_type": "code",
   "execution_count": 26,
   "id": "3f5fc824",
   "metadata": {},
   "outputs": [],
   "source": [
    "#Serializing the generated RDF data in turtle format\n",
    "kg_data_ttl = myGraph.serialize(format='turtle')\n",
    "# Save the serialized data to a file\n",
    "with open('qcl_KG.ttl', 'wb') as f:\n",
    "    f.write(kg_data_ttl.encode('utf-8'))"
   ]
  },
  {
   "cell_type": "code",
   "execution_count": 27,
   "id": "1103f304",
   "metadata": {},
   "outputs": [],
   "source": [
    "#serialize to rdf/xml format\n",
    "kg_data_rdf = myGraph.serialize(format='xml')\n",
    "# Save the serialized data to a file\n",
    "with open('qcl_KG.rdf', 'wb') as f:\n",
    "    f.write(kg_data_rdf.encode('utf-8'))"
   ]
  }
 ],
 "metadata": {
  "kernelspec": {
   "display_name": "Python 3 (ipykernel)",
   "language": "python",
   "name": "python3"
  },
  "language_info": {
   "codemirror_mode": {
    "name": "ipython",
    "version": 3
   },
   "file_extension": ".py",
   "mimetype": "text/x-python",
   "name": "python",
   "nbconvert_exporter": "python",
   "pygments_lexer": "ipython3",
   "version": "3.11.5"
  }
 },
 "nbformat": 4,
 "nbformat_minor": 5
}
