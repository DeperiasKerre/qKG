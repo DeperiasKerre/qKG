{
 "cells": [
  {
   "cell_type": "markdown",
   "id": "2362bb10",
   "metadata": {},
   "source": [
    "The final KG Generation-Including all the data values, provenace information, references and all relationships."
   ]
  },
  {
   "cell_type": "code",
   "execution_count": 1,
   "id": "5a2630aa",
   "metadata": {},
   "outputs": [],
   "source": [
    "#importing a graph structure and other ontology URIs\n",
    "from rdflib import Graph\n",
    "#import other libraries\n",
    "from rdflib import Graph, Literal, RDF, RDFS, URIRef, OWL, Namespace"
   ]
  },
  {
   "cell_type": "code",
   "execution_count": 2,
   "id": "b5ffbe63",
   "metadata": {},
   "outputs": [
    {
     "data": {
      "text/plain": [
       "<Graph identifier=N70a2632a42c84fe48df5a4c1fb000195 (<class 'rdflib.graph.Graph'>)>"
      ]
     },
     "execution_count": 2,
     "metadata": {},
     "output_type": "execute_result"
    }
   ],
   "source": [
    "#loading the KG containing references\n",
    "myGraph=Graph()\n",
    "myGraph.parse(\"qcl_KG_references.ttl\")"
   ]
  },
  {
   "cell_type": "code",
   "execution_count": 3,
   "id": "15c0a3ca",
   "metadata": {},
   "outputs": [
    {
     "name": "stdout",
     "output_type": "stream",
     "text": [
      "Number of elements:2514\n"
     ]
    }
   ],
   "source": [
    "#number of graph elements\n",
    "print(f\"Number of elements:{len(myGraph)}\")"
   ]
  },
  {
   "cell_type": "code",
   "execution_count": 4,
   "id": "1bfbf480",
   "metadata": {},
   "outputs": [],
   "source": [
    "#binding namespace prefixes\n",
    "##QCL Ontology\n",
    "namespace_qcl_onto = Namespace(\"https://github.com/DeperiasKerre/qcl_Onto/blob/main/qclontology/version-1.0/qclonto.owl#\")\n",
    "myGraph.bind(\"QpOnto\", namespace_qcl_onto)\n",
    "#BIBO ontology\n",
    "namespace_bibo=Namespace(\"https://dcmi.github.io/bibo/#:\")\n",
    "myGraph.bind(\"bibo\", namespace_bibo)\n",
    "##MDO ontology\n",
    "namespace_mdo=Namespace(\"https://w3id.org/mdo/core/\")\n",
    "myGraph.bind(\"mdo\", namespace_mdo)\n",
    "##QUDT-The QUDT ontology has several subdivisions of vocabularies\n",
    "###Units\n",
    "namespace_qudt_units = Namespace(\"https://qudt.org/vocab/unit/\")\n",
    "myGraph.bind(\"QUDT_units\", namespace_qudt_units)\n",
    "###Quantity Kinds\n",
    "namespace_qudt_quantity_kind = Namespace(\"https://qudt.org/vocab/quantitykind/\")\n",
    "myGraph.bind(\"QUDT_quantity_kinds\", namespace_qudt_quantity_kind)\n",
    "###properties\n",
    "namespace_qudt_properties = Namespace(\"https://qudt.org/schema/qudt/\")\n",
    "myGraph.bind(\"QUDT_properties\", namespace_qudt_properties)"
   ]
  },
  {
   "cell_type": "code",
   "execution_count": 5,
   "id": "673b13a5",
   "metadata": {},
   "outputs": [],
   "source": [
    "#URIS for KG Concepts\n",
    "\n",
    "##agent\n",
    "agent=URIRef(\"https://www.w3.org/TR/prov-o/#Agent\")\n",
    "\n",
    "##academic article\n",
    "academic_article=namespace_bibo[\"AcademicArticle\"]\n",
    "\n",
    "##property\n",
    "Property=namespace_mdo[\"Property\"]\n",
    "\n",
    "##laser working mode\n",
    "working_mode=namespace_qcl_onto[\"LaserWorkingMode\"]\n",
    "\n",
    "##optoelectronic characteristics\n",
    "working_temperature=namespace_qcl_onto[\"WorkingTemperature\"]\n",
    "optical_power=namespace_qcl_onto[\"OpticalPower\"]\n",
    "lasing_frequency=namespace_qcl_onto[\"LasingFrequency\"]\n",
    "\n",
    "##laser heterostructure\n",
    "heterostructure=namespace_qcl_onto[\"LaserHeterostructure\"]\n",
    "\n",
    "##heterostructure materials\n",
    "materials=namespace_qcl_onto[\"HeterostructureMaterials\"]\n",
    "\n",
    "##design type\n",
    "laser_design=namespace_qcl_onto[\"LaserDesignType\"]\n",
    "\n",
    "##URIs for quantity Values\n",
    "frequency_value=namespace_qcl_onto[\"FrequencyValue\"]\n",
    "power_value= namespace_qcl_onto[\"PowerValue\"]\n",
    "temperature_value=namespace_qcl_onto[\"WorkingTempValue\"]\n",
    "\n",
    "##URIs for Quantity Kinds\n",
    "power=namespace_qudt_quantity_kind[\"Power\"]\n",
    "frequency=namespace_qudt_quantity_kind[\"Frequency\"]\n",
    "temperature=namespace_qudt_quantity_kind[\"Temperature\"]\n",
    "\n",
    "##URIS for Units\n",
    "Kelvin=namespace_qudt_units[\"K\"]\n",
    "Milliwatt=namespace_qudt_units[\"MilliW\"]\n",
    "TeraHertz=namespace_qudt_units[\"TeraHZ\"]\n",
    "\n",
    "##Laser Working Modes\n",
    "continous_wave=namespace_qcl_onto[\"ContinousWaveOperation\"]\n",
    "pulsed_mode=namespace_qcl_onto[\"PulsedOperation\"]\n",
    "\n",
    "##Laser Design Types\n",
    "lo_phonon=namespace_qcl_onto[\"LOPhononDepopulation\"]\n",
    "bound_continum=namespace_qcl_onto[\"BoundToContinum\"]\n",
    "double_resonant=namespace_qcl_onto[\"DoubleResonantPhonon\"]"
   ]
  },
  {
   "cell_type": "code",
   "execution_count": 6,
   "id": "0c0f45d8",
   "metadata": {},
   "outputs": [],
   "source": [
    "#URIS for properties\n",
    "#URIS for object properties\n",
    "#was attributed to\n",
    "attributed_to=URIRef(\"http://www.w3.org/ns/prov#wasAttributedTo\")\n",
    "#has materials\n",
    "has_materials=namespace_qcl_onto[\"hasMaterials\"]\n",
    "#has quantity kind\n",
    "has_quantitykind=namespace_qudt_properties[\"hasQuantityKind\"]\n",
    "#has design type\n",
    "has_designtype=namespace_qcl_onto[\"hasDesignType\"]\n",
    "#relates to heterostructure\n",
    "relates_to_heterostructure=namespace_qcl_onto[\"relatesToHeterostructure\"]\n",
    "#corresponds to working mode\n",
    "corresponds_to_working_mode=namespace_qcl_onto[\"correspondsToWorkingMode\"]\n",
    "#has unit\n",
    "has_unit=namespace_qudt_properties[\"hasUnit\"]\n",
    "#cites\n",
    "cites= namespace_bibo[\"cites\"]\n",
    "#was attributed to\n",
    "attributed_to=URIRef(\"http://www.w3.org/ns/prov#wasAttributedTo\")\n",
    "#has quantity value\n",
    "has_quantity_value=namespace_qudt_properties[\"hasQuantityValue\"]\n",
    "\n",
    "#URIs for data properties\n",
    "doi_prop=namespace_qcl_onto[\"DOI\"]\n",
    "materials_prop=namespace_qcl_onto[\"matFormula\"]\n",
    "numerical_value=namespace_qudt_properties[\"numericValue\"]\n",
    "publication_url=namespace_qcl_onto[\"URL\"]\n",
    "\n",
    "#datatypes\n",
    "string=URIRef(\"http://www.w3.org/2001/XMLSchema#string\")\n",
    "number=URIRef(\"https://schema.org/Number\")\n",
    "URL=URIRef(\"https://schema.org/URL\")"
   ]
  },
  {
   "cell_type": "code",
   "execution_count": 7,
   "id": "bb6fab1a",
   "metadata": {},
   "outputs": [],
   "source": [
    "#Abstracts DOI and URLS\n",
    "##generating paper IDS based on DOIs and linking the DOIs and the URLS for the abstracts metadata\n",
    "import pandas as pd\n",
    "#load abstracts\n",
    "abstracts_df=pd.read_csv(\"C:/Users/USER/Documents/Projects/KG/Data/abstracts/abstracts.csv\")"
   ]
  },
  {
   "cell_type": "code",
   "execution_count": 8,
   "id": "986629d0",
   "metadata": {},
   "outputs": [],
   "source": [
    "#generate paper IDS based on the DOI\n",
    "qcl_onto_URI=\"https://github.com/DeperiasKerre/qcl_Onto/blob/main/qclontology/version-1.0/qclonto.owl#\"\n",
    "abstracts_df['paper_id']= qcl_onto_URI +\"paper_id/\" + abstracts_df['DOI'].astype(str)\n",
    "#verify new data frame\n",
    "#abstracts_df\n",
    "#storing abstract paper_id in a list\n",
    "abstracts_paper_id_list=abstracts_df['paper_id'].tolist()"
   ]
  },
  {
   "cell_type": "code",
   "execution_count": 10,
   "id": "8ca995ec",
   "metadata": {},
   "outputs": [],
   "source": [
    "#load qcl properties data file\n",
    "properties_df=pd.read_csv(\"C:/Users/USER/Documents/Projects/KG/Data/qcl_data/qcl_data.csv\")"
   ]
  },
  {
   "cell_type": "code",
   "execution_count": 11,
   "id": "3f5fc824",
   "metadata": {},
   "outputs": [],
   "source": [
    "#Serializing the generated RDF data in turtle format\n",
    "kg_data_ttl = myGraph.serialize(format='turtle')\n",
    "# Save the serialized data to a file\n",
    "with open('qcl_KG.ttl', 'wb') as f:\n",
    "    f.write(kg_data_ttl.encode('utf-8'))"
   ]
  },
  {
   "cell_type": "code",
   "execution_count": 12,
   "id": "1103f304",
   "metadata": {},
   "outputs": [],
   "source": [
    "#serialize to rdf/xml format\n",
    "kg_data_rdf = myGraph.serialize(format='xml')\n",
    "# Save the serialized data to a file\n",
    "with open('qcl_KG.rdf', 'wb') as f:\n",
    "    f.write(kg_data_rdf.encode('utf-8'))"
   ]
  },
  {
   "cell_type": "code",
   "execution_count": null,
   "id": "f3823419",
   "metadata": {},
   "outputs": [],
   "source": []
  }
 ],
 "metadata": {
  "kernelspec": {
   "display_name": "Python 3 (ipykernel)",
   "language": "python",
   "name": "python3"
  },
  "language_info": {
   "codemirror_mode": {
    "name": "ipython",
    "version": 3
   },
   "file_extension": ".py",
   "mimetype": "text/x-python",
   "name": "python",
   "nbconvert_exporter": "python",
   "pygments_lexer": "ipython3",
   "version": "3.11.5"
  }
 },
 "nbformat": 4,
 "nbformat_minor": 5
}
