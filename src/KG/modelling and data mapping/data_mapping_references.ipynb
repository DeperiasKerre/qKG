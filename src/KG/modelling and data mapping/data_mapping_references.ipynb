{
 "cells": [
  {
   "cell_type": "code",
   "execution_count": 1,
   "id": "573b0296",
   "metadata": {},
   "outputs": [],
   "source": [
    "#importing a graph structure and other ontology URIs\n",
    "from rdflib import Graph\n",
    "#import other libraries\n",
    "from rdflib import Graph, Literal, RDF, RDFS, URIRef, OWL, Namespace"
   ]
  },
  {
   "cell_type": "code",
   "execution_count": 2,
   "id": "edf4ddb1",
   "metadata": {},
   "outputs": [
    {
     "data": {
      "text/plain": [
       "<Graph identifier=N85e527370c6c41c0a0f3a678e2aac0c5 (<class 'rdflib.graph.Graph'>)>"
      ]
     },
     "execution_count": 2,
     "metadata": {},
     "output_type": "execute_result"
    }
   ],
   "source": [
    "#loading th KG schema\n",
    "myGraph=Graph()\n",
    "myGraph.parse(\"KG_Schema.ttl\")"
   ]
  },
  {
   "cell_type": "code",
   "execution_count": 3,
   "id": "3eb8fb03",
   "metadata": {},
   "outputs": [
    {
     "name": "stdout",
     "output_type": "stream",
     "text": [
      "Number of elements:29\n"
     ]
    }
   ],
   "source": [
    "#number of graph elements\n",
    "print(f\"Number of elements:{len(myGraph)}\")"
   ]
  },
  {
   "cell_type": "code",
   "execution_count": 4,
   "id": "bdee1e35",
   "metadata": {},
   "outputs": [],
   "source": [
    "#binding namespace prefixes\n",
    "##QCL Ontology\n",
    "namespace_qcl_onto = Namespace(\"https://github.com/DeperiasKerre/qcl_Onto/blob/main/qclontology/version-1.0/qclonto.owl#\")\n",
    "myGraph.bind(\"QpOnto\", namespace_qcl_onto)\n",
    "#BIBO ontology\n",
    "namespace_bibo=Namespace(\"https://dcmi.github.io/bibo/#:\")\n",
    "myGraph.bind(\"bibo\", namespace_bibo)\n",
    "##MDO ontology\n",
    "namespace_mdo=Namespace(\"https://w3id.org/mdo/core/\")\n",
    "myGraph.bind(\"mdo\", namespace_mdo)\n",
    "##QUDT-The QUDT ontology has several subdivisions of vocabularies\n",
    "###Units\n",
    "namespace_qudt_units = Namespace(\"https://qudt.org/vocab/unit/\")\n",
    "myGraph.bind(\"QUDT_units\", namespace_qudt_units)\n",
    "###Quantity Kinds\n",
    "namespace_qudt_quantity_kind = Namespace(\"https://qudt.org/vocab/quantitykind/\")\n",
    "myGraph.bind(\"QUDT_quantity_kinds\", namespace_qudt_quantity_kind)\n",
    "###properties\n",
    "namespace_qudt_properties = Namespace(\"https://qudt.org/schema/qudt/\")\n",
    "myGraph.bind(\"QUDT_properties\", namespace_qudt_properties)"
   ]
  },
  {
   "cell_type": "code",
   "execution_count": 5,
   "id": "f987a32c",
   "metadata": {},
   "outputs": [],
   "source": [
    "#URIS for KG Concepts\n",
    "\n",
    "##agent\n",
    "agent=URIRef(\"https://www.w3.org/TR/prov-o/#Agent\")\n",
    "\n",
    "##academic article\n",
    "academic_article=namespace_bibo[\"AcademicArticle\"]\n",
    "\n",
    "##property\n",
    "Property=namespace_mdo[\"Property\"]\n",
    "\n",
    "##laser working mode\n",
    "working_mode=namespace_qcl_onto[\"LaserWorkingMode\"]\n",
    "\n",
    "##optoelectronic characteristics\n",
    "working_temperature=namespace_qcl_onto[\"WorkingTemperature\"]\n",
    "optical_power=namespace_qcl_onto[\"OpticalPower\"]\n",
    "lasing_frequency=namespace_qcl_onto[\"LasingFrequency\"]\n",
    "\n",
    "##laser heterostructure\n",
    "heterostructure=namespace_qcl_onto[\"LaserHeterostructure\"]\n",
    "\n",
    "##heterostructure materials\n",
    "materials=namespace_qcl_onto[\"HeterostructureMaterials\"]\n",
    "\n",
    "##design type\n",
    "laser_design=namespace_qcl_onto[\"LaserDesignType\"]\n",
    "\n",
    "##URIs for quantity Values\n",
    "frequency_value=namespace_qcl_onto[\"FrequencyValue\"]\n",
    "power_value= namespace_qcl_onto[\"PowerValue\"]\n",
    "temperature_value=namespace_qcl_onto[\"WorkingTempValue\"]\n",
    "\n",
    "##URIs for Quantity Kinds\n",
    "power=namespace_qudt_quantity_kind[\"Power\"]\n",
    "frequency=namespace_qudt_quantity_kind[\"Frequency\"]\n",
    "temperature=namespace_qudt_quantity_kind[\"Temperature\"]\n",
    "\n",
    "##URIS for Units\n",
    "Kelvin=namespace_qudt_units[\"K\"]\n",
    "Milliwatt=namespace_qudt_units[\"MilliW\"]\n",
    "TeraHertz=namespace_qudt_units[\"TeraHZ\"]\n",
    "\n",
    "##Laser Working Modes\n",
    "continous_wave=namespace_qcl_onto[\"ContinousWaveOperation\"]\n",
    "pulsed_mode=namespace_qcl_onto[\"PulsedOperation\"]\n",
    "\n",
    "##Laser Design Types\n",
    "lo_phonon=namespace_qcl_onto[\"LOPhononDepopulation\"]\n",
    "bound_continum=namespace_qcl_onto[\"BoundToContinum\"]\n",
    "double_resonant=namespace_qcl_onto[\"DoubleResonantPhonon\"]"
   ]
  },
  {
   "cell_type": "code",
   "execution_count": 6,
   "id": "df45c062",
   "metadata": {},
   "outputs": [],
   "source": [
    "#URIS for properties\n",
    "#URIS for object properties\n",
    "#was attributed to\n",
    "attributed_to=URIRef(\"http://www.w3.org/ns/prov#wasAttributedTo\")\n",
    "#has materials\n",
    "has_materials=namespace_qcl_onto[\"hasMaterials\"]\n",
    "#has quantity kind\n",
    "has_quantitykind=namespace_qudt_properties[\"hasQuantityKind\"]\n",
    "#has design type\n",
    "has_designtype=namespace_qcl_onto[\"hasDesignType\"]\n",
    "#relates to heterostructure\n",
    "relates_to_heterostructure=namespace_qcl_onto[\"relatesToHeterostructure\"]\n",
    "#corresponds to working mode\n",
    "corresponds_to_working_mode=namespace_qcl_onto[\"correspondsToWorkingMode\"]\n",
    "#has unit\n",
    "has_unit=namespace_qudt_properties[\"hasUnit\"]\n",
    "#cites\n",
    "cites= namespace_bibo[\"cites\"]\n",
    "#was attributed to\n",
    "attributed_to=URIRef(\"http://www.w3.org/ns/prov#wasAttributedTo\")\n",
    "#has quantity value\n",
    "has_quantity_value=namespace_qudt_properties[\"hasQuantityValue\"]\n",
    "\n",
    "#URIs for data properties\n",
    "doi_prop=namespace_qcl_onto[\"DOI\"]\n",
    "materials_prop=namespace_qcl_onto[\"matFormula\"]\n",
    "numerical_value=namespace_qudt_properties[\"numericValue\"]\n",
    "publication_url=namespace_qcl_onto[\"URL\"]\n",
    "\n",
    "#datatypes\n",
    "string=URIRef(\"http://www.w3.org/2001/XMLSchema#string\")\n",
    "number=URIRef(\"https://schema.org/Number\")\n",
    "URL=URIRef(\"https://schema.org/URL\")"
   ]
  },
  {
   "cell_type": "code",
   "execution_count": 7,
   "id": "756dd120",
   "metadata": {},
   "outputs": [],
   "source": [
    "#Abstracts DOI and URLS\n",
    "##generating paper IDS based on DOIs and linking the DOIs and the URLS for the abstracts metadata\n",
    "import pandas as pd\n",
    "#load abstracts\n",
    "abstracts_df=pd.read_csv(\"C:/Users/USER/Documents/Projects/KG/Data/abstracts/abstracts.csv\")"
   ]
  },
  {
   "cell_type": "code",
   "execution_count": 8,
   "id": "6d81f7f7",
   "metadata": {},
   "outputs": [],
   "source": [
    "#generate paper IDS based on the DOI\n",
    "qcl_onto_URI=\"https://github.com/DeperiasKerre/qcl_Onto/blob/main/qclontology/version-1.0/qclonto.owl#\"\n",
    "abstracts_df['paper_id']= qcl_onto_URI +\"paper_id/\" + abstracts_df['DOI'].astype(str)\n",
    "#verify new data frame\n",
    "#abstracts_df"
   ]
  },
  {
   "cell_type": "code",
   "execution_count": 9,
   "id": "cb281acd",
   "metadata": {},
   "outputs": [],
   "source": [
    "#link paper IDS, URL and DOIs\n",
    "for a,b,c in zip(abstracts_df['paper_id'], abstracts_df['URL'],abstracts_df['DOI']):\n",
    "    myGraph.add((URIRef(a), RDF.type, (academic_article)))\n",
    "    myGraph.add((URIRef(a), publication_url, Literal(b,datatype=URL)))\n",
    "    myGraph.add((URIRef(a), doi_prop, Literal(c,datatype=string)))"
   ]
  },
  {
   "cell_type": "code",
   "execution_count": 10,
   "id": "968d4ae3",
   "metadata": {},
   "outputs": [],
   "source": [
    "#processing the abstract references/citations per abstract\n",
    "abstracts_paper_id_list=abstracts_df['paper_id'].tolist()\n",
    "#abstract 1 paper ID\n",
    "abstract1_paper_id=abstracts_paper_id_list[0]\n",
    "#load references\n",
    "references1_df=pd.read_csv(\"C:/Users/USER/Documents/Projects/KG/Data/references/abstract 1.csv\")\n",
    "#generating paper ids for references\n",
    "references1_df['paper_id']= qcl_onto_URI +\"paper_id/\" + references1_df['DOI'].astype(str)\n",
    "#link each reference paper ID to its DOI and URL\n",
    "for a,b,c in zip(references1_df['paper_id'], references1_df['URL'],references1_df['DOI']):\n",
    "    myGraph.add((URIRef(a), RDF.type, (academic_article)))\n",
    "    myGraph.add((URIRef(abstract1_paper_id), cites, URIRef(a)))#map the citations with the abstract paper ID \n",
    "    myGraph.add((URIRef(a), publication_url, Literal(b, datatype=URL)))\n",
    "    myGraph.add((URIRef(a), doi_prop, Literal(c,datatype=string)))"
   ]
  },
  {
   "cell_type": "code",
   "execution_count": 11,
   "id": "b20e3385",
   "metadata": {},
   "outputs": [],
   "source": [
    "#abstract 2 paper ID\n",
    "abstract2_paper_id=abstracts_paper_id_list[1]\n",
    "#load references\n",
    "references2_df=pd.read_csv(\"C:/Users/USER/Documents/Projects/KG/Data/references/abstract 2.csv\")\n",
    "#generating paper ids for references\n",
    "references2_df['paper_id']= qcl_onto_URI +\"paper_id/\" + references2_df['DOI'].astype(str)\n",
    "#link each reference paper ID to its DOI and URL\n",
    "for a,b,c in zip(references2_df['paper_id'], references2_df['URL'],references2_df['DOI']):\n",
    "    myGraph.add((URIRef(a), RDF.type, (academic_article)))\n",
    "    myGraph.add((URIRef(abstract2_paper_id), cites, URIRef(a)))#map the citations with the abstract paper ID\n",
    "    myGraph.add((URIRef(a), publication_url, Literal(b,datatype=URL)))\n",
    "    myGraph.add((URIRef(a), doi_prop, Literal(c,datatype=string))) "
   ]
  },
  {
   "cell_type": "code",
   "execution_count": 12,
   "id": "46bbf83c",
   "metadata": {},
   "outputs": [],
   "source": [
    "#abstract 3 paper ID\n",
    "abstract3_paper_id=abstracts_paper_id_list[2]\n",
    "#load references\n",
    "references3_df=pd.read_csv(\"C:/Users/USER/Documents/Projects/KG/Data/references/abstract 3.csv\")\n",
    "#generating paper ids for references\n",
    "references3_df['paper_id']= qcl_onto_URI +\"paper_id/\" + references3_df['DOI'].astype(str)\n",
    "#link each reference paper ID to its DOI and URL\n",
    "for a,b,c in zip(references3_df['paper_id'], references3_df['URL'],references3_df['DOI']):\n",
    "    myGraph.add((URIRef(a), RDF.type, (academic_article)))\n",
    "    myGraph.add((URIRef(abstract3_paper_id), cites, URIRef(a)))#map the citations with the abstract paper ID\n",
    "    myGraph.add((URIRef(a), publication_url, Literal(b,datatype=URL)))\n",
    "    myGraph.add((URIRef(a), doi_prop, Literal(c,datatype=string)))"
   ]
  },
  {
   "cell_type": "code",
   "execution_count": 13,
   "id": "3e9b9b64",
   "metadata": {},
   "outputs": [],
   "source": [
    "#abstract 4 paper ID\n",
    "abstract4_paper_id=abstracts_paper_id_list[3]\n",
    "#load references\n",
    "references4_df=pd.read_csv(\"C:/Users/USER/Documents/Projects/KG/Data/references/abstract 4.csv\")\n",
    "#generating paper ids for references\n",
    "references4_df['paper_id']= qcl_onto_URI +\"paper_id/\" + references4_df['DOI'].astype(str)\n",
    "#link each reference paper ID to its DOI and URL\n",
    "for a,b,c in zip(references4_df['paper_id'], references4_df['URL'],references4_df['DOI']):\n",
    "    myGraph.add((URIRef(a), RDF.type, (academic_article)))\n",
    "    myGraph.add((URIRef(abstract4_paper_id), cites, URIRef(a)))#map the citations with the abstract paper ID\n",
    "    myGraph.add((URIRef(a), publication_url, Literal(b,datatype=URL)))\n",
    "    myGraph.add((URIRef(a), doi_prop, Literal(c,datatype=string)))"
   ]
  },
  {
   "cell_type": "code",
   "execution_count": 14,
   "id": "e6436dad",
   "metadata": {},
   "outputs": [],
   "source": [
    "#abstract 5 paper ID\n",
    "abstract5_paper_id=abstracts_paper_id_list[4]\n",
    "#load references\n",
    "references5_df=pd.read_csv(\"C:/Users/USER/Documents/Projects/KG/Data/references/abstract 5.csv\")\n",
    "#generating paper ids for references\n",
    "references5_df['paper_id']= qcl_onto_URI +\"paper_id/\" + references5_df['DOI'].astype(str)\n",
    "#link each reference paper ID to its DOI and URL\n",
    "for a,b,c in zip(references5_df['paper_id'], references5_df['URL'],references5_df['DOI']):\n",
    "    myGraph.add((URIRef(a), RDF.type, (academic_article)))\n",
    "    myGraph.add((URIRef(abstract5_paper_id), cites, URIRef(a)))#map the citations with the abstract paper ID\n",
    "    myGraph.add((URIRef(a), publication_url, Literal(b,datatype=URL)))\n",
    "    myGraph.add((URIRef(a), doi_prop, Literal(c,datatype=string)))"
   ]
  },
  {
   "cell_type": "code",
   "execution_count": 15,
   "id": "d0322208",
   "metadata": {},
   "outputs": [],
   "source": [
    "#abstract 6 paper ID\n",
    "abstract6_paper_id=abstracts_paper_id_list[5]\n",
    "#load references\n",
    "references6_df=pd.read_csv(\"C:/Users/USER/Documents/Projects/KG/Data/references/abstract 6.csv\")\n",
    "#generating paper ids for references\n",
    "references6_df['paper_id']= qcl_onto_URI +\"paper_id/\" + references6_df['DOI'].astype(str)\n",
    "#link each reference paper ID to its DOI and URL\n",
    "for a,b,c in zip(references6_df['paper_id'], references6_df['URL'],references6_df['DOI']):\n",
    "    myGraph.add((URIRef(a), RDF.type, (academic_article)))\n",
    "    myGraph.add((URIRef(abstract6_paper_id), cites, URIRef(a)))#map the citations with the abstract paper ID\n",
    "    myGraph.add((URIRef(a), publication_url, Literal(b,datatype=URL)))\n",
    "    myGraph.add((URIRef(a), doi_prop, Literal(c,datatype=string))) "
   ]
  },
  {
   "cell_type": "code",
   "execution_count": 16,
   "id": "41c21a8e",
   "metadata": {},
   "outputs": [],
   "source": [
    "#abstract 7 paper ID\n",
    "abstract7_paper_id=abstracts_paper_id_list[6]\n",
    "#load references\n",
    "references7_df=pd.read_csv(\"C:/Users/USER/Documents/Projects/KG/Data/references/abstract 7.csv\")\n",
    "#generating paper ids for references\n",
    "references7_df['paper_id']= qcl_onto_URI +\"paper_id/\" + references7_df['DOI'].astype(str)\n",
    "#link each reference paper ID to its DOI and URL\n",
    "for a,b,c in zip(references7_df['paper_id'], references7_df['URL'],references7_df['DOI']):\n",
    "    myGraph.add((URIRef(a), RDF.type, (academic_article)))\n",
    "    myGraph.add((URIRef(abstract7_paper_id), cites, URIRef(a)))#map the citations with the abstract paper ID\n",
    "    myGraph.add((URIRef(a), publication_url, Literal(b,datatype=URL)))\n",
    "    myGraph.add((URIRef(a), doi_prop, Literal(c,datatype=string)))"
   ]
  },
  {
   "cell_type": "code",
   "execution_count": 17,
   "id": "e84d1b58",
   "metadata": {},
   "outputs": [],
   "source": [
    "#abstract 8 paper ID\n",
    "abstract8_paper_id=abstracts_paper_id_list[7]\n",
    "#load references\n",
    "references8_df=pd.read_csv(\"C:/Users/USER/Documents/Projects/KG/Data/references/abstract 8.csv\")\n",
    "#generating paper ids for references\n",
    "references8_df['paper_id']= qcl_onto_URI +\"paper_id/\" + references8_df['DOI'].astype(str)\n",
    "#link each reference paper ID to its DOI and URL\n",
    "for a,b,c in zip(references8_df['paper_id'], references8_df['URL'],references8_df['DOI']):\n",
    "    myGraph.add((URIRef(a), RDF.type, (academic_article)))\n",
    "    myGraph.add((URIRef(abstract8_paper_id), cites, URIRef(a)))#map the citations with the abstract paper ID\n",
    "    myGraph.add((URIRef(a), publication_url, Literal(b,datatype=URL)))\n",
    "    myGraph.add((URIRef(a), doi_prop, Literal(c,datatype=string)))"
   ]
  },
  {
   "cell_type": "code",
   "execution_count": 18,
   "id": "da974514",
   "metadata": {},
   "outputs": [],
   "source": [
    "#abstract 9 paper ID\n",
    "abstract9_paper_id=abstracts_paper_id_list[8]\n",
    "#load references\n",
    "references9_df=pd.read_csv(\"C:/Users/USER/Documents/Projects/KG/Data/references/abstract 9.csv\")\n",
    "#generating paper ids for references\n",
    "references9_df['paper_id']= qcl_onto_URI +\"paper_id/\" + references9_df['DOI'].astype(str)\n",
    "#link each reference paper ID to its DOI and URL\n",
    "for a,b,c in zip(references9_df['paper_id'], references9_df['URL'],references9_df['DOI']):\n",
    "    myGraph.add((URIRef(a), RDF.type, (academic_article)))\n",
    "    myGraph.add((URIRef(abstract9_paper_id), cites, URIRef(a)))#map the citations with the abstract paper ID\n",
    "    myGraph.add((URIRef(a), publication_url, Literal(b,datatype=URL)))\n",
    "    myGraph.add((URIRef(a), doi_prop, Literal(c,datatype=string)))"
   ]
  },
  {
   "cell_type": "code",
   "execution_count": 19,
   "id": "e0eb0a4c",
   "metadata": {},
   "outputs": [],
   "source": [
    "#abstract 10 paper ID\n",
    "abstract10_paper_id=abstracts_paper_id_list[9]\n",
    "#load references\n",
    "references10_df=pd.read_csv(\"C:/Users/USER/Documents/Projects/KG/Data/references/abstract 10.csv\")\n",
    "#generating paper ids for references\n",
    "references10_df['paper_id']= qcl_onto_URI +\"paper_id/\" + references10_df['DOI'].astype(str)\n",
    "#link each reference paper ID to its DOI and URL\n",
    "for a,b,c in zip(references10_df['paper_id'], references10_df['URL'],references10_df['DOI']):\n",
    "    myGraph.add((URIRef(a), RDF.type, (academic_article)))\n",
    "    myGraph.add((URIRef(abstract10_paper_id), cites, URIRef(a)))#map the citations with the abstract paper ID\n",
    "    myGraph.add((URIRef(a), publication_url, Literal(b,datatype=URL)))\n",
    "    myGraph.add((URIRef(a), doi_prop, Literal(c,datatype=string)))"
   ]
  },
  {
   "cell_type": "code",
   "execution_count": 20,
   "id": "cc1c3ead",
   "metadata": {},
   "outputs": [],
   "source": [
    "#abstract 11 paper ID\n",
    "abstract11_paper_id=abstracts_paper_id_list[10]\n",
    "#load references\n",
    "references11_df=pd.read_csv(\"C:/Users/USER/Documents/Projects/KG/Data/references/abstract 11.csv\")\n",
    "#generating paper ids for references\n",
    "references11_df['paper_id']= qcl_onto_URI +\"paper_id/\" + references11_df['DOI'].astype(str)\n",
    "#link each reference paper ID to its DOI and URL\n",
    "for a,b,c in zip(references11_df['paper_id'], references11_df['URL'],references11_df['DOI']):\n",
    "    myGraph.add((URIRef(a), RDF.type, (academic_article)))\n",
    "    myGraph.add((URIRef(abstract11_paper_id), cites, URIRef(a)))#map the citations with the abstract paper ID\n",
    "    myGraph.add((URIRef(a), publication_url, Literal(b,datatype=URL)))\n",
    "    myGraph.add((URIRef(a), doi_prop, Literal(c,datatype=string)))"
   ]
  },
  {
   "cell_type": "code",
   "execution_count": 21,
   "id": "14eb0127",
   "metadata": {},
   "outputs": [],
   "source": [
    "#abstract 12 paper ID\n",
    "abstract12_paper_id=abstracts_paper_id_list[11]\n",
    "#load references\n",
    "references12_df=pd.read_csv(\"C:/Users/USER/Documents/Projects/KG/Data/references/abstract 12.csv\")\n",
    "#generating paper ids for references\n",
    "references12_df['paper_id']= qcl_onto_URI +\"paper_id/\" + references12_df['DOI'].astype(str)\n",
    "#link each reference paper ID to its DOI and URL\n",
    "for a,b,c in zip(references12_df['paper_id'], references12_df['URL'],references12_df['DOI']):\n",
    "    myGraph.add((URIRef(a), RDF.type, (academic_article)))\n",
    "    myGraph.add((URIRef(abstract12_paper_id), cites, URIRef(a)))#map the citations with the abstract paper ID\n",
    "    myGraph.add((URIRef(a), publication_url, Literal(b,datatype=URL)))\n",
    "    myGraph.add((URIRef(a), doi_prop, Literal(c,datatype=string)))"
   ]
  },
  {
   "cell_type": "code",
   "execution_count": 22,
   "id": "d64e4394",
   "metadata": {},
   "outputs": [],
   "source": [
    "#abstract 13 paper ID\n",
    "abstract13_paper_id=abstracts_paper_id_list[12]\n",
    "#load references\n",
    "references13_df=pd.read_csv(\"C:/Users/USER/Documents/Projects/KG/Data/references/abstract 13.csv\")\n",
    "#generating paper ids for references\n",
    "references13_df['paper_id']= qcl_onto_URI +\"paper_id/\" + references13_df['DOI'].astype(str)\n",
    "#link each reference paper ID to its DOI and URL\n",
    "for a,b,c in zip(references13_df['paper_id'], references13_df['URL'],references13_df['DOI']):\n",
    "    myGraph.add((URIRef(a), RDF.type, (academic_article)))\n",
    "    myGraph.add((URIRef(abstract13_paper_id), cites, URIRef(a)))#map the citations with the abstract paper ID\n",
    "    myGraph.add((URIRef(a), publication_url, Literal(b,datatype=URL)))\n",
    "    myGraph.add((URIRef(a), doi_prop, Literal(c,datatype=string)))"
   ]
  },
  {
   "cell_type": "code",
   "execution_count": 23,
   "id": "8aa1c92d",
   "metadata": {},
   "outputs": [],
   "source": [
    "#abstract 14 paper ID\n",
    "abstract14_paper_id=abstracts_paper_id_list[13]\n",
    "#load references\n",
    "references14_df=pd.read_csv(\"C:/Users/USER/Documents/Projects/KG/Data/references/abstract 14.csv\")\n",
    "#generating paper ids for references\n",
    "references14_df['paper_id']= qcl_onto_URI +\"paper_id/\" + references14_df['DOI'].astype(str)\n",
    "#link each reference paper ID to its DOI and URL\n",
    "for a,b,c in zip(references14_df['paper_id'], references14_df['URL'],references14_df['DOI']):\n",
    "    myGraph.add((URIRef(a), RDF.type, (academic_article)))\n",
    "    myGraph.add((URIRef(abstract14_paper_id), cites, URIRef(a)))#map the citations with the abstract paper ID\n",
    "    myGraph.add((URIRef(a), publication_url, Literal(b,datatype=URL)))\n",
    "    myGraph.add((URIRef(a), doi_prop, Literal(c,datatype=string)))"
   ]
  },
  {
   "cell_type": "code",
   "execution_count": 24,
   "id": "dbeb4f58",
   "metadata": {},
   "outputs": [],
   "source": [
    "#abstract 15 paper ID\n",
    "abstract15_paper_id=abstracts_paper_id_list[14]\n",
    "#load references\n",
    "references15_df=pd.read_csv(\"C:/Users/USER/Documents/Projects/KG/Data/references/abstract 15.csv\")\n",
    "#generating paper ids for references\n",
    "references15_df['paper_id']= qcl_onto_URI +\"paper_id/\" + references15_df['DOI'].astype(str)\n",
    "#link each reference paper ID to its DOI and URL\n",
    "for a,b,c in zip(references15_df['paper_id'], references15_df['URL'],references15_df['DOI']):\n",
    "    myGraph.add((URIRef(a), RDF.type, (academic_article)))\n",
    "    myGraph.add((URIRef(abstract15_paper_id), cites, URIRef(a)))#map the citations with the abstract paper ID\n",
    "    myGraph.add((URIRef(a), publication_url, Literal(b,datatype=URL)))\n",
    "    myGraph.add((URIRef(a), doi_prop, Literal(c,datatype=string)))"
   ]
  },
  {
   "cell_type": "code",
   "execution_count": 25,
   "id": "3d94f339",
   "metadata": {},
   "outputs": [],
   "source": [
    "#abstract 16 paper ID\n",
    "abstract16_paper_id=abstracts_paper_id_list[15]\n",
    "#load references\n",
    "references16_df=pd.read_csv(\"C:/Users/USER/Documents/Projects/KG/Data/references/abstract 16.csv\")\n",
    "#generating paper ids for references\n",
    "references16_df['paper_id']= qcl_onto_URI +\"paper_id/\" + references16_df['DOI'].astype(str)\n",
    "#link each reference paper ID to its DOI and URL\n",
    "for a,b,c in zip(references16_df['paper_id'], references16_df['URL'],references16_df['DOI']):\n",
    "    myGraph.add((URIRef(a), RDF.type, (academic_article)))\n",
    "    myGraph.add((URIRef(abstract16_paper_id), cites, URIRef(a)))#map the citations with the abstract paper ID\n",
    "    myGraph.add((URIRef(a), publication_url, Literal(b,datatype=URL)))\n",
    "    myGraph.add((URIRef(a), doi_prop, Literal(c,datatype=string)))"
   ]
  },
  {
   "cell_type": "code",
   "execution_count": 26,
   "id": "1f39fc14",
   "metadata": {},
   "outputs": [],
   "source": [
    "#abstract 17 paper ID\n",
    "abstract17_paper_id=abstracts_paper_id_list[16]\n",
    "#load references\n",
    "references17_df=pd.read_csv(\"C:/Users/USER/Documents/Projects/KG/Data/references/abstract 17.csv\")\n",
    "#generating paper ids for references\n",
    "references17_df['paper_id']= qcl_onto_URI +\"paper_id/\" + references17_df['DOI'].astype(str)\n",
    "#link each reference paper ID to its DOI and URL\n",
    "for a,b,c in zip(references17_df['paper_id'], references17_df['URL'],references17_df['DOI']):\n",
    "    myGraph.add((URIRef(a), RDF.type, (academic_article)))\n",
    "    myGraph.add((URIRef(abstract17_paper_id), cites, URIRef(a)))#map the citations with the abstract paper ID\n",
    "    myGraph.add((URIRef(a), publication_url, Literal(b,datatype=URL)))\n",
    "    myGraph.add((URIRef(a), doi_prop, Literal(c,datatype=string)))"
   ]
  },
  {
   "cell_type": "code",
   "execution_count": 27,
   "id": "fe4512b8",
   "metadata": {},
   "outputs": [],
   "source": [
    "#abstract 18 paper ID\n",
    "abstract18_paper_id=abstracts_paper_id_list[17]\n",
    "#load references\n",
    "references18_df=pd.read_csv(\"C:/Users/USER/Documents/Projects/KG/Data/references/abstract 18.csv\")\n",
    "#generating paper ids for references\n",
    "references18_df['paper_id']= qcl_onto_URI +\"paper_id/\" + references18_df['DOI'].astype(str)\n",
    "#link each reference paper ID to its DOI and URL\n",
    "for a,b,c in zip(references18_df['paper_id'], references18_df['URL'],references18_df['DOI']):\n",
    "    myGraph.add((URIRef(a), RDF.type, (academic_article)))\n",
    "    myGraph.add((URIRef(abstract18_paper_id), cites, URIRef(a)))#map the citations with the abstract paper ID\n",
    "    myGraph.add((URIRef(a), publication_url, Literal(b,datatype=URL)))\n",
    "    myGraph.add((URIRef(a), doi_prop, Literal(c,datatype=string)))"
   ]
  },
  {
   "cell_type": "code",
   "execution_count": 28,
   "id": "9527d47b",
   "metadata": {},
   "outputs": [],
   "source": [
    "#abstract 19 paper ID\n",
    "abstract19_paper_id=abstracts_paper_id_list[18]\n",
    "#load references\n",
    "references19_df=pd.read_csv(\"C:/Users/USER/Documents/Projects/KG/Data/references/abstract 19.csv\")\n",
    "#generating paper ids for references\n",
    "references19_df['paper_id']= qcl_onto_URI +\"paper_id/\" + references19_df['DOI'].astype(str)\n",
    "#link each reference paper ID to its DOI and URL\n",
    "for a,b,c in zip(references19_df['paper_id'], references19_df['URL'],references19_df['DOI']):\n",
    "    myGraph.add((URIRef(a), RDF.type, (academic_article)))\n",
    "    myGraph.add((URIRef(abstract19_paper_id), cites, URIRef(a)))#map the citations with the abstract paper ID\n",
    "    myGraph.add((URIRef(a), publication_url, Literal(b,datatype=URL)))\n",
    "    myGraph.add((URIRef(a), doi_prop, Literal(c,datatype=string)))"
   ]
  },
  {
   "cell_type": "code",
   "execution_count": 29,
   "id": "077e89c6",
   "metadata": {},
   "outputs": [],
   "source": [
    "#abstract 20 paper ID\n",
    "abstract20_paper_id=abstracts_paper_id_list[19]\n",
    "#load references\n",
    "references20_df=pd.read_csv(\"C:/Users/USER/Documents/Projects/KG/Data/references/abstract 20.csv\")\n",
    "#generating paper ids for references\n",
    "references20_df['paper_id']= qcl_onto_URI +\"paper_id/\" + references20_df['DOI'].astype(str)\n",
    "#link each reference paper ID to its DOI and URL\n",
    "for a,b,c in zip(references20_df['paper_id'], references20_df['URL'],references20_df['DOI']):\n",
    "    myGraph.add((URIRef(a), RDF.type, (academic_article)))\n",
    "    myGraph.add((URIRef(abstract20_paper_id), cites, URIRef(a)))#map the citations with the abstract paper ID\n",
    "    myGraph.add((URIRef(a), publication_url, Literal(b,datatype=URL)))\n",
    "    myGraph.add((URIRef(a), doi_prop, Literal(c,datatype=string)))"
   ]
  },
  {
   "cell_type": "code",
   "execution_count": 30,
   "id": "b702050b",
   "metadata": {},
   "outputs": [],
   "source": [
    "#abstract 21 paper ID\n",
    "abstract21_paper_id=abstracts_paper_id_list[20]\n",
    "#load references\n",
    "references21_df=pd.read_csv(\"C:/Users/USER/Documents/Projects/KG/Data/references/abstract 21.csv\")\n",
    "#generating paper ids for references\n",
    "references21_df['paper_id']= qcl_onto_URI +\"paper_id/\" + references21_df['DOI'].astype(str)\n",
    "#link each reference paper ID to its DOI and URL\n",
    "for a,b,c in zip(references21_df['paper_id'], references21_df['URL'],references21_df['DOI']):\n",
    "    myGraph.add((URIRef(a), RDF.type, (academic_article)))\n",
    "    myGraph.add((URIRef(abstract21_paper_id), cites, URIRef(a)))#map the citations with the abstract paper ID\n",
    "    myGraph.add((URIRef(a), publication_url, Literal(b,datatype=URL)))\n",
    "    myGraph.add((URIRef(a), doi_prop, Literal(c,datatype=string)))"
   ]
  },
  {
   "cell_type": "code",
   "execution_count": 31,
   "id": "54887d7a",
   "metadata": {},
   "outputs": [],
   "source": [
    "#abstract 22 paper ID\n",
    "abstract22_paper_id=abstracts_paper_id_list[21]\n",
    "#load references\n",
    "references22_df=pd.read_csv(\"C:/Users/USER/Documents/Projects/KG/Data/references/abstract 22.csv\")\n",
    "#generating paper ids for references\n",
    "references22_df['paper_id']= qcl_onto_URI +\"paper_id/\" + references22_df['DOI'].astype(str)\n",
    "#link each reference paper ID to its DOI and URL\n",
    "for a,b,c in zip(references22_df['paper_id'], references22_df['URL'],references22_df['DOI']):\n",
    "    myGraph.add((URIRef(a), RDF.type, (academic_article)))\n",
    "    myGraph.add((URIRef(abstract22_paper_id), cites, URIRef(a)))#map the citations with the abstract paper ID\n",
    "    myGraph.add((URIRef(a), publication_url, Literal(b,datatype=URL)))\n",
    "    myGraph.add((URIRef(a), doi_prop, Literal(c,datatype=string)))"
   ]
  },
  {
   "cell_type": "code",
   "execution_count": 32,
   "id": "6ad53e48",
   "metadata": {},
   "outputs": [],
   "source": [
    "#abstract 23 paper ID\n",
    "abstract23_paper_id=abstracts_paper_id_list[22]\n",
    "#load references\n",
    "references23_df=pd.read_csv(\"C:/Users/USER/Documents/Projects/KG/Data/references/abstract 23.csv\")\n",
    "#generating paper ids for references\n",
    "references23_df['paper_id']= qcl_onto_URI +\"paper_id/\" + references23_df['DOI'].astype(str)\n",
    "#link each reference paper ID to its DOI and URL\n",
    "for a,b,c in zip(references23_df['paper_id'], references23_df['URL'],references23_df['DOI']):\n",
    "    myGraph.add((URIRef(a), RDF.type, (academic_article)))\n",
    "    myGraph.add((URIRef(abstract23_paper_id), cites, URIRef(a)))#map the citations with the abstract paper ID\n",
    "    myGraph.add((URIRef(a), publication_url, Literal(b,datatype=URL)))\n",
    "    myGraph.add((URIRef(a), doi_prop, Literal(c,datatype=string)))"
   ]
  },
  {
   "cell_type": "code",
   "execution_count": 33,
   "id": "e3784609",
   "metadata": {},
   "outputs": [],
   "source": [
    "#abstract 24 paper ID\n",
    "abstract24_paper_id=abstracts_paper_id_list[23]\n",
    "#load references\n",
    "references24_df=pd.read_csv(\"C:/Users/USER/Documents/Projects/KG/Data/references/abstract 24.csv\")\n",
    "#generating paper ids for references\n",
    "references24_df['paper_id']= qcl_onto_URI +\"paper_id/\" + references24_df['DOI'].astype(str)\n",
    "#link each reference paper ID to its DOI and URL\n",
    "for a,b,c in zip(references24_df['paper_id'], references24_df['URL'],references24_df['DOI']):\n",
    "    myGraph.add((URIRef(a), RDF.type, (academic_article)))\n",
    "    myGraph.add((URIRef(abstract24_paper_id), cites, URIRef(a)))#map the citations with the abstract paper ID\n",
    "    myGraph.add((URIRef(a), publication_url, Literal(b,datatype=URL)))\n",
    "    myGraph.add((URIRef(a), doi_prop, Literal(c,datatype=string)))"
   ]
  },
  {
   "cell_type": "code",
   "execution_count": 34,
   "id": "402f0d08",
   "metadata": {},
   "outputs": [],
   "source": [
    "#abstract 25 paper ID\n",
    "abstract25_paper_id=abstracts_paper_id_list[24]\n",
    "#load references\n",
    "references25_df=pd.read_csv(\"C:/Users/USER/Documents/Projects/KG/Data/references/abstract 25.csv\")\n",
    "#generating paper ids for references\n",
    "references25_df['paper_id']= qcl_onto_URI +\"paper_id/\" + references25_df['DOI'].astype(str)\n",
    "#link each reference paper ID to its DOI and URL\n",
    "for a,b,c in zip(references25_df['paper_id'], references25_df['URL'],references25_df['DOI']):\n",
    "    myGraph.add((URIRef(a), RDF.type, (academic_article)))\n",
    "    myGraph.add((URIRef(abstract25_paper_id), cites, URIRef(a)))#map the citations with the abstract paper ID\n",
    "    myGraph.add((URIRef(a), publication_url, Literal(b,datatype=URL)))\n",
    "    myGraph.add((URIRef(a), doi_prop, Literal(c,datatype=string)))"
   ]
  },
  {
   "cell_type": "code",
   "execution_count": 35,
   "id": "fabe82cf",
   "metadata": {},
   "outputs": [],
   "source": [
    "#abstract 26 paper ID\n",
    "abstract26_paper_id=abstracts_paper_id_list[25]\n",
    "#load references\n",
    "references26_df=pd.read_csv(\"C:/Users/USER/Documents/Projects/KG/Data/references/abstract 26.csv\")\n",
    "#generating paper ids for references\n",
    "references26_df['paper_id']= qcl_onto_URI +\"paper_id/\" + references26_df['DOI'].astype(str)\n",
    "#link each reference paper ID to its DOI and URL\n",
    "for a,b,c in zip(references26_df['paper_id'], references26_df['URL'],references26_df['DOI']):\n",
    "    myGraph.add((URIRef(a), RDF.type, (academic_article)))\n",
    "    myGraph.add((URIRef(abstract26_paper_id), cites, URIRef(a)))#map the citations with the abstract paper ID\n",
    "    myGraph.add((URIRef(a), publication_url, Literal(b,datatype=URL)))\n",
    "    myGraph.add((URIRef(a), doi_prop, Literal(c,datatype=string)))"
   ]
  },
  {
   "cell_type": "code",
   "execution_count": 36,
   "id": "5202ee3c",
   "metadata": {},
   "outputs": [],
   "source": [
    "#abstract 27 paper ID\n",
    "abstract27_paper_id=abstracts_paper_id_list[26]\n",
    "#load references\n",
    "references27_df=pd.read_csv(\"C:/Users/USER/Documents/Projects/KG/Data/references/abstract 27.csv\")\n",
    "#generating paper ids for references\n",
    "references27_df['paper_id']= qcl_onto_URI +\"paper_id/\" + references27_df['DOI'].astype(str)\n",
    "#link each reference paper ID to its DOI and URL\n",
    "for a,b,c in zip(references27_df['paper_id'], references27_df['URL'],references27_df['DOI']):\n",
    "    myGraph.add((URIRef(a), RDF.type, (academic_article)))\n",
    "    myGraph.add((URIRef(abstract27_paper_id), cites, URIRef(a)))#map the citations with the abstract paper ID\n",
    "    myGraph.add((URIRef(a), publication_url, Literal(b,datatype=URL)))\n",
    "    myGraph.add((URIRef(a), doi_prop, Literal(c,datatype=string)))"
   ]
  },
  {
   "cell_type": "code",
   "execution_count": 37,
   "id": "92c8942e",
   "metadata": {},
   "outputs": [],
   "source": [
    "#abstract 28 paper ID\n",
    "abstract28_paper_id=abstracts_paper_id_list[27]\n",
    "#load references\n",
    "references28_df=pd.read_csv(\"C:/Users/USER/Documents/Projects/KG/Data/references/abstract 28.csv\")\n",
    "#generating paper ids for references\n",
    "references28_df['paper_id']= qcl_onto_URI +\"paper_id/\" + references28_df['DOI'].astype(str)\n",
    "#link each reference paper ID to its DOI and URL\n",
    "for a,b,c in zip(references28_df['paper_id'], references28_df['URL'],references28_df['DOI']):\n",
    "    myGraph.add((URIRef(a), RDF.type, (academic_article)))\n",
    "    myGraph.add((URIRef(abstract28_paper_id), cites, URIRef(a)))#map the citations with the abstract paper ID\n",
    "    myGraph.add((URIRef(a), publication_url, Literal(b,datatype=URL)))\n",
    "    myGraph.add((URIRef(a), doi_prop, Literal(c,datatype=string)))"
   ]
  },
  {
   "cell_type": "code",
   "execution_count": 38,
   "id": "909d0bae",
   "metadata": {},
   "outputs": [],
   "source": [
    "#abstract 29 paper ID\n",
    "abstract29_paper_id=abstracts_paper_id_list[28]\n",
    "#load references\n",
    "references29_df=pd.read_csv(\"C:/Users/USER/Documents/Projects/KG/Data/references/abstract 29.csv\")\n",
    "#generating paper ids for references\n",
    "references29_df['paper_id']= qcl_onto_URI +\"paper_id/\" + references29_df['DOI'].astype(str)\n",
    "#link each reference paper ID to its DOI and URL\n",
    "for a,b,c in zip(references29_df['paper_id'], references29_df['URL'],references29_df['DOI']):\n",
    "    myGraph.add((URIRef(a), RDF.type, (academic_article)))\n",
    "    myGraph.add((URIRef(abstract29_paper_id), cites, URIRef(a)))#map the citations with the abstract paper ID\n",
    "    myGraph.add((URIRef(a), publication_url, Literal(b,datatype=URL)))\n",
    "    myGraph.add((URIRef(a), doi_prop, Literal(c,datatype=string)))"
   ]
  },
  {
   "cell_type": "code",
   "execution_count": 39,
   "id": "65bf614a",
   "metadata": {},
   "outputs": [],
   "source": [
    "#abstract 30 paper ID\n",
    "abstract30_paper_id=abstracts_paper_id_list[29]\n",
    "#load references\n",
    "references30_df=pd.read_csv(\"C:/Users/USER/Documents/Projects/KG/Data/references/abstract 30.csv\")\n",
    "#generating paper ids for references\n",
    "references30_df['paper_id']= qcl_onto_URI +\"paper_id/\" + references30_df['DOI'].astype(str)\n",
    "#link each reference paper ID to its DOI and URL\n",
    "for a,b,c in zip(references30_df['paper_id'], references30_df['URL'],references30_df['DOI']):\n",
    "    myGraph.add((URIRef(a), RDF.type, (academic_article)))\n",
    "    myGraph.add((URIRef(abstract30_paper_id), cites, URIRef(a)))#map the citations with the abstract paper ID\n",
    "    myGraph.add((URIRef(a), publication_url, Literal(b,datatype=URL)))\n",
    "    myGraph.add((URIRef(a), doi_prop, Literal(c,datatype=string)))"
   ]
  },
  {
   "cell_type": "code",
   "execution_count": 40,
   "id": "e33f6016",
   "metadata": {},
   "outputs": [],
   "source": [
    "#abstract 31 paper ID\n",
    "abstract31_paper_id=abstracts_paper_id_list[30]\n",
    "#load references\n",
    "references31_df=pd.read_csv(\"C:/Users/USER/Documents/Projects/KG/Data/references/abstract 31.csv\")\n",
    "#generating paper ids for references\n",
    "references31_df['paper_id']= qcl_onto_URI +\"paper_id/\" + references31_df['DOI'].astype(str)\n",
    "#link each reference paper ID to its DOI and URL\n",
    "for a,b,c in zip(references31_df['paper_id'], references31_df['URL'],references31_df['DOI']):\n",
    "    myGraph.add((URIRef(a), RDF.type, (academic_article)))\n",
    "    myGraph.add((URIRef(abstract31_paper_id), cites, URIRef(a)))#map the citations with the abstract paper ID\n",
    "    myGraph.add((URIRef(a), publication_url, Literal(b,datatype=URL)))\n",
    "    myGraph.add((URIRef(a), doi_prop, Literal(c,datatype=string)))"
   ]
  },
  {
   "cell_type": "code",
   "execution_count": 41,
   "id": "b22804b3",
   "metadata": {},
   "outputs": [],
   "source": [
    "#abstract 32 paper ID\n",
    "abstract32_paper_id=abstracts_paper_id_list[31]\n",
    "#load references\n",
    "references32_df=pd.read_csv(\"C:/Users/USER/Documents/Projects/KG/Data/references/abstract 32.csv\")\n",
    "#generating paper ids for references\n",
    "references32_df['paper_id']= qcl_onto_URI +\"paper_id/\" + references32_df['DOI'].astype(str)\n",
    "#link each reference paper ID to its DOI and URL\n",
    "for a,b,c in zip(references32_df['paper_id'], references32_df['URL'],references32_df['DOI']):\n",
    "    myGraph.add((URIRef(a), RDF.type, (academic_article)))\n",
    "    myGraph.add((URIRef(abstract32_paper_id), cites, URIRef(a)))#map the citations with the abstract paper ID\n",
    "    myGraph.add((URIRef(a), publication_url, Literal(b,datatype=URL)))\n",
    "    myGraph.add((URIRef(a), doi_prop, Literal(c,datatype=string)))"
   ]
  },
  {
   "cell_type": "code",
   "execution_count": 42,
   "id": "3a59adf1",
   "metadata": {},
   "outputs": [],
   "source": [
    "#abstract 33 paper ID\n",
    "abstract33_paper_id=abstracts_paper_id_list[32]\n",
    "#load references\n",
    "references33_df=pd.read_csv(\"C:/Users/USER/Documents/Projects/KG/Data/references/abstract 33.csv\")\n",
    "#generating paper ids for references\n",
    "references33_df['paper_id']= qcl_onto_URI +\"paper_id/\" + references33_df['DOI'].astype(str)\n",
    "#link each reference paper ID to its DOI and URL\n",
    "for a,b,c in zip(references33_df['paper_id'], references33_df['URL'],references33_df['DOI']):\n",
    "    myGraph.add((URIRef(a), RDF.type, (academic_article)))\n",
    "    myGraph.add((URIRef(abstract33_paper_id), cites, URIRef(a)))#map the citations with the abstract paper ID\n",
    "    myGraph.add((URIRef(a), publication_url, Literal(b,datatype=URL)))\n",
    "    myGraph.add((URIRef(a), doi_prop, Literal(c,datatype=string)))"
   ]
  },
  {
   "cell_type": "code",
   "execution_count": 43,
   "id": "fdb880ae",
   "metadata": {},
   "outputs": [],
   "source": [
    "#abstract 34 paper ID\n",
    "abstract34_paper_id=abstracts_paper_id_list[33]\n",
    "#load references\n",
    "references34_df=pd.read_csv(\"C:/Users/USER/Documents/Projects/KG/Data/references/abstract 34.csv\")\n",
    "#generating paper ids for references\n",
    "references34_df['paper_id']= qcl_onto_URI +\"paper_id/\" + references34_df['DOI'].astype(str)\n",
    "#link each reference paper ID to its DOI and URL\n",
    "for a,b,c in zip(references34_df['paper_id'], references34_df['URL'],references34_df['DOI']):\n",
    "    myGraph.add((URIRef(a), RDF.type, (academic_article)))\n",
    "    myGraph.add((URIRef(abstract34_paper_id), cites, URIRef(a)))#map the citations with the abstract paper ID\n",
    "    myGraph.add((URIRef(a), publication_url, Literal(b,datatype=URL)))\n",
    "    myGraph.add((URIRef(a), doi_prop, Literal(c,datatype=string)))"
   ]
  },
  {
   "cell_type": "code",
   "execution_count": 44,
   "id": "8b9e0ef0",
   "metadata": {},
   "outputs": [],
   "source": [
    "#abstract 35 paper ID\n",
    "abstract35_paper_id=abstracts_paper_id_list[34]\n",
    "#load references\n",
    "references35_df=pd.read_csv(\"C:/Users/USER/Documents/Projects/KG/Data/references/abstract 35.csv\")\n",
    "#generating paper ids for references\n",
    "references35_df['paper_id']= qcl_onto_URI +\"paper_id/\" + references35_df['DOI'].astype(str)\n",
    "#link each reference paper ID to its DOI and URL\n",
    "for a,b,c in zip(references35_df['paper_id'], references35_df['URL'],references35_df['DOI']):\n",
    "    myGraph.add((URIRef(a), RDF.type, (academic_article)))\n",
    "    myGraph.add((URIRef(abstract35_paper_id), cites, URIRef(a)))#map the citations with the abstract paper ID\n",
    "    myGraph.add((URIRef(a), publication_url, Literal(b,datatype=URL)))\n",
    "    myGraph.add((URIRef(a), doi_prop, Literal(c,datatype=string)))"
   ]
  },
  {
   "cell_type": "code",
   "execution_count": 45,
   "id": "4a46d287",
   "metadata": {},
   "outputs": [],
   "source": [
    "#abstract 36 paper ID\n",
    "abstract36_paper_id=abstracts_paper_id_list[35]\n",
    "#load references\n",
    "references36_df=pd.read_csv(\"C:/Users/USER/Documents/Projects/KG/Data/references/abstract 36.csv\")\n",
    "#generating paper ids for references\n",
    "references36_df['paper_id']= qcl_onto_URI +\"paper_id/\" + references36_df['DOI'].astype(str)\n",
    "#link each reference paper ID to its DOI and URL\n",
    "for a,b,c in zip(references36_df['paper_id'], references36_df['URL'],references36_df['DOI']):\n",
    "    myGraph.add((URIRef(a), RDF.type, (academic_article)))\n",
    "    myGraph.add((URIRef(abstract36_paper_id), cites, URIRef(a)))#map the citations with the abstract paper ID\n",
    "    myGraph.add((URIRef(a), publication_url, Literal(b,datatype=URL)))\n",
    "    myGraph.add((URIRef(a), doi_prop, Literal(c,datatype=string)))"
   ]
  },
  {
   "cell_type": "code",
   "execution_count": 46,
   "id": "d233ecdb",
   "metadata": {},
   "outputs": [],
   "source": [
    "#abstract 37 paper ID\n",
    "abstract37_paper_id=abstracts_paper_id_list[36]\n",
    "#load references\n",
    "references37_df=pd.read_csv(\"C:/Users/USER/Documents/Projects/KG/Data/references/abstract 37.csv\")\n",
    "#generating paper ids for references\n",
    "references37_df['paper_id']= qcl_onto_URI +\"paper_id/\" + references37_df['DOI'].astype(str)\n",
    "#link each reference paper ID to its DOI and URL\n",
    "for a,b,c in zip(references37_df['paper_id'], references37_df['URL'],references37_df['DOI']):\n",
    "    myGraph.add((URIRef(a), RDF.type, (academic_article)))\n",
    "    myGraph.add((URIRef(abstract37_paper_id), cites, URIRef(a)))#map the citations with the abstract paper ID\n",
    "    myGraph.add((URIRef(a), publication_url, Literal(b,datatype=URL)))\n",
    "    myGraph.add((URIRef(a), doi_prop, Literal(c,datatype=string)))"
   ]
  },
  {
   "cell_type": "code",
   "execution_count": 47,
   "id": "d32d8ae8",
   "metadata": {},
   "outputs": [],
   "source": [
    "#abstract 38 paper ID\n",
    "abstract38_paper_id=abstracts_paper_id_list[37]\n",
    "#load references\n",
    "references38_df=pd.read_csv(\"C:/Users/USER/Documents/Projects/KG/Data/references/abstract 38.csv\")\n",
    "#generating paper ids for references\n",
    "references38_df['paper_id']= qcl_onto_URI +\"paper_id/\" + references38_df['DOI'].astype(str)\n",
    "#link each reference paper ID to its DOI and URL\n",
    "for a,b,c in zip(references38_df['paper_id'], references38_df['URL'],references38_df['DOI']):\n",
    "    myGraph.add((URIRef(a), RDF.type, (academic_article)))\n",
    "    myGraph.add((URIRef(abstract38_paper_id), cites, URIRef(a)))#map the citations with the abstract paper ID\n",
    "    myGraph.add((URIRef(a), publication_url, Literal(b,datatype=URL)))\n",
    "    myGraph.add((URIRef(a), doi_prop, Literal(c,datatype=string)))"
   ]
  },
  {
   "cell_type": "code",
   "execution_count": 48,
   "id": "81eccf0e",
   "metadata": {},
   "outputs": [],
   "source": [
    "#abstract 39 paper ID\n",
    "abstract39_paper_id=abstracts_paper_id_list[38]\n",
    "#load references\n",
    "references39_df=pd.read_csv(\"C:/Users/USER/Documents/Projects/KG/Data/references/abstract 39.csv\")\n",
    "#generating paper ids for references\n",
    "references39_df['paper_id']= qcl_onto_URI +\"paper_id/\" + references39_df['DOI'].astype(str)\n",
    "#link each reference paper ID to its DOI and URL\n",
    "for a,b,c in zip(references39_df['paper_id'], references39_df['URL'],references39_df['DOI']):\n",
    "    myGraph.add((URIRef(a), RDF.type, (academic_article)))\n",
    "    myGraph.add((URIRef(abstract39_paper_id), cites, URIRef(a)))#map the citations with the abstract paper ID\n",
    "    myGraph.add((URIRef(a), publication_url, Literal(b,datatype=URL)))\n",
    "    myGraph.add((URIRef(a), doi_prop, Literal(c,datatype=string)))"
   ]
  },
  {
   "cell_type": "code",
   "execution_count": 49,
   "id": "40396cab",
   "metadata": {},
   "outputs": [],
   "source": [
    "#abstract 40 paper ID\n",
    "abstract40_paper_id=abstracts_paper_id_list[39]\n",
    "#load references\n",
    "references40_df=pd.read_csv(\"C:/Users/USER/Documents/Projects/KG/Data/references/abstract 40.csv\")\n",
    "#generating paper ids for references\n",
    "references40_df['paper_id']= qcl_onto_URI +\"paper_id/\" + references40_df['DOI'].astype(str)\n",
    "#link each reference paper ID to its DOI and URL\n",
    "for a,b,c in zip(references40_df['paper_id'], references40_df['URL'],references40_df['DOI']):\n",
    "    myGraph.add((URIRef(a), RDF.type, (academic_article)))\n",
    "    myGraph.add((URIRef(abstract40_paper_id), cites, URIRef(a)))#map the citations with the abstract paper ID\n",
    "    myGraph.add((URIRef(a), publication_url, Literal(b,datatype=URL)))\n",
    "    myGraph.add((URIRef(a), doi_prop, Literal(c,datatype=string)))"
   ]
  },
  {
   "cell_type": "code",
   "execution_count": 50,
   "id": "d0415387",
   "metadata": {},
   "outputs": [],
   "source": [
    "#abstract 41 paper ID\n",
    "abstract41_paper_id=abstracts_paper_id_list[40]\n",
    "#load references\n",
    "references41_df=pd.read_csv(\"C:/Users/USER/Documents/Projects/KG/Data/references/abstract 41.csv\")\n",
    "#generating paper ids for references\n",
    "references41_df['paper_id']= qcl_onto_URI +\"paper_id/\" + references41_df['DOI'].astype(str)\n",
    "#link each reference paper ID to its DOI and URL\n",
    "for a,b,c in zip(references41_df['paper_id'], references41_df['URL'], references41_df['DOI']):\n",
    "    myGraph.add((URIRef(a), RDF.type, (academic_article)))\n",
    "    myGraph.add((URIRef(abstract41_paper_id), cites, URIRef(a)))#map the citations with the abstract paper ID\n",
    "    myGraph.add((URIRef(a), publication_url, Literal(b,datatype=URL)))\n",
    "    myGraph.add((URIRef(a), doi_prop, Literal(c,datatype=string)))"
   ]
  },
  {
   "cell_type": "code",
   "execution_count": 51,
   "id": "fc401f00",
   "metadata": {},
   "outputs": [],
   "source": [
    "#abstract 42 paper ID\n",
    "abstract42_paper_id=abstracts_paper_id_list[41]\n",
    "#load references\n",
    "references42_df=pd.read_csv(\"C:/Users/USER/Documents/Projects/KG/Data/references/abstract 42.csv\")\n",
    "#generating paper ids for references\n",
    "references42_df['paper_id']= qcl_onto_URI +\"paper_id/\" + references42_df['DOI'].astype(str)\n",
    "#link each reference paper ID to its DOI and URL\n",
    "for a,b,c in zip(references42_df['paper_id'], references42_df['URL'], references42_df['DOI']):\n",
    "    myGraph.add((URIRef(a), RDF.type, (academic_article)))\n",
    "    myGraph.add((URIRef(abstract42_paper_id), cites, URIRef(a)))#map the citations with the abstract paper ID\n",
    "    myGraph.add((URIRef(a), publication_url, Literal(b,datatype=URL)))\n",
    "    myGraph.add((URIRef(a), doi_prop, Literal(c,datatype=string)))"
   ]
  },
  {
   "cell_type": "code",
   "execution_count": 52,
   "id": "8e6274c5",
   "metadata": {},
   "outputs": [
    {
     "name": "stdout",
     "output_type": "stream",
     "text": [
      "Number of elements:2514\n"
     ]
    }
   ],
   "source": [
    "print(f\"Number of elements:{len(myGraph)}\")"
   ]
  },
  {
   "cell_type": "code",
   "execution_count": 53,
   "id": "672e2871",
   "metadata": {},
   "outputs": [],
   "source": [
    "#Serializing the generated RDF data in turtle format\n",
    "kg_data_ttl = myGraph.serialize(format='turtle')\n",
    "#print(xml_rdf)\n",
    "# Save the serialized data to a file\n",
    "with open('qcl_KG_references.ttl', 'wb') as f:\n",
    "    f.write(kg_data_ttl.encode('utf-8'))"
   ]
  },
  {
   "cell_type": "code",
   "execution_count": 54,
   "id": "4f6f9dea",
   "metadata": {},
   "outputs": [],
   "source": [
    "#serialize to rdf/xml format\n",
    "kg_data_rdf = myGraph.serialize(format='xml')\n",
    "#print(xml_rdf)\n",
    "# Save the serialized data to a file\n",
    "with open('qcl_KG_references.rdf', 'wb') as f:\n",
    "    f.write(kg_data_rdf.encode('utf-8'))"
   ]
  },
  {
   "cell_type": "code",
   "execution_count": null,
   "id": "f50da4cb",
   "metadata": {},
   "outputs": [],
   "source": []
  }
 ],
 "metadata": {
  "kernelspec": {
   "display_name": "Python 3 (ipykernel)",
   "language": "python",
   "name": "python3"
  },
  "language_info": {
   "codemirror_mode": {
    "name": "ipython",
    "version": 3
   },
   "file_extension": ".py",
   "mimetype": "text/x-python",
   "name": "python",
   "nbconvert_exporter": "python",
   "pygments_lexer": "ipython3",
   "version": "3.11.5"
  }
 },
 "nbformat": 4,
 "nbformat_minor": 5
}
