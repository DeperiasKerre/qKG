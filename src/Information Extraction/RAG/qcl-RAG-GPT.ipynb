{
 "cells": [
  {
   "cell_type": "code",
   "execution_count": 1,
   "id": "5600f25b",
   "metadata": {},
   "outputs": [],
   "source": [
    "#libraries\n",
    "!pip install transformers==4.31.0 \n",
    "!pip install sentence-transformers==2.2.2 "
   ]
  },
  {
   "cell_type": "code",
   "execution_count": 2,
   "id": "ebc76bdd",
   "metadata": {},
   "outputs": [],
   "source": [
    "#specific version to avoid error with vector store\n",
    "!pip install chromadb==0.5.3\n",
    "!pip install datasets"
   ]
  },
  {
   "cell_type": "code",
   "execution_count": 3,
   "id": "204047c6",
   "metadata": {},
   "outputs": [],
   "source": [
    "#loading training data for providing context to the model\n",
    "import pandas as pd\n",
    "train_data_df=pd.read_csv(\"C:/Users/USER/Documents/Projects/Instruction Dataset/LLM Training Data/train_data_split.csv\")\n",
    "## Convert the DataFrame to a format compatible with Hugging Face Datasets\n",
    "train_data_df['Instruction'] = train_data_df['Instruction']+ \". Input Text: \" + train_data_df['input_text'] + \"\\n\\nExtracted Properties:\\n\\n\"+ train_data_df['Output'].astype(str)\n",
    "train_dataset_dict = {\n",
    "    'instruction': train_data_df['Instruction'].tolist()\n",
    "}"
   ]
  },
  {
   "cell_type": "code",
   "execution_count": 4,
   "id": "0c866177",
   "metadata": {},
   "outputs": [],
   "source": [
    "#verify\n",
    "#train_dataset_dict"
   ]
  },
  {
   "cell_type": "code",
   "execution_count": 5,
   "id": "a9e25e8e",
   "metadata": {},
   "outputs": [],
   "source": [
    "#creating context document from the list\n",
    "docs=train_dataset_dict['instruction']"
   ]
  },
  {
   "cell_type": "code",
   "execution_count": 6,
   "id": "39a95589",
   "metadata": {},
   "outputs": [],
   "source": [
    "#initializing the embedding model\n",
    "from sentence_transformers import SentenceTransformer\n",
    "#pip install chromadb==0.5.3\n",
    "import chromadb\n",
    "from transformers import AutoTokenizer, AutoConfig, AutoModelForCausalLM\n",
    "import torch\n",
    "embedding_model = SentenceTransformer('sentence-transformers/all-mpnet-base-v2', cache_folder = '/data/base_models')"
   ]
  },
  {
   "cell_type": "code",
   "execution_count": 7,
   "id": "c8dd8db9",
   "metadata": {},
   "outputs": [],
   "source": [
    "#do the embedding\n",
    "embeddings = embedding_model.encode(docs)"
   ]
  },
  {
   "cell_type": "code",
   "execution_count": 8,
   "id": "15f5c3c2",
   "metadata": {},
   "outputs": [
    {
     "data": {
      "text/plain": [
       "(1040, 768)"
      ]
     },
     "execution_count": 8,
     "metadata": {},
     "output_type": "execute_result"
    }
   ],
   "source": [
    "#verify the embeddings\n",
    "embeddings.shape"
   ]
  },
  {
   "cell_type": "code",
   "execution_count": 9,
   "id": "0def7781",
   "metadata": {},
   "outputs": [],
   "source": [
    "#indexing-run this only once\n",
    "chroma_client = chromadb.Client()\n",
    "collection = chroma_client.create_collection(name=\"q-rag_llama\")"
   ]
  },
  {
   "cell_type": "code",
   "execution_count": 10,
   "id": "6f784dfa",
   "metadata": {},
   "outputs": [],
   "source": [
    "#addding the train data\n",
    "collection.add(\n",
    "    embeddings = embeddings,\n",
    "    documents=docs,\n",
    "    ids= [str(i) for i in range(len(docs))]\n",
    ")"
   ]
  },
  {
   "cell_type": "code",
   "execution_count": 11,
   "id": "98794673",
   "metadata": {},
   "outputs": [],
   "source": [
    "#retrieving\n",
    "def retrieve_vector_db(query, n_results=3):\n",
    "    results = collection.query(\n",
    "    query_embeddings = embedding_model.encode(query).tolist(),\n",
    "    n_results=n_results\n",
    "    )\n",
    "    return results['documents']"
   ]
  },
  {
   "cell_type": "code",
   "execution_count": 79,
   "id": "fc0f5dbd",
   "metadata": {},
   "outputs": [
    {
     "name": "stdout",
     "output_type": "stream",
     "text": [
      "Please extract the design type of the quantum cascade laser device. Please print none if the value is not in text and do not give any explanations. In the output, just include only the extracted property. Input Text: We report the development of a quantum cascade laser, at l587.2 mm, corresponding to 3.44 THz or 14.2 meV photon energy. The GaAs/Al0.15Ga0.85As laser structure utilizes longitudinal-optical LO-phonon scattering for electron depopulation. Laser action is obtained in pulsed mode at temperatures up to 65 K, and at 50% duty cycle up to 29 K. Operating at 5 K in pulsed mode, the threshold current density is 840 A/cm2, and the peak power is approximately 2.5 mW. Based on the relatively high operating temperatures and duty cycles, we propose that direct LO-phonon-based depopulation is a robust method for achieving quantum cascade lasers at long-wavelength THz frequencies.\n"
     ]
    }
   ],
   "source": [
    "#sample query\n",
    "#we can have different queries depending on the property we are interested in\n",
    "#query=input (\"Please Enter your query here: \") \n",
    "query = \"Please extract the design type of the quantum cascade laser device. Please print none if the value is not in text and do not give any explanations. In the output, just include only the extracted property.\"\n",
    "#input_text is the user input text containing the properties for extraction\n",
    "#print(\"Enter the text containing the properties herer\")\n",
    "input_text= \"2.1 THz quantum cascade laser (QCL) based on a scatterin gassisted injection and resonant-phonon depopulation design scheme is demonstrated. The QCL is based on a four-well period implemented in the GaAs/Al0:15Ga0:85As material system. The QCL operates up to a heat-sink temperature of 144 K in pulsed-mode, which is considerably higher than that achieved for previously reported THz QCLs operating around the frequency of 2 THz. At 46 K, the threshold current-density was measured as \\~ 745 A/cm2 with a peak-power output of \\~ 10 mW. Electrically stable operation in a positive differential-resistance regime is achieved by a careful choice of design parameters. The results validate the robustness of scattering-assisted injection schemes for development of low-frequency (n < 2:5 THz) QCLs.\"\n",
    "input_text2=\"We report the development of a quantum cascade laser, at l587.2 mm, corresponding to 3.44 THz or 14.2 meV photon energy. The GaAs/Al0.15Ga0.85As laser structure utilizes longitudinal-optical LO-phonon scattering for electron depopulation. Laser action is obtained in pulsed mode at temperatures up to 65 K, and at 50% duty cycle up to 29 K. Operating at 5 K in pulsed mode, the threshold current density is 840 A/cm2, and the peak power is approximately 2.5 mW. Based on the relatively high operating temperatures and duty cycles, we propose that direct LO-phonon-based depopulation is a robust method for achieving quantum cascade lasers at long-wavelength THz frequencies.\"\n",
    "query=query+ \"\" + \" Input Text: \" +input_text2\n",
    "retrieved_results = retrieve_vector_db(query)\n",
    "print(query)"
   ]
  },
  {
   "cell_type": "code",
   "execution_count": 80,
   "id": "96bba61d",
   "metadata": {},
   "outputs": [
    {
     "data": {
      "text/plain": [
       "['From the following sentence, please extract the design type of the Quantum Cascade Semiconductor laser device. Print none if the value does not exist in the input text. Input Text: Given the above-normal operating temperatures and duty cycles, we assert that utilizing direct LO-phonon-based depopulation proves to be a robust method in the realization of long-wavelength THz quantum cascade lasers.\\t\\t\\n\\nExtracted Properties:\\n\\nLO-phonon',\n",
       " 'From the following sentence, please extract the design type of the Quantum Cascade Semiconductor laser device. Print none if the value does not exist in the input text. Input Text: Considering the relatively high temperatures at which they operate and the frequency of their cycles, we propose that leveraging direct LO-phonon-based depopulation is a dependable means of obtaining quantum cascade lasers that emit long-wavelength THz frequencies.\\t\\t\\n\\nExtracted Properties:\\n\\nLO-phonon',\n",
       " 'From the following sentence, please extract the design type of the Quantum Cascade Semiconductor laser device. Print none if the value does not exist in the input text. Input Text: Our experimental results show that by increasing the operating temperature to 100 degrees Celsius and doubling the duty cycle to 0.8, direct LO-phonon-based depopulation becomes an effective technique for generating quantum cascade lasers operating in the long-wavelength THz range.\\n\\nExtracted Properties:\\n\\nLO-phonon']"
      ]
     },
     "execution_count": 80,
     "metadata": {},
     "output_type": "execute_result"
    }
   ],
   "source": [
    "#viewing the retreived 3 sample context text based on the user query.\n",
    "retrieved_results[0]"
   ]
  },
  {
   "cell_type": "code",
   "execution_count": 81,
   "id": "a55f5271",
   "metadata": {},
   "outputs": [],
   "source": [
    "#assigning the context\n",
    "context=retrieved_results[0]"
   ]
  },
  {
   "cell_type": "code",
   "execution_count": 82,
   "id": "b29a9328",
   "metadata": {},
   "outputs": [],
   "source": [
    "#prompt template\n",
    "prompt = f'''\n",
    "[INST]\n",
    "Problem Definition: Extraction of quantum cascade laser properties from text entails extracting properties from a given text description. This should be done without providing any other additional information or explanations. The output format should correspond to the one in the example sentences. Example sentences containing an instruction, input text and the extracted properties are given below:\n",
    "\n",
    "Example Sentences: {context}\n",
    "\n",
    "Instruction: {query}\n",
    "\n",
    "[/INST]\n",
    "'''"
   ]
  },
  {
   "cell_type": "code",
   "execution_count": 83,
   "id": "3c25a488",
   "metadata": {},
   "outputs": [],
   "source": [
    "#view prompt\n",
    "#print(prompt)"
   ]
  },
  {
   "cell_type": "code",
   "execution_count": 84,
   "id": "fe5df20f",
   "metadata": {},
   "outputs": [],
   "source": [
    "#parsing the complete prompt to GPT\n",
    "#GPT\n",
    "import openai\n",
    "import os\n",
    "from IPython.display import Markdown\n",
    "api_key=\"OPEN_AI_API_KEY\""
   ]
  },
  {
   "cell_type": "code",
   "execution_count": 85,
   "id": "c87974e0",
   "metadata": {},
   "outputs": [],
   "source": [
    "#some function to chat with GPT\n",
    "import openai\n",
    "\n",
    "# Set your API key securely\n",
    "openai.api_key = api_key\n",
    "\n",
    "def chatWithGPT4(user_text, print_output=False):\n",
    "    try:\n",
    "        # Creating text completions using the updated `ChatCompletion` class\n",
    "        response = openai.ChatCompletion.create(\n",
    "            model=\"gpt-4-turbo\",\n",
    "            messages=[{\"role\": \"system\", \"content\": \"You are a helpful assistant.\"},\n",
    "                      {\"role\": \"user\", \"content\": user_text}],\n",
    "            max_tokens=3000\n",
    "        )\n",
    "        text_output = response['choices'][0]['message']['content'] if response['choices'] else \"No response generated.\"\n",
    "        if print_output:\n",
    "            print(text_output)\n",
    "        return text_output\n",
    "    except Exception as e:\n",
    "        print(f\"An error occurred: {str(e)}\")\n",
    "        return None"
   ]
  },
  {
   "cell_type": "code",
   "execution_count": 86,
   "id": "8ff5237b",
   "metadata": {},
   "outputs": [
    {
     "name": "stdout",
     "output_type": "stream",
     "text": [
      "LO-phonon\n"
     ]
    }
   ],
   "source": [
    "# Extracting a property\n",
    "result = chatWithGPT4(prompt)\n",
    "print(result)"
   ]
  }
 ],
 "metadata": {
  "kernelspec": {
   "display_name": "Python 3 (ipykernel)",
   "language": "python",
   "name": "python3"
  },
  "language_info": {
   "codemirror_mode": {
    "name": "ipython",
    "version": 3
   },
   "file_extension": ".py",
   "mimetype": "text/x-python",
   "name": "python",
   "nbconvert_exporter": "python",
   "pygments_lexer": "ipython3",
   "version": "3.11.5"
  }
 },
 "nbformat": 4,
 "nbformat_minor": 5
}
