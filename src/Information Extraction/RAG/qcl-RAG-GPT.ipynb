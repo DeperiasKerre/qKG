{
 "cells": [
  {
   "cell_type": "code",
   "execution_count": 1,
   "id": "5600f25b",
   "metadata": {},
   "outputs": [
    {
     "name": "stdout",
     "output_type": "stream",
     "text": [
      "Requirement already satisfied: transformers==4.31.0 in c:\\users\\user\\anaconda3\\lib\\site-packages (4.31.0)\n",
      "Requirement already satisfied: filelock in c:\\users\\user\\anaconda3\\lib\\site-packages (from transformers==4.31.0) (3.9.0)\n",
      "Requirement already satisfied: huggingface-hub<1.0,>=0.14.1 in c:\\users\\user\\anaconda3\\lib\\site-packages (from transformers==4.31.0) (0.22.2)\n",
      "Requirement already satisfied: numpy>=1.17 in c:\\users\\user\\anaconda3\\lib\\site-packages (from transformers==4.31.0) (1.24.3)\n",
      "Requirement already satisfied: packaging>=20.0 in c:\\users\\user\\anaconda3\\lib\\site-packages (from transformers==4.31.0) (23.1)\n",
      "Requirement already satisfied: pyyaml>=5.1 in c:\\users\\user\\anaconda3\\lib\\site-packages (from transformers==4.31.0) (6.0)\n",
      "Requirement already satisfied: regex!=2019.12.17 in c:\\users\\user\\anaconda3\\lib\\site-packages (from transformers==4.31.0) (2022.7.9)\n",
      "Requirement already satisfied: requests in c:\\users\\user\\anaconda3\\lib\\site-packages (from transformers==4.31.0) (2.31.0)\n",
      "Requirement already satisfied: tokenizers!=0.11.3,<0.14,>=0.11.1 in c:\\users\\user\\anaconda3\\lib\\site-packages (from transformers==4.31.0) (0.13.3)\n",
      "Requirement already satisfied: safetensors>=0.3.1 in c:\\users\\user\\anaconda3\\lib\\site-packages (from transformers==4.31.0) (0.4.3)\n",
      "Requirement already satisfied: tqdm>=4.27 in c:\\users\\user\\anaconda3\\lib\\site-packages (from transformers==4.31.0) (4.65.0)\n",
      "Requirement already satisfied: fsspec>=2023.5.0 in c:\\users\\user\\anaconda3\\lib\\site-packages (from huggingface-hub<1.0,>=0.14.1->transformers==4.31.0) (2024.3.1)\n",
      "Requirement already satisfied: typing-extensions>=3.7.4.3 in c:\\users\\user\\anaconda3\\lib\\site-packages (from huggingface-hub<1.0,>=0.14.1->transformers==4.31.0) (4.12.2)\n",
      "Requirement already satisfied: colorama in c:\\users\\user\\anaconda3\\lib\\site-packages (from tqdm>=4.27->transformers==4.31.0) (0.4.6)\n",
      "Requirement already satisfied: charset-normalizer<4,>=2 in c:\\users\\user\\anaconda3\\lib\\site-packages (from requests->transformers==4.31.0) (2.0.4)\n",
      "Requirement already satisfied: idna<4,>=2.5 in c:\\users\\user\\anaconda3\\lib\\site-packages (from requests->transformers==4.31.0) (3.4)\n",
      "Requirement already satisfied: urllib3<3,>=1.21.1 in c:\\users\\user\\anaconda3\\lib\\site-packages (from requests->transformers==4.31.0) (1.26.16)\n",
      "Requirement already satisfied: certifi>=2017.4.17 in c:\\users\\user\\anaconda3\\lib\\site-packages (from requests->transformers==4.31.0) (2023.7.22)\n",
      "Requirement already satisfied: sentence-transformers==2.2.2 in c:\\users\\user\\anaconda3\\lib\\site-packages (2.2.2)\n",
      "Requirement already satisfied: transformers<5.0.0,>=4.6.0 in c:\\users\\user\\anaconda3\\lib\\site-packages (from sentence-transformers==2.2.2) (4.31.0)\n",
      "Requirement already satisfied: tqdm in c:\\users\\user\\anaconda3\\lib\\site-packages (from sentence-transformers==2.2.2) (4.65.0)\n",
      "Requirement already satisfied: torch>=1.6.0 in c:\\users\\user\\anaconda3\\lib\\site-packages (from sentence-transformers==2.2.2) (2.4.1)\n",
      "Requirement already satisfied: torchvision in c:\\users\\user\\anaconda3\\lib\\site-packages (from sentence-transformers==2.2.2) (0.19.1)\n",
      "Requirement already satisfied: numpy in c:\\users\\user\\anaconda3\\lib\\site-packages (from sentence-transformers==2.2.2) (1.24.3)\n",
      "Requirement already satisfied: scikit-learn in c:\\users\\user\\anaconda3\\lib\\site-packages (from sentence-transformers==2.2.2) (1.4.2)\n",
      "Requirement already satisfied: scipy in c:\\users\\user\\anaconda3\\lib\\site-packages (from sentence-transformers==2.2.2) (1.11.1)\n",
      "Requirement already satisfied: nltk in c:\\users\\user\\anaconda3\\lib\\site-packages (from sentence-transformers==2.2.2) (3.8.1)\n",
      "Requirement already satisfied: sentencepiece in c:\\users\\user\\anaconda3\\lib\\site-packages (from sentence-transformers==2.2.2) (0.2.0)\n",
      "Requirement already satisfied: huggingface-hub>=0.4.0 in c:\\users\\user\\anaconda3\\lib\\site-packages (from sentence-transformers==2.2.2) (0.22.2)\n",
      "Requirement already satisfied: filelock in c:\\users\\user\\anaconda3\\lib\\site-packages (from huggingface-hub>=0.4.0->sentence-transformers==2.2.2) (3.9.0)\n",
      "Requirement already satisfied: fsspec>=2023.5.0 in c:\\users\\user\\anaconda3\\lib\\site-packages (from huggingface-hub>=0.4.0->sentence-transformers==2.2.2) (2024.3.1)\n",
      "Requirement already satisfied: packaging>=20.9 in c:\\users\\user\\anaconda3\\lib\\site-packages (from huggingface-hub>=0.4.0->sentence-transformers==2.2.2) (23.1)\n",
      "Requirement already satisfied: pyyaml>=5.1 in c:\\users\\user\\anaconda3\\lib\\site-packages (from huggingface-hub>=0.4.0->sentence-transformers==2.2.2) (6.0)\n",
      "Requirement already satisfied: requests in c:\\users\\user\\anaconda3\\lib\\site-packages (from huggingface-hub>=0.4.0->sentence-transformers==2.2.2) (2.31.0)\n",
      "Requirement already satisfied: typing-extensions>=3.7.4.3 in c:\\users\\user\\anaconda3\\lib\\site-packages (from huggingface-hub>=0.4.0->sentence-transformers==2.2.2) (4.12.2)\n",
      "Requirement already satisfied: sympy in c:\\users\\user\\anaconda3\\lib\\site-packages (from torch>=1.6.0->sentence-transformers==2.2.2) (1.11.1)\n",
      "Requirement already satisfied: networkx in c:\\users\\user\\anaconda3\\lib\\site-packages (from torch>=1.6.0->sentence-transformers==2.2.2) (3.1)\n",
      "Requirement already satisfied: jinja2 in c:\\users\\user\\anaconda3\\lib\\site-packages (from torch>=1.6.0->sentence-transformers==2.2.2) (3.1.2)\n",
      "Requirement already satisfied: colorama in c:\\users\\user\\anaconda3\\lib\\site-packages (from tqdm->sentence-transformers==2.2.2) (0.4.6)\n",
      "Requirement already satisfied: regex!=2019.12.17 in c:\\users\\user\\anaconda3\\lib\\site-packages (from transformers<5.0.0,>=4.6.0->sentence-transformers==2.2.2) (2022.7.9)\n",
      "Requirement already satisfied: tokenizers!=0.11.3,<0.14,>=0.11.1 in c:\\users\\user\\anaconda3\\lib\\site-packages (from transformers<5.0.0,>=4.6.0->sentence-transformers==2.2.2) (0.13.3)\n",
      "Requirement already satisfied: safetensors>=0.3.1 in c:\\users\\user\\anaconda3\\lib\\site-packages (from transformers<5.0.0,>=4.6.0->sentence-transformers==2.2.2) (0.4.3)\n",
      "Requirement already satisfied: click in c:\\users\\user\\anaconda3\\lib\\site-packages (from nltk->sentence-transformers==2.2.2) (8.0.4)\n",
      "Requirement already satisfied: joblib in c:\\users\\user\\anaconda3\\lib\\site-packages (from nltk->sentence-transformers==2.2.2) (1.2.0)\n",
      "Requirement already satisfied: threadpoolctl>=2.0.0 in c:\\users\\user\\anaconda3\\lib\\site-packages (from scikit-learn->sentence-transformers==2.2.2) (2.2.0)\n",
      "Requirement already satisfied: pillow!=8.3.*,>=5.3.0 in c:\\users\\user\\anaconda3\\lib\\site-packages (from torchvision->sentence-transformers==2.2.2) (9.4.0)\n",
      "Requirement already satisfied: MarkupSafe>=2.0 in c:\\users\\user\\anaconda3\\lib\\site-packages (from jinja2->torch>=1.6.0->sentence-transformers==2.2.2) (2.1.1)\n",
      "Requirement already satisfied: charset-normalizer<4,>=2 in c:\\users\\user\\anaconda3\\lib\\site-packages (from requests->huggingface-hub>=0.4.0->sentence-transformers==2.2.2) (2.0.4)\n",
      "Requirement already satisfied: idna<4,>=2.5 in c:\\users\\user\\anaconda3\\lib\\site-packages (from requests->huggingface-hub>=0.4.0->sentence-transformers==2.2.2) (3.4)\n",
      "Requirement already satisfied: urllib3<3,>=1.21.1 in c:\\users\\user\\anaconda3\\lib\\site-packages (from requests->huggingface-hub>=0.4.0->sentence-transformers==2.2.2) (1.26.16)\n",
      "Requirement already satisfied: certifi>=2017.4.17 in c:\\users\\user\\anaconda3\\lib\\site-packages (from requests->huggingface-hub>=0.4.0->sentence-transformers==2.2.2) (2023.7.22)\n",
      "Requirement already satisfied: mpmath>=0.19 in c:\\users\\user\\anaconda3\\lib\\site-packages (from sympy->torch>=1.6.0->sentence-transformers==2.2.2) (1.3.0)\n"
     ]
    }
   ],
   "source": [
    "#libraries\n",
    "!pip install transformers==4.31.0 \n",
    "!pip install sentence-transformers==2.2.2 "
   ]
  },
  {
   "cell_type": "code",
   "execution_count": 2,
   "id": "ebc76bdd",
   "metadata": {},
   "outputs": [
    {
     "name": "stdout",
     "output_type": "stream",
     "text": [
      "Requirement already satisfied: chromadb==0.5.3 in c:\\users\\user\\anaconda3\\lib\\site-packages (0.5.3)\n",
      "Requirement already satisfied: build>=1.0.3 in c:\\users\\user\\anaconda3\\lib\\site-packages (from chromadb==0.5.3) (1.2.2)\n",
      "Requirement already satisfied: requests>=2.28 in c:\\users\\user\\anaconda3\\lib\\site-packages (from chromadb==0.5.3) (2.31.0)\n",
      "Requirement already satisfied: pydantic>=1.9 in c:\\users\\user\\anaconda3\\lib\\site-packages (from chromadb==0.5.3) (1.10.8)\n",
      "Requirement already satisfied: chroma-hnswlib==0.7.3 in c:\\users\\user\\anaconda3\\lib\\site-packages (from chromadb==0.5.3) (0.7.3)\n",
      "Requirement already satisfied: fastapi>=0.95.2 in c:\\users\\user\\anaconda3\\lib\\site-packages (from chromadb==0.5.3) (0.114.2)\n",
      "Requirement already satisfied: uvicorn[standard]>=0.18.3 in c:\\users\\user\\anaconda3\\lib\\site-packages (from chromadb==0.5.3) (0.30.6)\n",
      "Requirement already satisfied: numpy<2.0.0,>=1.22.5 in c:\\users\\user\\anaconda3\\lib\\site-packages (from chromadb==0.5.3) (1.24.3)\n",
      "Requirement already satisfied: posthog>=2.4.0 in c:\\users\\user\\anaconda3\\lib\\site-packages (from chromadb==0.5.3) (3.6.5)\n",
      "Requirement already satisfied: typing-extensions>=4.5.0 in c:\\users\\user\\anaconda3\\lib\\site-packages (from chromadb==0.5.3) (4.12.2)\n",
      "Requirement already satisfied: onnxruntime>=1.14.1 in c:\\users\\user\\anaconda3\\lib\\site-packages (from chromadb==0.5.3) (1.19.2)\n",
      "Requirement already satisfied: opentelemetry-api>=1.2.0 in c:\\users\\user\\anaconda3\\lib\\site-packages (from chromadb==0.5.3) (1.27.0)\n",
      "Requirement already satisfied: opentelemetry-exporter-otlp-proto-grpc>=1.2.0 in c:\\users\\user\\anaconda3\\lib\\site-packages (from chromadb==0.5.3) (1.27.0)\n",
      "Requirement already satisfied: opentelemetry-instrumentation-fastapi>=0.41b0 in c:\\users\\user\\anaconda3\\lib\\site-packages (from chromadb==0.5.3) (0.48b0)\n",
      "Requirement already satisfied: opentelemetry-sdk>=1.2.0 in c:\\users\\user\\anaconda3\\lib\\site-packages (from chromadb==0.5.3) (1.27.0)\n",
      "Requirement already satisfied: tokenizers>=0.13.2 in c:\\users\\user\\anaconda3\\lib\\site-packages (from chromadb==0.5.3) (0.13.3)\n",
      "Requirement already satisfied: pypika>=0.48.9 in c:\\users\\user\\anaconda3\\lib\\site-packages (from chromadb==0.5.3) (0.48.9)\n",
      "Requirement already satisfied: tqdm>=4.65.0 in c:\\users\\user\\anaconda3\\lib\\site-packages (from chromadb==0.5.3) (4.65.0)\n",
      "Requirement already satisfied: overrides>=7.3.1 in c:\\users\\user\\anaconda3\\lib\\site-packages (from chromadb==0.5.3) (7.7.0)\n",
      "Requirement already satisfied: importlib-resources in c:\\users\\user\\anaconda3\\lib\\site-packages (from chromadb==0.5.3) (6.4.5)\n",
      "Requirement already satisfied: grpcio>=1.58.0 in c:\\users\\user\\anaconda3\\lib\\site-packages (from chromadb==0.5.3) (1.66.1)\n",
      "Requirement already satisfied: bcrypt>=4.0.1 in c:\\users\\user\\anaconda3\\lib\\site-packages (from chromadb==0.5.3) (4.2.0)\n",
      "Requirement already satisfied: typer>=0.9.0 in c:\\users\\user\\anaconda3\\lib\\site-packages (from chromadb==0.5.3) (0.12.5)\n",
      "Requirement already satisfied: kubernetes>=28.1.0 in c:\\users\\user\\anaconda3\\lib\\site-packages (from chromadb==0.5.3) (30.1.0)\n",
      "Requirement already satisfied: tenacity>=8.2.3 in c:\\users\\user\\anaconda3\\lib\\site-packages (from chromadb==0.5.3) (9.0.0)\n",
      "Requirement already satisfied: PyYAML>=6.0.0 in c:\\users\\user\\anaconda3\\lib\\site-packages (from chromadb==0.5.3) (6.0)\n",
      "Requirement already satisfied: mmh3>=4.0.1 in c:\\users\\user\\anaconda3\\lib\\site-packages (from chromadb==0.5.3) (4.1.0)\n",
      "Requirement already satisfied: orjson>=3.9.12 in c:\\users\\user\\anaconda3\\lib\\site-packages (from chromadb==0.5.3) (3.10.7)\n",
      "Requirement already satisfied: httpx>=0.27.0 in c:\\users\\user\\anaconda3\\lib\\site-packages (from chromadb==0.5.3) (0.27.2)\n",
      "Requirement already satisfied: packaging>=19.1 in c:\\users\\user\\anaconda3\\lib\\site-packages (from build>=1.0.3->chromadb==0.5.3) (23.1)\n",
      "Requirement already satisfied: pyproject_hooks in c:\\users\\user\\anaconda3\\lib\\site-packages (from build>=1.0.3->chromadb==0.5.3) (1.1.0)\n",
      "Requirement already satisfied: colorama in c:\\users\\user\\anaconda3\\lib\\site-packages (from build>=1.0.3->chromadb==0.5.3) (0.4.6)\n",
      "Requirement already satisfied: starlette<0.39.0,>=0.37.2 in c:\\users\\user\\anaconda3\\lib\\site-packages (from fastapi>=0.95.2->chromadb==0.5.3) (0.38.5)\n",
      "Requirement already satisfied: anyio in c:\\users\\user\\anaconda3\\lib\\site-packages (from httpx>=0.27.0->chromadb==0.5.3) (3.5.0)\n",
      "Requirement already satisfied: certifi in c:\\users\\user\\anaconda3\\lib\\site-packages (from httpx>=0.27.0->chromadb==0.5.3) (2023.7.22)\n",
      "Requirement already satisfied: httpcore==1.* in c:\\users\\user\\anaconda3\\lib\\site-packages (from httpx>=0.27.0->chromadb==0.5.3) (1.0.5)\n",
      "Requirement already satisfied: idna in c:\\users\\user\\anaconda3\\lib\\site-packages (from httpx>=0.27.0->chromadb==0.5.3) (3.4)\n",
      "Requirement already satisfied: sniffio in c:\\users\\user\\anaconda3\\lib\\site-packages (from httpx>=0.27.0->chromadb==0.5.3) (1.2.0)\n",
      "Requirement already satisfied: h11<0.15,>=0.13 in c:\\users\\user\\anaconda3\\lib\\site-packages (from httpcore==1.*->httpx>=0.27.0->chromadb==0.5.3) (0.14.0)\n",
      "Requirement already satisfied: six>=1.9.0 in c:\\users\\user\\anaconda3\\lib\\site-packages (from kubernetes>=28.1.0->chromadb==0.5.3) (1.16.0)\n",
      "Requirement already satisfied: python-dateutil>=2.5.3 in c:\\users\\user\\anaconda3\\lib\\site-packages (from kubernetes>=28.1.0->chromadb==0.5.3) (2.8.2)\n",
      "Requirement already satisfied: google-auth>=1.0.1 in c:\\users\\user\\anaconda3\\lib\\site-packages (from kubernetes>=28.1.0->chromadb==0.5.3) (2.34.0)\n",
      "Requirement already satisfied: websocket-client!=0.40.0,!=0.41.*,!=0.42.*,>=0.32.0 in c:\\users\\user\\anaconda3\\lib\\site-packages (from kubernetes>=28.1.0->chromadb==0.5.3) (0.58.0)\n",
      "Requirement already satisfied: requests-oauthlib in c:\\users\\user\\anaconda3\\lib\\site-packages (from kubernetes>=28.1.0->chromadb==0.5.3) (2.0.0)\n",
      "Requirement already satisfied: oauthlib>=3.2.2 in c:\\users\\user\\anaconda3\\lib\\site-packages (from kubernetes>=28.1.0->chromadb==0.5.3) (3.2.2)\n",
      "Requirement already satisfied: urllib3>=1.24.2 in c:\\users\\user\\anaconda3\\lib\\site-packages (from kubernetes>=28.1.0->chromadb==0.5.3) (1.26.16)\n",
      "Requirement already satisfied: coloredlogs in c:\\users\\user\\anaconda3\\lib\\site-packages (from onnxruntime>=1.14.1->chromadb==0.5.3) (15.0.1)\n",
      "Requirement already satisfied: flatbuffers in c:\\users\\user\\anaconda3\\lib\\site-packages (from onnxruntime>=1.14.1->chromadb==0.5.3) (24.3.25)\n",
      "Requirement already satisfied: protobuf in c:\\users\\user\\anaconda3\\lib\\site-packages (from onnxruntime>=1.14.1->chromadb==0.5.3) (4.25.4)\n",
      "Requirement already satisfied: sympy in c:\\users\\user\\anaconda3\\lib\\site-packages (from onnxruntime>=1.14.1->chromadb==0.5.3) (1.11.1)\n",
      "Requirement already satisfied: deprecated>=1.2.6 in c:\\users\\user\\anaconda3\\lib\\site-packages (from opentelemetry-api>=1.2.0->chromadb==0.5.3) (1.2.14)\n",
      "Requirement already satisfied: importlib-metadata<=8.4.0,>=6.0 in c:\\users\\user\\anaconda3\\lib\\site-packages (from opentelemetry-api>=1.2.0->chromadb==0.5.3) (6.0.0)\n",
      "Requirement already satisfied: googleapis-common-protos~=1.52 in c:\\users\\user\\anaconda3\\lib\\site-packages (from opentelemetry-exporter-otlp-proto-grpc>=1.2.0->chromadb==0.5.3) (1.65.0)\n",
      "Requirement already satisfied: opentelemetry-exporter-otlp-proto-common==1.27.0 in c:\\users\\user\\anaconda3\\lib\\site-packages (from opentelemetry-exporter-otlp-proto-grpc>=1.2.0->chromadb==0.5.3) (1.27.0)\n",
      "Requirement already satisfied: opentelemetry-proto==1.27.0 in c:\\users\\user\\anaconda3\\lib\\site-packages (from opentelemetry-exporter-otlp-proto-grpc>=1.2.0->chromadb==0.5.3) (1.27.0)\n",
      "Requirement already satisfied: opentelemetry-instrumentation-asgi==0.48b0 in c:\\users\\user\\anaconda3\\lib\\site-packages (from opentelemetry-instrumentation-fastapi>=0.41b0->chromadb==0.5.3) (0.48b0)\n",
      "Requirement already satisfied: opentelemetry-instrumentation==0.48b0 in c:\\users\\user\\anaconda3\\lib\\site-packages (from opentelemetry-instrumentation-fastapi>=0.41b0->chromadb==0.5.3) (0.48b0)\n",
      "Requirement already satisfied: opentelemetry-semantic-conventions==0.48b0 in c:\\users\\user\\anaconda3\\lib\\site-packages (from opentelemetry-instrumentation-fastapi>=0.41b0->chromadb==0.5.3) (0.48b0)\n",
      "Requirement already satisfied: opentelemetry-util-http==0.48b0 in c:\\users\\user\\anaconda3\\lib\\site-packages (from opentelemetry-instrumentation-fastapi>=0.41b0->chromadb==0.5.3) (0.48b0)\n",
      "Requirement already satisfied: setuptools>=16.0 in c:\\users\\user\\anaconda3\\lib\\site-packages (from opentelemetry-instrumentation==0.48b0->opentelemetry-instrumentation-fastapi>=0.41b0->chromadb==0.5.3) (68.0.0)\n",
      "Requirement already satisfied: wrapt<2.0.0,>=1.0.0 in c:\\users\\user\\anaconda3\\lib\\site-packages (from opentelemetry-instrumentation==0.48b0->opentelemetry-instrumentation-fastapi>=0.41b0->chromadb==0.5.3) (1.14.1)\n",
      "Requirement already satisfied: asgiref~=3.0 in c:\\users\\user\\anaconda3\\lib\\site-packages (from opentelemetry-instrumentation-asgi==0.48b0->opentelemetry-instrumentation-fastapi>=0.41b0->chromadb==0.5.3) (3.8.1)\n",
      "Requirement already satisfied: monotonic>=1.5 in c:\\users\\user\\anaconda3\\lib\\site-packages (from posthog>=2.4.0->chromadb==0.5.3) (1.6)\n",
      "Requirement already satisfied: backoff>=1.10.0 in c:\\users\\user\\anaconda3\\lib\\site-packages (from posthog>=2.4.0->chromadb==0.5.3) (2.2.1)\n",
      "Requirement already satisfied: charset-normalizer<4,>=2 in c:\\users\\user\\anaconda3\\lib\\site-packages (from requests>=2.28->chromadb==0.5.3) (2.0.4)\n",
      "Requirement already satisfied: click>=8.0.0 in c:\\users\\user\\anaconda3\\lib\\site-packages (from typer>=0.9.0->chromadb==0.5.3) (8.0.4)\n",
      "Requirement already satisfied: shellingham>=1.3.0 in c:\\users\\user\\anaconda3\\lib\\site-packages (from typer>=0.9.0->chromadb==0.5.3) (1.5.4)\n",
      "Requirement already satisfied: rich>=10.11.0 in c:\\users\\user\\anaconda3\\lib\\site-packages (from typer>=0.9.0->chromadb==0.5.3) (13.7.1)\n",
      "Requirement already satisfied: httptools>=0.5.0 in c:\\users\\user\\anaconda3\\lib\\site-packages (from uvicorn[standard]>=0.18.3->chromadb==0.5.3) (0.6.1)\n",
      "Requirement already satisfied: python-dotenv>=0.13 in c:\\users\\user\\anaconda3\\lib\\site-packages (from uvicorn[standard]>=0.18.3->chromadb==0.5.3) (0.21.0)\n",
      "Requirement already satisfied: watchfiles>=0.13 in c:\\users\\user\\anaconda3\\lib\\site-packages (from uvicorn[standard]>=0.18.3->chromadb==0.5.3) (0.24.0)\n",
      "Requirement already satisfied: websockets>=10.4 in c:\\users\\user\\anaconda3\\lib\\site-packages (from uvicorn[standard]>=0.18.3->chromadb==0.5.3) (13.0.1)\n",
      "Requirement already satisfied: cachetools<6.0,>=2.0.0 in c:\\users\\user\\anaconda3\\lib\\site-packages (from google-auth>=1.0.1->kubernetes>=28.1.0->chromadb==0.5.3) (5.5.0)\n",
      "Requirement already satisfied: pyasn1-modules>=0.2.1 in c:\\users\\user\\anaconda3\\lib\\site-packages (from google-auth>=1.0.1->kubernetes>=28.1.0->chromadb==0.5.3) (0.2.8)\n",
      "Requirement already satisfied: rsa<5,>=3.1.4 in c:\\users\\user\\anaconda3\\lib\\site-packages (from google-auth>=1.0.1->kubernetes>=28.1.0->chromadb==0.5.3) (4.9)\n",
      "Requirement already satisfied: zipp>=0.5 in c:\\users\\user\\anaconda3\\lib\\site-packages (from importlib-metadata<=8.4.0,>=6.0->opentelemetry-api>=1.2.0->chromadb==0.5.3) (3.11.0)\n",
      "Requirement already satisfied: markdown-it-py>=2.2.0 in c:\\users\\user\\anaconda3\\lib\\site-packages (from rich>=10.11.0->typer>=0.9.0->chromadb==0.5.3) (2.2.0)\n",
      "Requirement already satisfied: pygments<3.0.0,>=2.13.0 in c:\\users\\user\\anaconda3\\lib\\site-packages (from rich>=10.11.0->typer>=0.9.0->chromadb==0.5.3) (2.15.1)\n",
      "Requirement already satisfied: humanfriendly>=9.1 in c:\\users\\user\\anaconda3\\lib\\site-packages (from coloredlogs->onnxruntime>=1.14.1->chromadb==0.5.3) (10.0)\n",
      "Requirement already satisfied: mpmath>=0.19 in c:\\users\\user\\anaconda3\\lib\\site-packages (from sympy->onnxruntime>=1.14.1->chromadb==0.5.3) (1.3.0)\n",
      "Requirement already satisfied: pyreadline3 in c:\\users\\user\\anaconda3\\lib\\site-packages (from humanfriendly>=9.1->coloredlogs->onnxruntime>=1.14.1->chromadb==0.5.3) (3.5.0)\n",
      "Requirement already satisfied: mdurl~=0.1 in c:\\users\\user\\anaconda3\\lib\\site-packages (from markdown-it-py>=2.2.0->rich>=10.11.0->typer>=0.9.0->chromadb==0.5.3) (0.1.0)\n",
      "Requirement already satisfied: pyasn1<0.5.0,>=0.4.6 in c:\\users\\user\\anaconda3\\lib\\site-packages (from pyasn1-modules>=0.2.1->google-auth>=1.0.1->kubernetes>=28.1.0->chromadb==0.5.3) (0.4.8)\n",
      "Requirement already satisfied: datasets in c:\\users\\user\\anaconda3\\lib\\site-packages (2.12.0)\n",
      "Requirement already satisfied: numpy>=1.17 in c:\\users\\user\\anaconda3\\lib\\site-packages (from datasets) (1.24.3)\n",
      "Requirement already satisfied: pyarrow>=8.0.0 in c:\\users\\user\\anaconda3\\lib\\site-packages (from datasets) (11.0.0)\n",
      "Requirement already satisfied: dill<0.3.7,>=0.3.0 in c:\\users\\user\\anaconda3\\lib\\site-packages (from datasets) (0.3.6)\n",
      "Requirement already satisfied: pandas in c:\\users\\user\\anaconda3\\lib\\site-packages (from datasets) (2.0.3)\n",
      "Requirement already satisfied: requests>=2.19.0 in c:\\users\\user\\anaconda3\\lib\\site-packages (from datasets) (2.31.0)\n",
      "Requirement already satisfied: tqdm>=4.62.1 in c:\\users\\user\\anaconda3\\lib\\site-packages (from datasets) (4.65.0)\n",
      "Requirement already satisfied: xxhash in c:\\users\\user\\anaconda3\\lib\\site-packages (from datasets) (2.0.2)\n",
      "Requirement already satisfied: multiprocess in c:\\users\\user\\anaconda3\\lib\\site-packages (from datasets) (0.70.14)\n",
      "Requirement already satisfied: fsspec[http]>=2021.11.1 in c:\\users\\user\\anaconda3\\lib\\site-packages (from datasets) (2024.3.1)\n",
      "Requirement already satisfied: aiohttp in c:\\users\\user\\anaconda3\\lib\\site-packages (from datasets) (3.8.5)\n",
      "Requirement already satisfied: huggingface-hub<1.0.0,>=0.11.0 in c:\\users\\user\\anaconda3\\lib\\site-packages (from datasets) (0.22.2)\n",
      "Requirement already satisfied: packaging in c:\\users\\user\\anaconda3\\lib\\site-packages (from datasets) (23.1)\n",
      "Requirement already satisfied: responses<0.19 in c:\\users\\user\\anaconda3\\lib\\site-packages (from datasets) (0.13.3)\n",
      "Requirement already satisfied: pyyaml>=5.1 in c:\\users\\user\\anaconda3\\lib\\site-packages (from datasets) (6.0)\n",
      "Requirement already satisfied: attrs>=17.3.0 in c:\\users\\user\\anaconda3\\lib\\site-packages (from aiohttp->datasets) (22.1.0)\n",
      "Requirement already satisfied: charset-normalizer<4.0,>=2.0 in c:\\users\\user\\anaconda3\\lib\\site-packages (from aiohttp->datasets) (2.0.4)\n",
      "Requirement already satisfied: multidict<7.0,>=4.5 in c:\\users\\user\\anaconda3\\lib\\site-packages (from aiohttp->datasets) (6.0.2)\n",
      "Requirement already satisfied: async-timeout<5.0,>=4.0.0a3 in c:\\users\\user\\anaconda3\\lib\\site-packages (from aiohttp->datasets) (4.0.2)\n",
      "Requirement already satisfied: yarl<2.0,>=1.0 in c:\\users\\user\\anaconda3\\lib\\site-packages (from aiohttp->datasets) (1.8.1)\n",
      "Requirement already satisfied: frozenlist>=1.1.1 in c:\\users\\user\\anaconda3\\lib\\site-packages (from aiohttp->datasets) (1.3.3)\n",
      "Requirement already satisfied: aiosignal>=1.1.2 in c:\\users\\user\\anaconda3\\lib\\site-packages (from aiohttp->datasets) (1.2.0)\n",
      "Requirement already satisfied: filelock in c:\\users\\user\\anaconda3\\lib\\site-packages (from huggingface-hub<1.0.0,>=0.11.0->datasets) (3.9.0)\n",
      "Requirement already satisfied: typing-extensions>=3.7.4.3 in c:\\users\\user\\anaconda3\\lib\\site-packages (from huggingface-hub<1.0.0,>=0.11.0->datasets) (4.12.2)\n",
      "Requirement already satisfied: idna<4,>=2.5 in c:\\users\\user\\anaconda3\\lib\\site-packages (from requests>=2.19.0->datasets) (3.4)\n",
      "Requirement already satisfied: urllib3<3,>=1.21.1 in c:\\users\\user\\anaconda3\\lib\\site-packages (from requests>=2.19.0->datasets) (1.26.16)\n",
      "Requirement already satisfied: certifi>=2017.4.17 in c:\\users\\user\\anaconda3\\lib\\site-packages (from requests>=2.19.0->datasets) (2023.7.22)\n",
      "Requirement already satisfied: six in c:\\users\\user\\anaconda3\\lib\\site-packages (from responses<0.19->datasets) (1.16.0)\n",
      "Requirement already satisfied: colorama in c:\\users\\user\\anaconda3\\lib\\site-packages (from tqdm>=4.62.1->datasets) (0.4.6)\n",
      "Requirement already satisfied: python-dateutil>=2.8.2 in c:\\users\\user\\anaconda3\\lib\\site-packages (from pandas->datasets) (2.8.2)\n",
      "Requirement already satisfied: pytz>=2020.1 in c:\\users\\user\\anaconda3\\lib\\site-packages (from pandas->datasets) (2023.3.post1)\n",
      "Requirement already satisfied: tzdata>=2022.1 in c:\\users\\user\\anaconda3\\lib\\site-packages (from pandas->datasets) (2023.3)\n"
     ]
    }
   ],
   "source": [
    "#specific version to avoid error with vector store\n",
    "!pip install chromadb==0.5.3\n",
    "!pip install datasets"
   ]
  },
  {
   "cell_type": "code",
   "execution_count": 3,
   "id": "204047c6",
   "metadata": {},
   "outputs": [],
   "source": [
    "#loading training data for providing context to the model\n",
    "import pandas as pd\n",
    "train_data_df=pd.read_csv(\"C:/Users/USER/Documents/Projects/Instruction Dataset/LLM Training Data/train_data_split.csv\")\n",
    "## Convert the DataFrame to a format compatible with Hugging Face Datasets\n",
    "train_data_df['Instruction'] = train_data_df['Instruction']+ \". Input Text: \" + train_data_df['input_text'] + \"\\n\\nExtracted Properties:\\n\\n\"+ train_data_df['Output'].astype(str)\n",
    "train_dataset_dict = {\n",
    "    'instruction': train_data_df['Instruction'].tolist()\n",
    "}"
   ]
  },
  {
   "cell_type": "code",
   "execution_count": 4,
   "id": "0c866177",
   "metadata": {},
   "outputs": [],
   "source": [
    "#verify\n",
    "#train_dataset_dict"
   ]
  },
  {
   "cell_type": "code",
   "execution_count": 5,
   "id": "a9e25e8e",
   "metadata": {},
   "outputs": [],
   "source": [
    "#creating context document from the list\n",
    "docs=train_dataset_dict['instruction']"
   ]
  },
  {
   "cell_type": "code",
   "execution_count": 6,
   "id": "39a95589",
   "metadata": {},
   "outputs": [],
   "source": [
    "#initializing the embedding model\n",
    "from sentence_transformers import SentenceTransformer\n",
    "#pip install chromadb==0.5.3\n",
    "import chromadb\n",
    "from transformers import AutoTokenizer, AutoConfig, AutoModelForCausalLM\n",
    "import torch\n",
    "embedding_model = SentenceTransformer('sentence-transformers/all-mpnet-base-v2', cache_folder = '/data/base_models')"
   ]
  },
  {
   "cell_type": "code",
   "execution_count": 7,
   "id": "c8dd8db9",
   "metadata": {},
   "outputs": [],
   "source": [
    "#do the embedding\n",
    "embeddings = embedding_model.encode(docs)"
   ]
  },
  {
   "cell_type": "code",
   "execution_count": 8,
   "id": "15f5c3c2",
   "metadata": {},
   "outputs": [
    {
     "data": {
      "text/plain": [
       "(1040, 768)"
      ]
     },
     "execution_count": 8,
     "metadata": {},
     "output_type": "execute_result"
    }
   ],
   "source": [
    "#verify the embeddings\n",
    "embeddings.shape"
   ]
  },
  {
   "cell_type": "code",
   "execution_count": 9,
   "id": "0def7781",
   "metadata": {},
   "outputs": [],
   "source": [
    "#indexing-run this only once\n",
    "chroma_client = chromadb.Client()\n",
    "collection = chroma_client.create_collection(name=\"q-rag_gpt\")"
   ]
  },
  {
   "cell_type": "code",
   "execution_count": 10,
   "id": "6f784dfa",
   "metadata": {},
   "outputs": [],
   "source": [
    "#addding the train data\n",
    "collection.add(\n",
    "    embeddings = embeddings,\n",
    "    documents=docs,\n",
    "    ids= [str(i) for i in range(len(docs))]\n",
    ")"
   ]
  },
  {
   "cell_type": "code",
   "execution_count": 11,
   "id": "98794673",
   "metadata": {},
   "outputs": [],
   "source": [
    "#retrieving\n",
    "def retrieve_vector_db(query, n_results=3):\n",
    "    results = collection.query(\n",
    "    query_embeddings = embedding_model.encode(query).tolist(),\n",
    "    n_results=n_results\n",
    "    )\n",
    "    return results['documents']"
   ]
  },
  {
   "cell_type": "code",
   "execution_count": 12,
   "id": "fc0f5dbd",
   "metadata": {},
   "outputs": [
    {
     "name": "stdout",
     "output_type": "stream",
     "text": [
      "Please extract the design type of the quantum cascade laser device. Please print none if the value is not in text and do not give any explanations. In the output, just include only the extracted property. Input Text: We report the development of a quantum cascade laser, at l587.2 mm, corresponding to 3.44 THz or 14.2 meV photon energy. The GaAs/Al0.15Ga0.85As laser structure utilizes longitudinal-optical LO-phonon scattering for electron depopulation. Laser action is obtained in pulsed mode at temperatures up to 65 K, and at 50% duty cycle up to 29 K. Operating at 5 K in pulsed mode, the threshold current density is 840 A/cm2, and the peak power is approximately 2.5 mW. Based on the relatively high operating temperatures and duty cycles, we propose that direct LO-phonon-based depopulation is a robust method for achieving quantum cascade lasers at long-wavelength THz frequencies.\n"
     ]
    }
   ],
   "source": [
    "#sample query\n",
    "#we can have different queries depending on the property we are interested in\n",
    "#query=input (\"Please Enter your query here: \") \n",
    "query = \"Please extract the design type of the quantum cascade laser device. Please print none if the value is not in text and do not give any explanations. In the output, just include only the extracted property.\"\n",
    "#input_text is the user input text containing the properties for extraction\n",
    "#print(\"Enter the text containing the properties herer\")\n",
    "input_text= \"2.1 THz quantum cascade laser (QCL) based on a scatterin gassisted injection and resonant-phonon depopulation design scheme is demonstrated. The QCL is based on a four-well period implemented in the GaAs/Al0:15Ga0:85As material system. The QCL operates up to a heat-sink temperature of 144 K in pulsed-mode, which is considerably higher than that achieved for previously reported THz QCLs operating around the frequency of 2 THz. At 46 K, the threshold current-density was measured as \\~ 745 A/cm2 with a peak-power output of \\~ 10 mW. Electrically stable operation in a positive differential-resistance regime is achieved by a careful choice of design parameters. The results validate the robustness of scattering-assisted injection schemes for development of low-frequency (n < 2:5 THz) QCLs.\"\n",
    "input_text2=\"We report the development of a quantum cascade laser, at l587.2 mm, corresponding to 3.44 THz or 14.2 meV photon energy. The GaAs/Al0.15Ga0.85As laser structure utilizes longitudinal-optical LO-phonon scattering for electron depopulation. Laser action is obtained in pulsed mode at temperatures up to 65 K, and at 50% duty cycle up to 29 K. Operating at 5 K in pulsed mode, the threshold current density is 840 A/cm2, and the peak power is approximately 2.5 mW. Based on the relatively high operating temperatures and duty cycles, we propose that direct LO-phonon-based depopulation is a robust method for achieving quantum cascade lasers at long-wavelength THz frequencies.\"\n",
    "query=query+ \"\" + \" Input Text: \" +input_text2\n",
    "retrieved_results = retrieve_vector_db(query)\n",
    "print(query)"
   ]
  },
  {
   "cell_type": "code",
   "execution_count": 13,
   "id": "96bba61d",
   "metadata": {},
   "outputs": [
    {
     "data": {
      "text/plain": [
       "['From the following sentence, please extract the design type of the Quantum Cascade Semiconductor laser device. Print none if the value does not exist in the input text. Input Text: Given the above-normal operating temperatures and duty cycles, we assert that utilizing direct LO-phonon-based depopulation proves to be a robust method in the realization of long-wavelength THz quantum cascade lasers.\\t\\t\\n\\nExtracted Properties:\\n\\nLO-phonon',\n",
       " 'From the following sentence, please extract the design type of the Quantum Cascade Semiconductor laser device. Print none if the value does not exist in the input text. Input Text: Considering the relatively high temperatures at which they operate and the frequency of their cycles, we propose that leveraging direct LO-phonon-based depopulation is a dependable means of obtaining quantum cascade lasers that emit long-wavelength THz frequencies.\\t\\t\\n\\nExtracted Properties:\\n\\nLO-phonon',\n",
       " 'From the following sentence, please extract the design type of the Quantum Cascade Semiconductor laser device. Print none if the value does not exist in the input text. Input Text: Our experimental results show that by increasing the operating temperature to 100 degrees Celsius and doubling the duty cycle to 0.8, direct LO-phonon-based depopulation becomes an effective technique for generating quantum cascade lasers operating in the long-wavelength THz range.\\n\\nExtracted Properties:\\n\\nLO-phonon']"
      ]
     },
     "execution_count": 13,
     "metadata": {},
     "output_type": "execute_result"
    }
   ],
   "source": [
    "#viewing the retreived 3 sample context text based on the user query.\n",
    "retrieved_results[0]"
   ]
  },
  {
   "cell_type": "code",
   "execution_count": 14,
   "id": "a55f5271",
   "metadata": {},
   "outputs": [],
   "source": [
    "#assigning the context\n",
    "context=retrieved_results[0]"
   ]
  },
  {
   "cell_type": "code",
   "execution_count": 15,
   "id": "b29a9328",
   "metadata": {},
   "outputs": [],
   "source": [
    "#prompt template\n",
    "prompt = f'''\n",
    "[INST]\n",
    "Problem Definition: Extraction of quantum cascade laser properties from text entails extracting properties from a given text description. This should be done without providing any other additional information or explanations. The output format should correspond to the one in the example sentences. Example sentences containing an instruction, input text and the extracted properties are given below:\n",
    "\n",
    "Example Sentences: {context}\n",
    "\n",
    "Instruction: {query}\n",
    "\n",
    "[/INST]\n",
    "'''"
   ]
  },
  {
   "cell_type": "code",
   "execution_count": 16,
   "id": "3c25a488",
   "metadata": {},
   "outputs": [
    {
     "name": "stdout",
     "output_type": "stream",
     "text": [
      "\n",
      "[INST]\n",
      "Problem Definition: Extraction of quantum cascade laser properties from text entails extracting properties from a given text description. This should be done without providing any other additional information or explanations. The output format should correspond to the one in the example sentences. Example sentences containing an instruction, input text and the extracted properties are given below:\n",
      "\n",
      "Example Sentences: ['From the following sentence, please extract the design type of the Quantum Cascade Semiconductor laser device. Print none if the value does not exist in the input text. Input Text: Given the above-normal operating temperatures and duty cycles, we assert that utilizing direct LO-phonon-based depopulation proves to be a robust method in the realization of long-wavelength THz quantum cascade lasers.\\t\\t\\n\\nExtracted Properties:\\n\\nLO-phonon', 'From the following sentence, please extract the design type of the Quantum Cascade Semiconductor laser device. Print none if the value does not exist in the input text. Input Text: Considering the relatively high temperatures at which they operate and the frequency of their cycles, we propose that leveraging direct LO-phonon-based depopulation is a dependable means of obtaining quantum cascade lasers that emit long-wavelength THz frequencies.\\t\\t\\n\\nExtracted Properties:\\n\\nLO-phonon', 'From the following sentence, please extract the design type of the Quantum Cascade Semiconductor laser device. Print none if the value does not exist in the input text. Input Text: Our experimental results show that by increasing the operating temperature to 100 degrees Celsius and doubling the duty cycle to 0.8, direct LO-phonon-based depopulation becomes an effective technique for generating quantum cascade lasers operating in the long-wavelength THz range.\\n\\nExtracted Properties:\\n\\nLO-phonon']\n",
      "\n",
      "Instruction: Please extract the design type of the quantum cascade laser device. Please print none if the value is not in text and do not give any explanations. In the output, just include only the extracted property. Input Text: We report the development of a quantum cascade laser, at l587.2 mm, corresponding to 3.44 THz or 14.2 meV photon energy. The GaAs/Al0.15Ga0.85As laser structure utilizes longitudinal-optical LO-phonon scattering for electron depopulation. Laser action is obtained in pulsed mode at temperatures up to 65 K, and at 50% duty cycle up to 29 K. Operating at 5 K in pulsed mode, the threshold current density is 840 A/cm2, and the peak power is approximately 2.5 mW. Based on the relatively high operating temperatures and duty cycles, we propose that direct LO-phonon-based depopulation is a robust method for achieving quantum cascade lasers at long-wavelength THz frequencies.\n",
      "\n",
      "[/INST]\n",
      "\n"
     ]
    }
   ],
   "source": [
    "#view prompt\n",
    "print(prompt)"
   ]
  },
  {
   "cell_type": "code",
   "execution_count": 17,
   "id": "fe5df20f",
   "metadata": {},
   "outputs": [],
   "source": [
    "#parsing the complete prompt to GPT\n",
    "#GPT\n",
    "import openai\n",
    "import os\n",
    "from IPython.display import Markdown\n",
    "api_key=\"OPENAI_API_KEY\""
   ]
  },
  {
   "cell_type": "code",
   "execution_count": 18,
   "id": "c87974e0",
   "metadata": {},
   "outputs": [],
   "source": [
    "#some function to chat with GPT\n",
    "import openai\n",
    "\n",
    "# Set your API key securely\n",
    "openai.api_key = api_key\n",
    "\n",
    "def chatWithGPT4(user_text, print_output=False):\n",
    "    try:\n",
    "        # Creating text completions using the updated `ChatCompletion` class\n",
    "        response = openai.ChatCompletion.create(\n",
    "            model=\"gpt-4-turbo\",\n",
    "            messages=[{\"role\": \"system\", \"content\": \"You are a helpful assistant.\"},\n",
    "                      {\"role\": \"user\", \"content\": user_text}],\n",
    "            max_tokens=3000\n",
    "        )\n",
    "        text_output = response['choices'][0]['message']['content'] if response['choices'] else \"No response generated.\"\n",
    "        if print_output:\n",
    "            print(text_output)\n",
    "        return text_output\n",
    "    except Exception as e:\n",
    "        print(f\"An error occurred: {str(e)}\")\n",
    "        return None"
   ]
  },
  {
   "cell_type": "code",
   "execution_count": 19,
   "id": "8ff5237b",
   "metadata": {},
   "outputs": [
    {
     "name": "stdout",
     "output_type": "stream",
     "text": [
      "LO-phonon\n"
     ]
    }
   ],
   "source": [
    "# Extracting a property\n",
    "result = chatWithGPT4(prompt)\n",
    "print(result)"
   ]
  }
 ],
 "metadata": {
  "kernelspec": {
   "display_name": "Python 3 (ipykernel)",
   "language": "python",
   "name": "python3"
  },
  "language_info": {
   "codemirror_mode": {
    "name": "ipython",
    "version": 3
   },
   "file_extension": ".py",
   "mimetype": "text/x-python",
   "name": "python",
   "nbconvert_exporter": "python",
   "pygments_lexer": "ipython3",
   "version": "3.11.5"
  }
 },
 "nbformat": 4,
 "nbformat_minor": 5
}
