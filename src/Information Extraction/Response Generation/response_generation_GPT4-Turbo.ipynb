{
 "cells": [
  {
   "cell_type": "code",
   "execution_count": 1,
   "id": "fc064b0f",
   "metadata": {},
   "outputs": [
    {
     "data": {
      "text/plain": [
       "'\\n!pip install transformers==4.31.0 \\n!pip install sentence-transformers==2.2.2 \\n!pip accelerate==0.21.0 !pip einops==0.6.1 !pip langchain==0.0.240 !pip xformers==0.0.20 '"
      ]
     },
     "execution_count": 1,
     "metadata": {},
     "output_type": "execute_result"
    }
   ],
   "source": [
    "#libraries\n",
    "'''\n",
    "!pip install transformers==4.31.0 \n",
    "!pip install sentence-transformers==2.2.2 \n",
    "!pip accelerate==0.21.0 \\\n",
    "!pip einops==0.6.1 \\\n",
    "!pip langchain==0.0.240 \\\n",
    "!pip xformers==0.0.20 \\\n",
    "'''"
   ]
  },
  {
   "cell_type": "code",
   "execution_count": 2,
   "id": "69df11ef",
   "metadata": {},
   "outputs": [],
   "source": [
    "#loading test data for response generation\n",
    "import pandas as pd\n",
    "test_data_path=\"C:/Users/USER/Documents/Projects/Instruction Dataset/LLM Training Data/test_data_split.csv\""
   ]
  },
  {
   "cell_type": "code",
   "execution_count": 3,
   "id": "1c2d333a",
   "metadata": {},
   "outputs": [],
   "source": [
    "#processing the test data to add the queries\n",
    "#defining the queries for the properties-we need to choose a query based on the input\n",
    "query_temperature=\"working temperature of the quantum cascade laser\"\n",
    "query_power= \"optical power of the quantum cascade laser\"\n",
    "query_frequency=\"lasing frequency of the quantum cascade laser\"\n",
    "query_hs=\"heterostructure of the quantum cascade laser\"\n",
    "query_design_type=\"design type of the quantum cascade laser\""
   ]
  },
  {
   "cell_type": "code",
   "execution_count": 4,
   "id": "05ec03e0",
   "metadata": {},
   "outputs": [],
   "source": [
    "#checking for the query keywords\n",
    "#checking for the query keywords\n",
    "def check_text(row, column_name):\n",
    "    text = row[column_name].lower()\n",
    "    if \"working temperature\" in text:\n",
    "        return query_temperature\n",
    "    elif \"optical power\" in text:\n",
    "        return query_power\n",
    "    elif \"lasing frequency\" in text:\n",
    "        return query_frequency\n",
    "    elif \"query_hs\" in text:\n",
    "        return query_hs\n",
    "    else:\n",
    "        return query_design_type"
   ]
  },
  {
   "cell_type": "code",
   "execution_count": 5,
   "id": "94383724",
   "metadata": {},
   "outputs": [],
   "source": [
    "#processing the data\n",
    "def process_csv(input_filepath, output_filepath, column_name):\n",
    "    # Load the CSV file\n",
    "    df = pd.read_csv(input_filepath)\n",
    "\n",
    "    # Check if the specified column exists\n",
    "    if column_name in df.columns:\n",
    "        # Apply the check_text function to the specified column and create a new column with the results\n",
    "        df['queries'] = df.apply(check_text, axis=1, args=(column_name,))\n",
    "    else:\n",
    "        print(f\"Column '{column_name}' does not exist in the CSV file.\")\n",
    "        return\n",
    "\n",
    "    # Save the modified DataFrame to a new CSV file\n",
    "    df.to_csv(output_filepath, index=False)\n",
    "    print(f\"Processed file saved as '{output_filepath}'.\")"
   ]
  },
  {
   "cell_type": "code",
   "execution_count": 6,
   "id": "27f6e957",
   "metadata": {},
   "outputs": [
    {
     "name": "stdout",
     "output_type": "stream",
     "text": [
      "Processed file saved as 'processed_test_data.csv'.\n"
     ]
    }
   ],
   "source": [
    "#processing the test data\n",
    "input_csv = test_data_path\n",
    "output_csv = 'processed_test_data.csv'\n",
    "column_to_check = 'Instruction'\n",
    "process_csv(input_csv, output_csv, column_to_check)"
   ]
  },
  {
   "cell_type": "code",
   "execution_count": 7,
   "id": "00601324",
   "metadata": {},
   "outputs": [],
   "source": [
    "#loading the processed test data\n",
    "test_data_df=pd.read_csv('processed_test_data.csv')"
   ]
  },
  {
   "cell_type": "code",
   "execution_count": 8,
   "id": "e2ca8ba8",
   "metadata": {},
   "outputs": [],
   "source": [
    "#putting the data in some order and renaming the columns\n",
    "test_data_df=test_data_df[['queries', 'Instruction', 'input_text']]\n",
    "test_data_df.rename(columns={'Instruction': 'instructions', 'input_text': 'texts'}, inplace=True)"
   ]
  },
  {
   "cell_type": "code",
   "execution_count": 9,
   "id": "c449c9df",
   "metadata": {},
   "outputs": [],
   "source": [
    "#verifying the ordered data\n",
    "#test_data_df"
   ]
  },
  {
   "cell_type": "code",
   "execution_count": 10,
   "id": "ea044b53",
   "metadata": {},
   "outputs": [],
   "source": [
    "#generating a lsit of prompts\n",
    "prompts=[]\n",
    "for a,b in zip(test_data_df['instructions'],test_data_df['texts']):\n",
    "    prompt = f'''\n",
    "[INST]\n",
    "Problem Definition: Extraction of quantum cascade laser properties from text entails extracting properties from a given text description. This should be done without providing any other additional information or explanations.\n",
    "\n",
    "Instruction: {a}\n",
    "\n",
    "Input Text: {b}\n",
    "\n",
    "[/INST]\n",
    "'''\n",
    "    prompts.append(prompt)"
   ]
  },
  {
   "cell_type": "code",
   "execution_count": 11,
   "id": "a3b48c68",
   "metadata": {},
   "outputs": [],
   "source": [
    "#verifying the list of prompts generated for each row in the dataset\n",
    "#display the prompt\n",
    "#prompts"
   ]
  },
  {
   "cell_type": "code",
   "execution_count": 12,
   "id": "aa7be7b8",
   "metadata": {},
   "outputs": [
    {
     "name": "stdout",
     "output_type": "stream",
     "text": [
      "130\n"
     ]
    }
   ],
   "source": [
    "#verify the length of the prompt list\n",
    "print(len(prompts))"
   ]
  },
  {
   "cell_type": "code",
   "execution_count": 13,
   "id": "7dc57d6b",
   "metadata": {},
   "outputs": [],
   "source": [
    "#GPT\n",
    "import openai\n",
    "import os\n",
    "from IPython.display import Markdown\n",
    "api_key=\"OPENAI_API_KEY\""
   ]
  },
  {
   "cell_type": "code",
   "execution_count": 14,
   "id": "40fc0d0e",
   "metadata": {},
   "outputs": [],
   "source": [
    "import openai\n",
    "\n",
    "# Set your API key securely\n",
    "openai.api_key = api_key\n",
    "\n",
    "def chatWithGPT4(user_text, print_output=False):\n",
    "    try:\n",
    "        # Creating text completions using the updated `ChatCompletion` class\n",
    "        response = openai.ChatCompletion.create(\n",
    "            model=\"gpt-4-turbo\",  # Easily switch between \"gpt-3.5-turbo-0613\", \"gpt-4\", \"text-davinci-004\", or others\n",
    "            messages=[{\"role\": \"system\", \"content\": \"You are a helpful assistant.\"},\n",
    "                      {\"role\": \"user\", \"content\": user_text}],\n",
    "            max_tokens=3000\n",
    "        )\n",
    "        text_output = response['choices'][0]['message']['content'] if response['choices'] else \"No response generated.\"\n",
    "        if print_output:\n",
    "            print(text_output)\n",
    "        return text_output\n",
    "    except Exception as e:\n",
    "        print(f\"An error occurred: {str(e)}\")\n",
    "        return None"
   ]
  },
  {
   "cell_type": "code",
   "execution_count": 15,
   "id": "e063440a",
   "metadata": {},
   "outputs": [],
   "source": [
    "#getting the model responses in a list\n",
    "responses=[]\n",
    "for prompt in prompts:\n",
    "    result=chatWithGPT4(prompt)\n",
    "    responses.append(result)"
   ]
  },
  {
   "cell_type": "code",
   "execution_count": 16,
   "id": "7f4c08f8",
   "metadata": {},
   "outputs": [
    {
     "data": {
      "text/plain": [
       "['3.3 THz',\n",
       " '10 mW',\n",
       " '2.07 THz',\n",
       " '190 K in pulsed mode and 125 K in continuous wave mode',\n",
       " '107 K in pulsed mode, 91 K in continuous wave (cw) mode',\n",
       " 'none',\n",
       " 'In0.6Ga0.4As/InAs',\n",
       " '3.0 THz',\n",
       " '185 K',\n",
       " '325 K',\n",
       " 'none',\n",
       " '195 K',\n",
       " '24 mW',\n",
       " 'none',\n",
       " '150 K in pulsed mode and 110 K in continuous wave mode',\n",
       " 'none',\n",
       " '113 K in pulsed mode, 89 K in continuous wave (cw) mode',\n",
       " '70K',\n",
       " 'None',\n",
       " 'resonant-phonon terahertz',\n",
       " '182 K',\n",
       " 'none',\n",
       " 'GaAs/Al0.15Ga0.85As',\n",
       " 'none',\n",
       " 'direct LO-phonon-based depopulation',\n",
       " '3.5 THz',\n",
       " '115 K, 98 K',\n",
       " '13.5 THz',\n",
       " '12.4 THz',\n",
       " '9.5 THz',\n",
       " 'GaAs/Al0.15Ga0.85As',\n",
       " 'scattering-assisted injection and resonant-phonon depopulation',\n",
       " '1.88 and 2.42 THz',\n",
       " 'None',\n",
       " '18mW',\n",
       " '6 THz',\n",
       " '10 mW',\n",
       " 'GaAs/AlGaAs',\n",
       " '5.2 THz',\n",
       " '15 mW',\n",
       " '8.2 THz',\n",
       " '10 milliwatts',\n",
       " 'Bound-to-continuum',\n",
       " '2.12 THz',\n",
       " '260 K',\n",
       " 'bound-to-continuum active region and high-resistivity surface-plasmon waveguide design',\n",
       " 'resonant-phonon terahertz',\n",
       " '119 K',\n",
       " '225 K',\n",
       " 'GaAs/Al0.15Ga0.85As',\n",
       " 'None',\n",
       " 'resonant-phonon terahertz',\n",
       " '5.6 W',\n",
       " 'scattering-assisted injection and resonant-phonon depopulation',\n",
       " '25.1 W',\n",
       " '3.63 THz',\n",
       " 'none',\n",
       " 'Bound-to-continuum',\n",
       " 'InGaN/AlGaN',\n",
       " 'None',\n",
       " '0.7 mW',\n",
       " '144 K',\n",
       " '168 K in pulsed mode and 121 K in continuous-wave mode',\n",
       " '95K',\n",
       " 'none',\n",
       " '40mW',\n",
       " '8mW',\n",
       " '0.8 mW',\n",
       " '4.7 THz',\n",
       " '155 K',\n",
       " '0.9 mW',\n",
       " '110 K',\n",
       " '235 K',\n",
       " '1.2 THz',\n",
       " '33 mW',\n",
       " '119K',\n",
       " '0.6 mW',\n",
       " '90mW',\n",
       " '175 K',\n",
       " 'none',\n",
       " 'Bound-to-continuum',\n",
       " '2.62 THz',\n",
       " '4.5 mW',\n",
       " '3 THz',\n",
       " 'none',\n",
       " '165 K',\n",
       " '5 THz',\n",
       " '85 K',\n",
       " '27 mW',\n",
       " 'none',\n",
       " '9 THz',\n",
       " '1.8 THz',\n",
       " 'none',\n",
       " 'None',\n",
       " '180 K in pulsed mode and 110 K in continuous wave mode',\n",
       " '7 THz',\n",
       " '170 K',\n",
       " '2.5 mW',\n",
       " '0.5 mW',\n",
       " '220 K in pulsed mode and 135 K in continuous wave mode',\n",
       " 'Bound-to-continuum active region and high-resistivity surface-plasmon waveguide design',\n",
       " '35 mW',\n",
       " 'GaAs/Al0.15Ga0.85As',\n",
       " 'resonant-phonon terahertz',\n",
       " '250mW',\n",
       " 'In0.53Ga0.47As/GaAs0.51Sb0.49',\n",
       " 'None',\n",
       " '178 K',\n",
       " '5.37 THz',\n",
       " '0.5 mW',\n",
       " '217 K',\n",
       " '220 K',\n",
       " '5.3 THz',\n",
       " 'bound-to-continuum active area along with a semi-insulating surface-plasmon waveguide design',\n",
       " 'GaAs/Al0.25Ga0.75As',\n",
       " 'InAs/InP',\n",
       " '0.23 W',\n",
       " '100K',\n",
       " 'bound-to-continuum active region and high-resistivity surface-plasmon waveguide design',\n",
       " 'none',\n",
       " '0.23 W',\n",
       " '300 K',\n",
       " '3.36 and 3.92 THz',\n",
       " 'GaAs/Al0.15Ga0.85As',\n",
       " '7.3 THz',\n",
       " '8.9 THz',\n",
       " '180 K',\n",
       " '164 K',\n",
       " 'none',\n",
       " '3.9 THz']"
      ]
     },
     "execution_count": 16,
     "metadata": {},
     "output_type": "execute_result"
    }
   ],
   "source": [
    "#dispalying the responses\n",
    "responses"
   ]
  },
  {
   "cell_type": "code",
   "execution_count": 17,
   "id": "b605ae43",
   "metadata": {},
   "outputs": [
    {
     "name": "stdout",
     "output_type": "stream",
     "text": [
      "List saved to GPT4-Turbo-responses.csv\n"
     ]
    }
   ],
   "source": [
    "#writing the model responses to a csv file\n",
    "import csv\n",
    "\n",
    "# Name of the csv file to save the list\n",
    "file_name = \"GPT4-Turbo-responses.csv\"\n",
    "\n",
    "# Writing the list to a csv file with one column\n",
    "with open(file_name, \"w\", newline=\"\") as file:\n",
    "    writer = csv.writer(file)\n",
    "    for item in responses:\n",
    "        writer.writerow([item])\n",
    "\n",
    "print(\"List saved to\", file_name)"
   ]
  }
 ],
 "metadata": {
  "kernelspec": {
   "display_name": "Python 3 (ipykernel)",
   "language": "python",
   "name": "python3"
  },
  "language_info": {
   "codemirror_mode": {
    "name": "ipython",
    "version": 3
   },
   "file_extension": ".py",
   "mimetype": "text/x-python",
   "name": "python",
   "nbconvert_exporter": "python",
   "pygments_lexer": "ipython3",
   "version": "3.11.5"
  }
 },
 "nbformat": 4,
 "nbformat_minor": 5
}
