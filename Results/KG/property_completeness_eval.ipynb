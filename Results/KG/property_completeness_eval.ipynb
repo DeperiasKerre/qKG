{
 "cells": [
  {
   "cell_type": "code",
   "execution_count": 39,
   "id": "db539669",
   "metadata": {},
   "outputs": [],
   "source": [
    "#importing a graph structure\n",
    "from rdflib import Graph"
   ]
  },
  {
   "cell_type": "code",
   "execution_count": 40,
   "id": "58d25417",
   "metadata": {},
   "outputs": [
    {
     "data": {
      "text/plain": [
       "<Graph identifier=Nf13ff23aa8594097b0caaeba347d2fbb (<class 'rdflib.graph.Graph'>)>"
      ]
     },
     "execution_count": 40,
     "metadata": {},
     "output_type": "execute_result"
    }
   ],
   "source": [
    "#loading the QCL KG\n",
    "qcl_KG=Graph()\n",
    "qcl_KG.parse(\"qcl_KG.ttl\")"
   ]
  },
  {
   "cell_type": "code",
   "execution_count": 41,
   "id": "f49bbba4",
   "metadata": {},
   "outputs": [
    {
     "name": "stdout",
     "output_type": "stream",
     "text": [
      "Number of elements:2979\n"
     ]
    }
   ],
   "source": [
    "#number of graph elements\n",
    "print(f\"Number of elements:{len(qcl_KG)}\")"
   ]
  },
  {
   "cell_type": "code",
   "execution_count": 42,
   "id": "5078ad67",
   "metadata": {},
   "outputs": [
    {
     "name": "stdout",
     "output_type": "stream",
     "text": [
      "Number of Papers in KG:  474\n",
      "Number of DOIs in KG:  474\n"
     ]
    }
   ],
   "source": [
    "#Checking for property completeness\n",
    "##DOI\n",
    "paper_instances_in_KG=[]\n",
    "DOIs_in_KG=[]\n",
    "for s,p,o in qcl_KG:\n",
    "    if(\"paper_id\" in s and \"DOI\" in p):\n",
    "        paper_instances_in_KG.append(s)\n",
    "        DOIs_in_KG.append(o)\n",
    "print(\"Number of Papers in KG: \",len(paper_instances_in_KG))\n",
    "print(\"Number of DOIs in KG: \", len(DOIs_in_KG))"
   ]
  },
  {
   "cell_type": "code",
   "execution_count": 43,
   "id": "4853f9c0",
   "metadata": {},
   "outputs": [
    {
     "name": "stdout",
     "output_type": "stream",
     "text": [
      "Number of heterostructure materials instances in KG:  14\n",
      "Number of materials formula in KG:  14\n"
     ]
    }
   ],
   "source": [
    "##Heterostructure Material Formula\n",
    "hs_materials_instances_in_KG=[]\n",
    "hs_materials_formula_in_KG=[]\n",
    "for s,p,o in qcl_KG:\n",
    "    if(\"hs_materials_ID\" in s and \"matFormula\" in p):\n",
    "        hs_materials_instances_in_KG.append(s)\n",
    "        hs_materials_formula_in_KG.append(o)\n",
    "print(\"Number of heterostructure materials instances in KG: \",len(hs_materials_instances_in_KG))\n",
    "print(\"Number of materials formula in KG: \", len(hs_materials_formula_in_KG))"
   ]
  },
  {
   "cell_type": "code",
   "execution_count": 44,
   "id": "a3652449",
   "metadata": {},
   "outputs": [
    {
     "name": "stdout",
     "output_type": "stream",
     "text": [
      "Number of power quantity values in KG:  14\n",
      "Number of power numeric values in KG:  14\n"
     ]
    }
   ],
   "source": [
    "#numerical Values\n",
    "##power\n",
    "power_qv_instances_in_KG=[]\n",
    "power_numeric_values_in_KG=[]\n",
    "for s,p,o in qcl_KG:\n",
    "    if(\"power_value_ID\" in s and \"numericValue\" in p):\n",
    "        power_qv_instances_in_KG.append(s)\n",
    "        power_numeric_values_in_KG.append(o)\n",
    "print(\"Number of power quantity values in KG: \",len(power_qv_instances_in_KG))\n",
    "print(\"Number of power numeric values in KG: \", len(power_numeric_values_in_KG))"
   ]
  },
  {
   "cell_type": "code",
   "execution_count": 45,
   "id": "a62caf9f",
   "metadata": {},
   "outputs": [
    {
     "name": "stdout",
     "output_type": "stream",
     "text": [
      "Number of frequency quantity values in KG:  20\n",
      "Number of frequency numeric values in KG:  20\n"
     ]
    }
   ],
   "source": [
    "##frequency\n",
    "frequency_qv_instances_in_KG=[]\n",
    "frequency_numeric_values_in_KG=[]\n",
    "for s,p,o in qcl_KG:\n",
    "    if(\"frequency_value_ID\" in s and \"numericValue\" in p):\n",
    "        frequency_qv_instances_in_KG.append(s)\n",
    "        frequency_numeric_values_in_KG.append(o)\n",
    "print(\"Number of frequency quantity values in KG: \",len(frequency_qv_instances_in_KG))\n",
    "print(\"Number of frequency numeric values in KG: \", len(frequency_numeric_values_in_KG))"
   ]
  },
  {
   "cell_type": "code",
   "execution_count": 46,
   "id": "687c2517",
   "metadata": {},
   "outputs": [
    {
     "name": "stdout",
     "output_type": "stream",
     "text": [
      "Number of temp in cw quantity values in KG:  25\n",
      "Number of temp in cw numeric values in KG:  25\n"
     ]
    }
   ],
   "source": [
    "#Working temperature\n",
    "###continuous wave mode\n",
    "temp_cw_qv_instances_in_KG=[]\n",
    "temp_cw_numeric_values_in_KG=[]\n",
    "for s,p,o in qcl_KG:\n",
    "    if(\"temp_cw_value_ID\" in s and \"numericValue\" in p):\n",
    "        temp_cw_qv_instances_in_KG.append(s)\n",
    "        temp_cw_numeric_values_in_KG.append(o)\n",
    "print(\"Number of temp in cw quantity values in KG: \",len(temp_cw_qv_instances_in_KG))\n",
    "print(\"Number of temp in cw numeric values in KG: \", len(temp_cw_numeric_values_in_KG))"
   ]
  },
  {
   "cell_type": "code",
   "execution_count": 47,
   "id": "8aa76351",
   "metadata": {},
   "outputs": [
    {
     "name": "stdout",
     "output_type": "stream",
     "text": [
      "Number of temp in pm quantity values in KG:  10\n",
      "Number of temp in pm numeric values in KG:  10\n"
     ]
    }
   ],
   "source": [
    "###continuous wave mode\n",
    "temp_pm_qv_instances_in_KG=[]\n",
    "temp_pm_numeric_values_in_KG=[]\n",
    "for s,p,o in qcl_KG:\n",
    "    if(\"temp_pm_value_ID\" in s and \"numericValue\" in p):\n",
    "        temp_pm_qv_instances_in_KG.append(s)\n",
    "        temp_pm_numeric_values_in_KG.append(o)\n",
    "print(\"Number of temp in pm quantity values in KG: \",len(temp_pm_qv_instances_in_KG))\n",
    "print(\"Number of temp in pm numeric values in KG: \", len(temp_pm_numeric_values_in_KG))"
   ]
  },
  {
   "cell_type": "code",
   "execution_count": 48,
   "id": "8249127e",
   "metadata": {},
   "outputs": [
    {
     "name": "stdout",
     "output_type": "stream",
     "text": [
      "Number of Instances in KG:  69\n",
      "Number of Data Values in KG:  69\n"
     ]
    }
   ],
   "source": [
    "#Summary for available data for numeric values\n",
    "instances_in_KG=len(power_qv_instances_in_KG)+len(frequency_qv_instances_in_KG)+len(temp_cw_qv_instances_in_KG)+len(temp_pm_qv_instances_in_KG)\n",
    "print(\"Number of Instances in KG: \", instances_in_KG)\n",
    "data_values_in_KG=len(power_numeric_values_in_KG)+len(frequency_numeric_values_in_KG)+len(temp_cw_numeric_values_in_KG)+len(temp_pm_numeric_values_in_KG)\n",
    "print(\"Number of Data Values in KG: \", instances_in_KG)"
   ]
  }
 ],
 "metadata": {
  "kernelspec": {
   "display_name": "Python 3 (ipykernel)",
   "language": "python",
   "name": "python3"
  },
  "language_info": {
   "codemirror_mode": {
    "name": "ipython",
    "version": 3
   },
   "file_extension": ".py",
   "mimetype": "text/x-python",
   "name": "python",
   "nbconvert_exporter": "python",
   "pygments_lexer": "ipython3",
   "version": "3.11.5"
  }
 },
 "nbformat": 4,
 "nbformat_minor": 5
}
