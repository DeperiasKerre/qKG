{
 "cells": [
  {
   "cell_type": "code",
   "execution_count": 114,
   "id": "d6191479",
   "metadata": {},
   "outputs": [],
   "source": [
    "#importing a graph structure\n",
    "from rdflib import Graph"
   ]
  },
  {
   "cell_type": "code",
   "execution_count": 115,
   "id": "ad830457",
   "metadata": {},
   "outputs": [
    {
     "data": {
      "text/plain": [
       "<Graph identifier=N9b55693b5661476b8c1efb288870cdf9 (<class 'rdflib.graph.Graph'>)>"
      ]
     },
     "execution_count": 115,
     "metadata": {},
     "output_type": "execute_result"
    }
   ],
   "source": [
    "#loading the QCL KG\n",
    "qcl_KG=Graph()\n",
    "qcl_KG.parse(\"qcl_KG.ttl\")"
   ]
  },
  {
   "cell_type": "code",
   "execution_count": 116,
   "id": "6bb58e25",
   "metadata": {},
   "outputs": [
    {
     "name": "stdout",
     "output_type": "stream",
     "text": [
      "Number of elements:2979\n"
     ]
    }
   ],
   "source": [
    "#number of graph elements\n",
    "print(f\"Number of elements:{len(qcl_KG)}\")"
   ]
  },
  {
   "cell_type": "code",
   "execution_count": 117,
   "id": "9e91b8ec",
   "metadata": {},
   "outputs": [],
   "source": [
    "#checking the instances with the wasAttributedTo relation\n",
    "##heterostructure\n",
    "hs_instances_with_relation=[]\n",
    "for s,p,o in qcl_KG:\n",
    "    if(\"heterostructure_ID\" in s and \"wasAttributedTo\" in p):\n",
    "        hs_instances_with_relation.append(s)\n",
    "hs_instances_with_relation=len(hs_instances_with_relation)\n",
    "total_hs_instances_in_KG =21 \n",
    "##power\n",
    "power_instances_with_relation=[]\n",
    "for s,p,o in qcl_KG:\n",
    "    if(\"power_ID\" in s and \"wasAttributedTo\" in p):\n",
    "        power_instances_with_relation.append(s)\n",
    "power_instances_with_relation=len(power_instances_with_relation)\n",
    "total_power_instances_in_KG =16\n",
    "##frequency\n",
    "frequency_instances_with_relation=[]\n",
    "for s,p,o in qcl_KG:\n",
    "    if(\"frequency_ID\" in s and \"wasAttributedTo\" in p):\n",
    "        frequency_instances_with_relation.append(s)\n",
    "frequency_instances_with_relation=len(frequency_instances_with_relation)\n",
    "frequency_instances_in_KG =27\n",
    "##working temperature (continuous wave)\n",
    "working_temp_cw_instances_with_relation=[]\n",
    "for s,p,o in qcl_KG:\n",
    "    if(\"temp_cw_ID\" in s and \"wasAttributedTo\" in p):\n",
    "        working_temp_cw_instances_with_relation.append(s)\n",
    "working_temp_cw_instances_with_relation=len(working_temp_cw_instances_with_relation)\n",
    "working_temp_cw_instances_in_KG =26\n",
    "##working temperature (pulse mode)\n",
    "working_temp_pm_instances_with_relation=[]\n",
    "for s,p,o in qcl_KG:\n",
    "    if(\"temp_pm_ID\" in s and \"wasAttributedTo\" in p):\n",
    "        working_temp_pm_instances_with_relation.append(s)\n",
    "working_temp_pm_instances_with_relation=len(working_temp_pm_instances_with_relation)\n",
    "working_temp_pm_instances_in_KG = 10"
   ]
  },
  {
   "cell_type": "code",
   "execution_count": 118,
   "id": "8e1a3aa5",
   "metadata": {},
   "outputs": [
    {
     "name": "stdout",
     "output_type": "stream",
     "text": [
      "Number of Instances in KG: 100\n",
      "Number of Instances with Relation: 100\n"
     ]
    }
   ],
   "source": [
    "#summary for the wasAttributedTo relation\n",
    "number_of_instances_in_KG=total_hs_instances_in_KG+total_power_instances_in_KG+frequency_instances_in_KG+working_temp_cw_instances_in_KG+working_temp_pm_instances_in_KG\n",
    "print(\"Number of Instances in KG:\",number_of_instances_in_KG)\n",
    "number_of_instances_in_KG_with_relation=hs_instances_with_relation+power_instances_with_relation+frequency_instances_with_relation+working_temp_cw_instances_with_relation+working_temp_pm_instances_with_relation\n",
    "print(\"Number of Instances with Relation:\",number_of_instances_in_KG_with_relation)"
   ]
  },
  {
   "cell_type": "code",
   "execution_count": 119,
   "id": "dd63b401",
   "metadata": {},
   "outputs": [],
   "source": [
    "#checking the instances with the correspondsToWorkingMode relation\n",
    "##working temperature (continuous wave)\n",
    "working_temp_cw_instances_with_relation=[]\n",
    "for s,p,o in qcl_KG:\n",
    "    if(\"temp_cw_ID\" in s and \"correspondsToWorkingMode\" in p):\n",
    "        working_temp_cw_instances_with_relation.append(s)\n",
    "working_temp_cw_instances_with_relation=len(working_temp_cw_instances_with_relation)\n",
    "working_temp_cw_instances_in_KG =26\n",
    "##working temperature (pulse mode)\n",
    "working_temp_pm_instances_with_relation=[]\n",
    "for s,p,o in qcl_KG:\n",
    "    if(\"temp_pm_ID\" in s and \"correspondsToWorkingMode\" in p):\n",
    "        working_temp_pm_instances_with_relation.append(s)\n",
    "working_temp_pm_instances_with_relation=len(working_temp_pm_instances_with_relation)\n",
    "working_temp_pm_instances_in_KG = 10"
   ]
  },
  {
   "cell_type": "code",
   "execution_count": 120,
   "id": "b8f2783d",
   "metadata": {},
   "outputs": [
    {
     "name": "stdout",
     "output_type": "stream",
     "text": [
      "Number of Instances in KG: 36\n",
      "Number of Instances with Relation: 36\n"
     ]
    }
   ],
   "source": [
    "#summary for the correspondsToWorkingMode relation\n",
    "number_of_instances_in_KG=working_temp_cw_instances_in_KG+working_temp_pm_instances_in_KG\n",
    "print(\"Number of Instances in KG:\",number_of_instances_in_KG)\n",
    "number_of_instances_in_KG_with_relation=working_temp_cw_instances_with_relation+working_temp_pm_instances_with_relation\n",
    "print(\"Number of Instances with Relation:\",number_of_instances_in_KG_with_relation)"
   ]
  },
  {
   "cell_type": "code",
   "execution_count": 121,
   "id": "0cc87ee6",
   "metadata": {},
   "outputs": [],
   "source": [
    "#checking the instances with the hasQuantityValue relation\n",
    "##working temperature (continuous wave)\n",
    "working_temp_cw_instances_with_relation=[]\n",
    "for s,p,o in qcl_KG:\n",
    "    if(\"temp_cw_ID\" in s and \"hasQuantityValue\" in p):\n",
    "        working_temp_cw_instances_with_relation.append(s)\n",
    "working_temp_cw_instances_with_relation=len(working_temp_cw_instances_with_relation)\n",
    "working_temp_cw_instances_in_KG =26\n",
    "##working temperature (pulse mode)\n",
    "working_temp_pm_instances_with_relation=[]\n",
    "for s,p,o in qcl_KG:\n",
    "    if(\"temp_pm_ID\" in s and \"hasQuantityValue\" in p):\n",
    "        working_temp_pm_instances_with_relation.append(s)\n",
    "working_temp_pm_instances_with_relation=len(working_temp_pm_instances_with_relation)\n",
    "working_temp_pm_instances_in_KG = 10\n",
    "##power\n",
    "power_instances_with_relation=[]\n",
    "for s,p,o in qcl_KG:\n",
    "    if(\"power_ID\" in s and \"hasQuantityValue\" in p):\n",
    "        power_instances_with_relation.append(s)\n",
    "power_instances_with_relation=len(power_instances_with_relation)\n",
    "total_power_instances_in_KG =16\n",
    "##frequency\n",
    "frequency_instances_with_relation=[]\n",
    "for s,p,o in qcl_KG:\n",
    "    if(\"frequency_ID\" in s and \"hasQuantityValue\" in p):\n",
    "        frequency_instances_with_relation.append(s)\n",
    "frequency_instances_with_relation=len(frequency_instances_with_relation)\n",
    "frequency_instances_in_KG =27"
   ]
  },
  {
   "cell_type": "code",
   "execution_count": 122,
   "id": "79bc3b54",
   "metadata": {},
   "outputs": [
    {
     "name": "stdout",
     "output_type": "stream",
     "text": [
      "Number of Instances in KG: 79\n",
      "Number of Instances with Relation: 79\n"
     ]
    }
   ],
   "source": [
    "#summary for the hasQuantityValue relation\n",
    "number_of_instances_in_KG=working_temp_cw_instances_in_KG+working_temp_pm_instances_in_KG+total_power_instances_in_KG+frequency_instances_in_KG\n",
    "print(\"Number of Instances in KG:\",number_of_instances_in_KG)\n",
    "number_of_instances_in_KG_with_relation=working_temp_cw_instances_with_relation+working_temp_pm_instances_with_relation+frequency_instances_with_relation+power_instances_with_relation\n",
    "print(\"Number of Instances with Relation:\",number_of_instances_in_KG_with_relation)"
   ]
  },
  {
   "cell_type": "code",
   "execution_count": 123,
   "id": "31b18936",
   "metadata": {},
   "outputs": [],
   "source": [
    "#checking the instances with the hasQuantityKind relation\n",
    "##working temperature (continuous wave)\n",
    "working_temp_cw_instances_with_relation=[]\n",
    "for s,p,o in qcl_KG:\n",
    "    if(\"temp_cw_ID\" in s and \"hasQuantityKind\" in p):\n",
    "        working_temp_cw_instances_with_relation.append(s)\n",
    "working_temp_cw_instances_with_relation=len(working_temp_cw_instances_with_relation)\n",
    "working_temp_cw_instances_in_KG =26\n",
    "##working temperature (pulse mode)\n",
    "working_temp_pm_instances_with_relation=[]\n",
    "for s,p,o in qcl_KG:\n",
    "    if(\"temp_pm_ID\" in s and \"hasQuantityKind\" in p):\n",
    "        working_temp_pm_instances_with_relation.append(s)\n",
    "working_temp_pm_instances_with_relation=len(working_temp_pm_instances_with_relation)\n",
    "working_temp_pm_instances_in_KG = 10\n",
    "##power\n",
    "power_instances_with_relation=[]\n",
    "for s,p,o in qcl_KG:\n",
    "    if(\"power_ID\" in s and \"hasQuantityKind\" in p):\n",
    "        power_instances_with_relation.append(s)\n",
    "power_instances_with_relation=len(power_instances_with_relation)\n",
    "total_power_instances_in_KG =16\n",
    "##frequency\n",
    "frequency_instances_with_relation=[]\n",
    "for s,p,o in qcl_KG:\n",
    "    if(\"frequency_ID\" in s and \"hasQuantityKind\" in p):\n",
    "        frequency_instances_with_relation.append(s)\n",
    "frequency_instances_with_relation=len(frequency_instances_with_relation)\n",
    "frequency_instances_in_KG =27"
   ]
  },
  {
   "cell_type": "code",
   "execution_count": 124,
   "id": "4b940e56",
   "metadata": {},
   "outputs": [
    {
     "name": "stdout",
     "output_type": "stream",
     "text": [
      "Number of Instances in KG: 79\n",
      "Number of Instances with Relation: 79\n"
     ]
    }
   ],
   "source": [
    "#summary for the hasQuantityKind relation\n",
    "number_of_instances_in_KG=working_temp_cw_instances_in_KG+working_temp_pm_instances_in_KG+total_power_instances_in_KG+frequency_instances_in_KG\n",
    "print(\"Number of Instances in KG:\",number_of_instances_in_KG)\n",
    "number_of_instances_in_KG_with_relation=working_temp_cw_instances_with_relation+working_temp_pm_instances_with_relation+frequency_instances_with_relation+power_instances_with_relation\n",
    "print(\"Number of Instances with Relation:\",number_of_instances_in_KG_with_relation)"
   ]
  },
  {
   "cell_type": "code",
   "execution_count": 125,
   "id": "3a1db3df",
   "metadata": {},
   "outputs": [],
   "source": [
    "#checking the instances with the hasUnit relation\n",
    "##frequency quantity values\n",
    "frequency_qv_instances_with_relation=[]\n",
    "for s,p,o in qcl_KG:\n",
    "    if(\"frequency_value_ID/\" in s and \"hasUnit\" in p):\n",
    "        frequency_qv_instances_with_relation.append(s)\n",
    "frequency_qv_instances_with_relation=len(frequency_qv_instances_with_relation)\n",
    "frequency_qv_instances_in_KG =20\n",
    "##working temperature (continuous wave)\n",
    "working_temp_cw_qv_instances_with_relation=[]\n",
    "for s,p,o in qcl_KG:\n",
    "    if(\"temp_cw_value_ID\" in s and \"hasUnit\" in p):\n",
    "        working_temp_cw_qv_instances_with_relation.append(s)\n",
    "working_temp_cw_qv_instances_with_relation=len(working_temp_cw_qv_instances_with_relation)\n",
    "working_temp_cw_qv_instances_in_KG =25\n",
    "##working temperature (pulse mode)\n",
    "working_temp_pm_qv_instances_with_relation=[]\n",
    "for s,p,o in qcl_KG:\n",
    "    if(\"temp_pm_value_ID\" in s and \"hasUnit\" in p):\n",
    "        working_temp_pm_qv_instances_with_relation.append(s)\n",
    "working_temp_pm_qv_instances_with_relation=len(working_temp_pm_qv_instances_with_relation)\n",
    "working_temp_pm_qv_instances_in_KG = 10\n",
    "# power\n",
    "power_qv_instances_with_relation=[]\n",
    "for s,p,o in qcl_KG:\n",
    "    if(\"power_value_ID/\" in s and \"hasUnit\" in p):\n",
    "        power_qv_instances_with_relation.append(s)\n",
    "power_qv_instances_with_relation=len(power_qv_instances_with_relation)\n",
    "power_qv_instances_in_KG =14"
   ]
  },
  {
   "cell_type": "code",
   "execution_count": 126,
   "id": "593024eb",
   "metadata": {},
   "outputs": [
    {
     "name": "stdout",
     "output_type": "stream",
     "text": [
      "Number of Instances in KG: 69\n",
      "Number of Instances with Relation: 69\n"
     ]
    }
   ],
   "source": [
    "#summary for the hasUnit relation\n",
    "number_of_instances_in_KG=working_temp_pm_qv_instances_in_KG+working_temp_cw_qv_instances_in_KG+power_qv_instances_in_KG+frequency_qv_instances_in_KG\n",
    "print(\"Number of Instances in KG:\",number_of_instances_in_KG)\n",
    "number_of_instances_in_KG_with_relation=power_qv_instances_with_relation+working_temp_pm_qv_instances_with_relation+working_temp_cw_qv_instances_with_relation+frequency_qv_instances_with_relation\n",
    "print(\"Number of Instances with Relation:\",number_of_instances_in_KG_with_relation)"
   ]
  }
 ],
 "metadata": {
  "kernelspec": {
   "display_name": "Python 3 (ipykernel)",
   "language": "python",
   "name": "python3"
  },
  "language_info": {
   "codemirror_mode": {
    "name": "ipython",
    "version": 3
   },
   "file_extension": ".py",
   "mimetype": "text/x-python",
   "name": "python",
   "nbconvert_exporter": "python",
   "pygments_lexer": "ipython3",
   "version": "3.11.5"
  }
 },
 "nbformat": 4,
 "nbformat_minor": 5
}
