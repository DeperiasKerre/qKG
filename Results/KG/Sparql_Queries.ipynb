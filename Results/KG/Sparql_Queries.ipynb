{
 "cells": [
  {
   "cell_type": "markdown",
   "id": "6ffa8040",
   "metadata": {},
   "source": [
    "This notebook shows the results for the queries for the Competency Questions"
   ]
  },
  {
   "cell_type": "code",
   "execution_count": 1,
   "id": "3c7389ed",
   "metadata": {},
   "outputs": [],
   "source": [
    "##importing a graph structure and other ontology URIs\n",
    "from rdflib import Graph\n",
    "#import other libraries\n",
    "from rdflib import Graph, Literal, RDF, RDFS, URIRef, OWL, Namespace"
   ]
  },
  {
   "cell_type": "code",
   "execution_count": 2,
   "id": "9e5e5483",
   "metadata": {},
   "outputs": [
    {
     "data": {
      "text/plain": [
       "<Graph identifier=N83ea3d9baf2d47dfb832d36b3044d412 (<class 'rdflib.graph.Graph'>)>"
      ]
     },
     "execution_count": 2,
     "metadata": {},
     "output_type": "execute_result"
    }
   ],
   "source": [
    "#loading the QCL KG\n",
    "#loading the KG containing references\n",
    "qcl_KG=Graph()\n",
    "qcl_KG.parse(\"qcl_KG.ttl\")"
   ]
  },
  {
   "cell_type": "code",
   "execution_count": 3,
   "id": "0f5636bc",
   "metadata": {},
   "outputs": [
    {
     "name": "stdout",
     "output_type": "stream",
     "text": [
      "Number of elements:2682\n"
     ]
    }
   ],
   "source": [
    "#number of graph elements\n",
    "print(f\"Number of elements:{len(qcl_KG)}\")"
   ]
  },
  {
   "cell_type": "code",
   "execution_count": null,
   "id": "26217fff",
   "metadata": {},
   "outputs": [],
   "source": []
  }
 ],
 "metadata": {
  "kernelspec": {
   "display_name": "Python 3 (ipykernel)",
   "language": "python",
   "name": "python3"
  },
  "language_info": {
   "codemirror_mode": {
    "name": "ipython",
    "version": 3
   },
   "file_extension": ".py",
   "mimetype": "text/x-python",
   "name": "python",
   "nbconvert_exporter": "python",
   "pygments_lexer": "ipython3",
   "version": "3.11.5"
  }
 },
 "nbformat": 4,
 "nbformat_minor": 5
}
