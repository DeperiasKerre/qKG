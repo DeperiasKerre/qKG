{
 "cells": [
  {
   "cell_type": "markdown",
   "id": "6ffa8040",
   "metadata": {},
   "source": [
    "This notebook shows the results for the queries for the Competency Questions"
   ]
  },
  {
   "cell_type": "code",
   "execution_count": 30,
   "id": "3c7389ed",
   "metadata": {},
   "outputs": [],
   "source": [
    "#importing a graph structure\n",
    "from rdflib import Graph"
   ]
  },
  {
   "cell_type": "code",
   "execution_count": 31,
   "id": "9e5e5483",
   "metadata": {},
   "outputs": [
    {
     "data": {
      "text/plain": [
       "<Graph identifier=Ne6701cd63e16473687e353a53fe54275 (<class 'rdflib.graph.Graph'>)>"
      ]
     },
     "execution_count": 31,
     "metadata": {},
     "output_type": "execute_result"
    }
   ],
   "source": [
    "#loading the QCL KG\n",
    "qcl_KG=Graph()\n",
    "qcl_KG.parse(\"qcl_KG.ttl\")"
   ]
  },
  {
   "cell_type": "code",
   "execution_count": 32,
   "id": "0f5636bc",
   "metadata": {},
   "outputs": [
    {
     "name": "stdout",
     "output_type": "stream",
     "text": [
      "Number of elements:3403\n"
     ]
    }
   ],
   "source": [
    "#number of graph elements\n",
    "print(f\"Number of elements:{len(qcl_KG)}\")"
   ]
  },
  {
   "cell_type": "markdown",
   "id": "072ac41c",
   "metadata": {},
   "source": [
    "Queries for Competence Question 1: What are the possible material compositions of a QCL laser heterostructure with a design type X ?"
   ]
  },
  {
   "cell_type": "markdown",
   "id": "8c25e3ca",
   "metadata": {},
   "source": [
    "Query 1.1: What are the possible material compositions of a QCL laser heterostructure with an LO Phonon Design Type?  "
   ]
  },
  {
   "cell_type": "code",
   "execution_count": 33,
   "id": "01b0cc6c",
   "metadata": {},
   "outputs": [
    {
     "name": "stdout",
     "output_type": "stream",
     "text": [
      "material composition: InGaAs/AlInGaAs\n",
      "material composition: GaAs/Al0.15Ga0.85As\n",
      "material composition: GaAs/Al0.3Ga0.7As\n"
     ]
    }
   ],
   "source": [
    "q1 = \"\"\"\n",
    "    PREFIX QpOnto:<https://github.com/DeperiasKerre/qcl_Onto/blob/main/qclontology/version-1.0/qclonto.owl#> \n",
    "    SELECT DISTINCT ?mat_composition\n",
    "WHERE\n",
    "{\n",
    " ?HS QpOnto:hasDesignType QpOnto:LOPhononDepopulation;\n",
    "     QpOnto:hasMaterials ?HM.\n",
    " ?HM QpOnto:matFormula ?mat_composition.\n",
    "}\n",
    "\"\"\"\n",
    "for r in qcl_KG.query(q1):\n",
    "    print(\"material composition:\",r[\"mat_composition\"])"
   ]
  },
  {
   "cell_type": "markdown",
   "id": "8cd8acb4",
   "metadata": {},
   "source": [
    "Query 1.2: What are the possible material compositions of a QCL laser heterostructure with a Resonant Phonon Design Type?"
   ]
  },
  {
   "cell_type": "code",
   "execution_count": 34,
   "id": "5c0333e5",
   "metadata": {},
   "outputs": [
    {
     "name": "stdout",
     "output_type": "stream",
     "text": [
      "material composition: InAs/AlAs0.16Sb0.84\n",
      "material composition: GaAs/Al0.15Ga0.85As\n",
      "material composition: GaN/AlGaN\n",
      "material composition: In0.53Ga0.47As/GaAs0.51Sb0.49\n"
     ]
    }
   ],
   "source": [
    "q2 = \"\"\"\n",
    "    PREFIX QpOnto:<https://github.com/DeperiasKerre/qcl_Onto/blob/main/qclontology/version-1.0/qclonto.owl#> \n",
    "    SELECT DISTINCT ?mat_composition\n",
    "WHERE\n",
    "{\n",
    " ?HS QpOnto:hasDesignType QpOnto:DoubleResonantPhonon;\n",
    "     QpOnto:hasMaterials ?HM.\n",
    " ?HM QpOnto:matFormula ?mat_composition.\n",
    "}\n",
    "\"\"\"\n",
    "for r in qcl_KG.query(q2):\n",
    "    print(\"material composition:\",r[\"mat_composition\"])"
   ]
  },
  {
   "cell_type": "markdown",
   "id": "76fc898f",
   "metadata": {},
   "source": [
    "Query 1.3: What are the possible material compositions of a QCL laser heterostructure with a Bound to Continuum Type?"
   ]
  },
  {
   "cell_type": "code",
   "execution_count": 35,
   "id": "dcc72b9d",
   "metadata": {},
   "outputs": [
    {
     "name": "stdout",
     "output_type": "stream",
     "text": [
      "material composition: GaAs/Al0.1Ga0.9As\n"
     ]
    }
   ],
   "source": [
    "q3 = \"\"\"\n",
    "    PREFIX QpOnto:<https://github.com/DeperiasKerre/qcl_Onto/blob/main/qclontology/version-1.0/qclonto.owl#> \n",
    "    SELECT DISTINCT ?mat_composition\n",
    "WHERE\n",
    "{\n",
    " ?HS QpOnto:hasDesignType QpOnto:BoundToContinum;\n",
    "     QpOnto:hasMaterials ?HM.\n",
    " ?HM QpOnto:matFormula ?mat_composition.\n",
    "}\n",
    "\"\"\"\n",
    "for r in qcl_KG.query(q3):\n",
    "    print(\"material composition:\",r[\"mat_composition\"])"
   ]
  },
  {
   "cell_type": "markdown",
   "id": "2385b741",
   "metadata": {},
   "source": [
    "Queries for Competence Question 2: What is the working property X of a QCL laser working in mode Y ?"
   ]
  },
  {
   "cell_type": "markdown",
   "id": "90553b1a",
   "metadata": {},
   "source": [
    "Query 2.1: What are the working temperatures for a QCL laser operating in the continuous wave mode?"
   ]
  },
  {
   "cell_type": "code",
   "execution_count": 36,
   "id": "763dcd23",
   "metadata": {},
   "outputs": [
    {
     "name": "stdout",
     "output_type": "stream",
     "text": [
      "temperature value: 95.0 , unit: Kelvin , unit_uri: https://qudt.org/vocab/unit/K\n",
      "temperature value: 122.0 , unit: Kelvin , unit_uri: https://qudt.org/vocab/unit/K\n",
      "temperature value: 70.0 , unit: Kelvin , unit_uri: https://qudt.org/vocab/unit/K\n",
      "temperature value: 65.0 , unit: Kelvin , unit_uri: https://qudt.org/vocab/unit/K\n",
      "temperature value: 195.0 , unit: Kelvin , unit_uri: https://qudt.org/vocab/unit/K\n",
      "temperature value: 80.0 , unit: Kelvin , unit_uri: https://qudt.org/vocab/unit/K\n",
      "temperature value: 117.0 , unit: Kelvin , unit_uri: https://qudt.org/vocab/unit/K\n",
      "temperature value: 97.0 , unit: Kelvin , unit_uri: https://qudt.org/vocab/unit/K\n",
      "temperature value: 170.0 , unit: Kelvin , unit_uri: https://qudt.org/vocab/unit/K\n",
      "temperature value: 98.0 , unit: Kelvin , unit_uri: https://qudt.org/vocab/unit/K\n",
      "temperature value: 130.0 , unit: Kelvin , unit_uri: https://qudt.org/vocab/unit/K\n",
      "temperature value: 186.0 , unit: Kelvin , unit_uri: https://qudt.org/vocab/unit/K\n",
      "temperature value: 102.0 , unit: Kelvin , unit_uri: https://qudt.org/vocab/unit/K\n",
      "temperature value: 123.0 , unit: Kelvin , unit_uri: https://qudt.org/vocab/unit/K\n",
      "temperature value: 178.0 , unit: Kelvin , unit_uri: https://qudt.org/vocab/unit/K\n",
      "temperature value: 40.0 , unit: Kelvin , unit_uri: https://qudt.org/vocab/unit/K\n",
      "temperature value: 105.0 , unit: Kelvin , unit_uri: https://qudt.org/vocab/unit/K\n",
      "temperature value: 172.0 , unit: Kelvin , unit_uri: https://qudt.org/vocab/unit/K\n",
      "temperature value: 142.0 , unit: Kelvin , unit_uri: https://qudt.org/vocab/unit/K\n",
      "temperature value: 210.0 , unit: Kelvin , unit_uri: https://qudt.org/vocab/unit/K\n",
      "temperature value: 210.5 , unit: Kelvin , unit_uri: https://qudt.org/vocab/unit/K\n",
      "temperature value: 230.0 , unit: Kelvin , unit_uri: https://qudt.org/vocab/unit/K\n",
      "temperature value: 151.0 , unit: Kelvin , unit_uri: https://qudt.org/vocab/unit/K\n",
      "temperature value: 167.0 , unit: Kelvin , unit_uri: https://qudt.org/vocab/unit/K\n",
      "temperature value: 138.0 , unit: Kelvin , unit_uri: https://qudt.org/vocab/unit/K\n",
      "temperature value: 60.0 , unit: Kelvin , unit_uri: https://qudt.org/vocab/unit/K\n",
      "temperature value: 144.0 , unit: Kelvin , unit_uri: https://qudt.org/vocab/unit/K\n",
      "temperature value: 81.0 , unit: Kelvin , unit_uri: https://qudt.org/vocab/unit/K\n",
      "temperature value: 150.0 , unit: Kelvin , unit_uri: https://qudt.org/vocab/unit/K\n",
      "temperature value: 142.0 , unit: Kelvin , unit_uri: https://qudt.org/vocab/unit/K\n"
     ]
    }
   ],
   "source": [
    "q4 = \"\"\"\n",
    "    PREFIX QpOnto:<https://github.com/DeperiasKerre/qcl_Onto/blob/main/qclontology/version-1.0/qclonto.owl#>\n",
    "    PREFIX qudt:<https://qudt.org/schema/qudt/>\n",
    "    PREFIX qudt_qv: <https://qudt.org/schema/qudt/#>\n",
    "    PREFIX RDFS: <http://www.w3.org/2000/01/rdf-schema#> \n",
    "    SELECT ?value ?label ?unit \n",
    "WHERE\n",
    "{\n",
    " ?wt QpOnto:correspondsToWorkingMode QpOnto:ContinousWaveOperation;\n",
    " qudt_qv:hasQuantityValue ?tv.\n",
    " ?tv qudt:numericValue ?value;\n",
    " qudt:hasUnit ?unit.\n",
    " ?unit RDFS:label ?label. \n",
    "}\n",
    "\"\"\"\n",
    "for r in qcl_KG.query(q4):\n",
    "    print(\"temperature value:\", r[\"value\"],\",\",\"unit:\", r[\"label\"],\",\",\"unit_uri:\",r[\"unit\"])"
   ]
  },
  {
   "cell_type": "markdown",
   "id": "3e574370",
   "metadata": {},
   "source": [
    "Query 2.2: What are the working temperatures for a QCL laser operating in the pulsed mode?"
   ]
  },
  {
   "cell_type": "code",
   "execution_count": 37,
   "id": "431d0186",
   "metadata": {},
   "outputs": [
    {
     "name": "stdout",
     "output_type": "stream",
     "text": [
      "temperature value: 110.0 , unit: Kelvin , unit_uri: https://qudt.org/vocab/unit/K\n",
      "temperature value: 144.0 , unit: Kelvin , unit_uri: https://qudt.org/vocab/unit/K\n",
      "temperature value: 65.0 , unit: Kelvin , unit_uri: https://qudt.org/vocab/unit/K\n",
      "temperature value: 85.0 , unit: Kelvin , unit_uri: https://qudt.org/vocab/unit/K\n",
      "temperature value: 95.0 , unit: Kelvin , unit_uri: https://qudt.org/vocab/unit/K\n",
      "temperature value: 164.0 , unit: Kelvin , unit_uri: https://qudt.org/vocab/unit/K\n",
      "temperature value: 84.0 , unit: Kelvin , unit_uri: https://qudt.org/vocab/unit/K\n",
      "temperature value: 137.0 , unit: Kelvin , unit_uri: https://qudt.org/vocab/unit/K\n",
      "temperature value: 123.0 , unit: Kelvin , unit_uri: https://qudt.org/vocab/unit/K\n",
      "temperature value: 120.0 , unit: Kelvin , unit_uri: https://qudt.org/vocab/unit/K\n",
      "temperature value: 140.0 , unit: Kelvin , unit_uri: https://qudt.org/vocab/unit/K\n",
      "temperature value: 138.0 , unit: Kelvin , unit_uri: https://qudt.org/vocab/unit/K\n",
      "temperature value: 77.0 , unit: Kelvin , unit_uri: https://qudt.org/vocab/unit/K\n",
      "temperature value: 102.0 , unit: Kelvin , unit_uri: https://qudt.org/vocab/unit/K\n"
     ]
    }
   ],
   "source": [
    "q5 = \"\"\"\n",
    "    PREFIX QpOnto:<https://github.com/DeperiasKerre/qcl_Onto/blob/main/qclontology/version-1.0/qclonto.owl#>\n",
    "    PREFIX qudt:<https://qudt.org/schema/qudt/>\n",
    "    PREFIX qudt_qv: <https://qudt.org/schema/qudt/#>\n",
    "    PREFIX RDFS: <http://www.w3.org/2000/01/rdf-schema#>\n",
    "    SELECT ?value ?label ?unit \n",
    "WHERE\n",
    "{\n",
    " ?wt QpOnto:correspondsToWorkingMode QpOnto:PulsedOperation;\n",
    " qudt_qv:hasQuantityValue ?tv.\n",
    " ?tv qudt:numericValue ?value;\n",
    " qudt:hasUnit ?unit.\n",
    " ?unit RDFS:label ?label.\n",
    "}\n",
    "\"\"\"\n",
    "for r in qcl_KG.query(q5):\n",
    "    print(\"temperature value:\", r[\"value\"],\",\",\"unit:\", r[\"label\"],\",\",\"unit_uri:\",r[\"unit\"])"
   ]
  },
  {
   "cell_type": "markdown",
   "id": "fd71c467",
   "metadata": {},
   "source": [
    "Queries for Competence Question 3: What is the performance property X of a QCL laser having a heterostructure with material\n",
    "composition Y?"
   ]
  },
  {
   "cell_type": "markdown",
   "id": "2fee91c0",
   "metadata": {},
   "source": [
    "Query 3.1: What are the possible power values for a QCL laser with a heterostructure with material composition GaAs/Al0.15Ga0.85As?"
   ]
  },
  {
   "cell_type": "code",
   "execution_count": 38,
   "id": "f5be4f4f",
   "metadata": {},
   "outputs": [
    {
     "name": "stdout",
     "output_type": "stream",
     "text": [
      "power value value: 10.0 , unit: Milliwatts , unit_uri: https://qudt.org/vocab/unit/MilliW\n",
      "power value value: 2.5 , unit: Milliwatts , unit_uri: https://qudt.org/vocab/unit/MilliW\n"
     ]
    }
   ],
   "source": [
    "q6 = \"\"\"\n",
    "    PREFIX QpOnto:<https://github.com/DeperiasKerre/qcl_Onto/blob/main/qclontology/version-1.0/qclonto.owl#>\n",
    "    PREFIX qudt:<https://qudt.org/schema/qudt/>\n",
    "    PREFIX qudt_qv: <https://qudt.org/schema/qudt/#>\n",
    "    PREFIX RDFS: <http://www.w3.org/2000/01/rdf-schema#>\n",
    "    SELECT DISTINCT ?value ?label ?unit\n",
    "WHERE\n",
    "{\n",
    "?HS QpOnto:hasMaterials ?HM.\n",
    "?HM QpOnto:matFormula   \"GaAs/Al0.15Ga0.85As\"^^xsd:string.\n",
    "?op QpOnto:relatesToHeterostructure ?HS;\n",
    "qudt_qv:hasQuantityValue ?pv.\n",
    " ?pv qudt:numericValue ?value;\n",
    " qudt:hasUnit ?unit.\n",
    " ?unit RDFS:label ?label.\n",
    " FILTER(?unit=<https://qudt.org/vocab/unit/MilliW>).\n",
    "}\n",
    "\"\"\"\n",
    "for r in qcl_KG.query(q6):\n",
    "        print(\"power value value:\", r[\"value\"],\",\",\"unit:\", r[\"label\"],\",\",\"unit_uri:\",r[\"unit\"])"
   ]
  },
  {
   "cell_type": "markdown",
   "id": "aabbb072",
   "metadata": {},
   "source": [
    "Query 3.2: What are the possible frequency values for a QCL laser with a heterostructure with material composition In0.53Ga0.47As/GaAs0.51Sb0.49?"
   ]
  },
  {
   "cell_type": "code",
   "execution_count": 39,
   "id": "df131501",
   "metadata": {},
   "outputs": [
    {
     "name": "stdout",
     "output_type": "stream",
     "text": [
      "frequency value: 3.6 , unit: Terahertz , unit_uri: https://qudt.org/vocab/unit/TeraHZ\n"
     ]
    }
   ],
   "source": [
    "q7 = \"\"\"\n",
    "    PREFIX QpOnto:<https://github.com/DeperiasKerre/qcl_Onto/blob/main/qclontology/version-1.0/qclonto.owl#>\n",
    "    PREFIX qudt:<https://qudt.org/schema/qudt/>\n",
    "    PREFIX qudt_qv: <https://qudt.org/schema/qudt/#>\n",
    "    PREFIX RDFS: <http://www.w3.org/2000/01/rdf-schema#>\n",
    "    SELECT DISTINCT ?value ?label ?unit\n",
    "WHERE\n",
    "{\n",
    "?HS QpOnto:hasMaterials ?HM.\n",
    "?HM QpOnto:matFormula   \"In0.53Ga0.47As/GaAs0.51Sb0.49\"^^xsd:string.\n",
    "?lf QpOnto:relatesToHeterostructure ?HS;\n",
    "qudt_qv:hasQuantityValue ?fv.\n",
    " ?fv qudt:numericValue ?value;\n",
    " qudt:hasUnit ?unit.\n",
    " ?unit RDFS:label ?label.\n",
    " FILTER(?unit=<https://qudt.org/vocab/unit/TeraHZ>).\n",
    "}\n",
    "\"\"\"\n",
    "for r in qcl_KG.query(q7):\n",
    "        print(\"frequency value:\", r[\"value\"],\",\",\"unit:\",r[\"label\"],\",\",\"unit_uri:\",r[\"unit\"])"
   ]
  },
  {
   "cell_type": "markdown",
   "id": "eaa263f7",
   "metadata": {},
   "source": [
    "Query 3.3: What are the possible working temperature values for a QCL laser with a heterostructure with material composition GaAs/Al0.3Ga0.7As?"
   ]
  },
  {
   "cell_type": "code",
   "execution_count": 40,
   "id": "b03c2f85",
   "metadata": {},
   "outputs": [
    {
     "name": "stdout",
     "output_type": "stream",
     "text": [
      "temperature value: 105.0 , unit: Kelvin , unit_uri: https://qudt.org/vocab/unit/K\n",
      "temperature value: 138.0 , unit: Kelvin , unit_uri: https://qudt.org/vocab/unit/K\n"
     ]
    }
   ],
   "source": [
    "q8 = \"\"\"\n",
    "    PREFIX QpOnto:<https://github.com/DeperiasKerre/qcl_Onto/blob/main/qclontology/version-1.0/qclonto.owl#>\n",
    "    PREFIX qudt:<https://qudt.org/schema/qudt/>\n",
    "    PREFIX qudt_qv: <https://qudt.org/schema/qudt/#>\n",
    "    PREFIX RDFS: <http://www.w3.org/2000/01/rdf-schema#>\n",
    "    SELECT DISTINCT ?value ?label ?unit\n",
    "WHERE\n",
    "{\n",
    "?HS QpOnto:hasMaterials ?HM.\n",
    "?HM QpOnto:matFormula   \"GaAs/Al0.3Ga0.7As\"^^xsd:string.\n",
    "?lf QpOnto:relatesToHeterostructure ?HS;\n",
    "qudt_qv:hasQuantityValue ?qv.\n",
    " ?qv qudt:numericValue ?value;\n",
    " qudt:hasUnit ?unit.\n",
    " ?unit RDFS:label ?label.\n",
    " FILTER(?unit=<https://qudt.org/vocab/unit/K>).\n",
    "}\n",
    "\"\"\"\n",
    "for r in qcl_KG.query(q8):\n",
    "        print(\"temperature value:\", r[\"value\"],\",\",\"unit:\", r[\"label\"],\",\",\"unit_uri:\",r[\"unit\"])"
   ]
  },
  {
   "cell_type": "markdown",
   "id": "74fb753d",
   "metadata": {},
   "source": [
    "Queries for Competence Question 4: For a particular performance property X, what are the corresponding laser heterosturcture\n",
    "designs?"
   ]
  },
  {
   "cell_type": "markdown",
   "id": "87522fe1",
   "metadata": {},
   "source": [
    "Query 4.1: What are the possible heterostructure designs for a QCL device with a working temperature greater than 100 K in Pulsed Mode?"
   ]
  },
  {
   "cell_type": "code",
   "execution_count": 41,
   "id": "d11a8129",
   "metadata": {},
   "outputs": [
    {
     "name": "stdout",
     "output_type": "stream",
     "text": [
      "design type: Resonant Phonon , design type uri: https://github.com/DeperiasKerre/qcl_Onto/blob/main/qclontology/version-1.0/qclonto.owl#DoubleResonantPhonon\n",
      "design type: Longitudinal Optical Phonon Depopulation , design type uri: https://github.com/DeperiasKerre/qcl_Onto/blob/main/qclontology/version-1.0/qclonto.owl#LOPhononDepopulation\n"
     ]
    }
   ],
   "source": [
    "q9 = \"\"\"\n",
    "    PREFIX QpOnto:<https://github.com/DeperiasKerre/qcl_Onto/blob/main/qclontology/version-1.0/qclonto.owl#>\n",
    "    PREFIX qudt:<https://qudt.org/schema/qudt/>\n",
    "    PREFIX qudt_qv: <https://qudt.org/schema/qudt/#>\n",
    "    PREFIX RDFS: <http://www.w3.org/2000/01/rdf-schema#>\n",
    "    SELECT DISTINCT ?design_type ?label\n",
    "WHERE\n",
    "{\n",
    " ?wt qudt_qv:hasQuantityValue ?tv;\n",
    " QpOnto:correspondsToWorkingMode QpOnto:PulsedOperation;\n",
    " QpOnto:relatesToHeterostructure ?HS.\n",
    " ?tv qudt:numericValue ?value;\n",
    " qudt:hasUnit ?unit.\n",
    " ?HS QpOnto:hasDesignType ?design_type.\n",
    " ?design_type RDFS:label ?label.\n",
    " FILTER(?unit=<https://qudt.org/vocab/unit/K>&&?value>100).\n",
    "}\n",
    "\"\"\"\n",
    "for r in qcl_KG.query(q9):\n",
    "        print(\"design type:\", r[\"label\"], \",\",\"design type uri:\", r[\"design_type\"])"
   ]
  },
  {
   "cell_type": "markdown",
   "id": "a211f9dc",
   "metadata": {},
   "source": [
    "Query 4.2: What are the possible heterostructure designs for a QCL device with an optical power less than 50 mW?"
   ]
  },
  {
   "cell_type": "code",
   "execution_count": 42,
   "id": "d7d1343f",
   "metadata": {},
   "outputs": [
    {
     "name": "stdout",
     "output_type": "stream",
     "text": [
      "design type: Resonant Phonon , design type uri: https://github.com/DeperiasKerre/qcl_Onto/blob/main/qclontology/version-1.0/qclonto.owl#DoubleResonantPhonon\n",
      "design type: Longitudinal Optical Phonon Depopulation , design type uri: https://github.com/DeperiasKerre/qcl_Onto/blob/main/qclontology/version-1.0/qclonto.owl#LOPhononDepopulation\n"
     ]
    }
   ],
   "source": [
    "q10 = \"\"\"\n",
    "    PREFIX QpOnto:<https://github.com/DeperiasKerre/qcl_Onto/blob/main/qclontology/version-1.0/qclonto.owl#>\n",
    "    PREFIX qudt:<https://qudt.org/schema/qudt/>\n",
    "    PREFIX qudt_qv: <https://qudt.org/schema/qudt/#>\n",
    "    PREFIX RDFS: <http://www.w3.org/2000/01/rdf-schema#>\n",
    "    SELECT DISTINCT ?design_type ?label\n",
    "WHERE\n",
    "{\n",
    " ?op qudt_qv:hasQuantityValue ?pv;\n",
    " QpOnto:relatesToHeterostructure ?HS.\n",
    " ?pv qudt:numericValue ?value;\n",
    " qudt:hasUnit ?unit.\n",
    " ?HS QpOnto:hasDesignType ?design_type.\n",
    " ?design_type RDFS:label ?label.\n",
    " FILTER(?unit=<https://qudt.org/vocab/unit/MilliW>&&?value<50).\n",
    "}\n",
    "\"\"\"\n",
    "for r in qcl_KG.query(q10):\n",
    "        print(\"design type:\", r[\"label\"], \",\",\"design type uri:\", r[\"design_type\"])"
   ]
  },
  {
   "cell_type": "markdown",
   "id": "9e803170",
   "metadata": {},
   "source": [
    "Queries for Competence Question 5: For a particular performance property X, what are the corresponding heterostructure material\n",
    "compositions?"
   ]
  },
  {
   "cell_type": "markdown",
   "id": "9ef84c59",
   "metadata": {},
   "source": [
    "Query 5.1: What are the possible heterostructure material compositions for a QCL device with a working temperature less than 85 K in the contionous wave mode? "
   ]
  },
  {
   "cell_type": "code",
   "execution_count": 43,
   "id": "b9299f40",
   "metadata": {},
   "outputs": [
    {
     "name": "stdout",
     "output_type": "stream",
     "text": [
      "material composition: GaAs/Al0.1Ga0.9As\n",
      "material composition: GaAs/Al0.14Ga0.86As\n"
     ]
    }
   ],
   "source": [
    "q11 = \"\"\"\n",
    "    PREFIX QpOnto:<https://github.com/DeperiasKerre/qcl_Onto/blob/main/qclontology/version-1.0/qclonto.owl#>\n",
    "    PREFIX qudt:<https://qudt.org/schema/qudt/>\n",
    "    PREFIX qudt_qv: <https://qudt.org/schema/qudt/#>\n",
    "    SELECT DISTINCT ?material_composition\n",
    "WHERE\n",
    "{\n",
    " ?wt qudt_qv:hasQuantityValue ?tv;\n",
    " QpOnto:correspondsToWorkingMode QpOnto:ContinousWaveOperation;\n",
    " QpOnto:relatesToHeterostructure ?HS.\n",
    " ?tv qudt:numericValue ?value;\n",
    " qudt:hasUnit ?unit.\n",
    " ?HS QpOnto:hasMaterials ?HM.\n",
    " ?HM QpOnto:matFormula ?material_composition.\n",
    " FILTER(?unit=<https://qudt.org/vocab/unit/K>&&?value<85).\n",
    "}\n",
    "\"\"\"\n",
    "for r in qcl_KG.query(q11):\n",
    "        print(\"material composition:\",r[\"material_composition\"])"
   ]
  },
  {
   "cell_type": "markdown",
   "id": "dddb1f92",
   "metadata": {},
   "source": [
    "Query 5.2: What are the possible heterostructure material compositions for a QCL device with a lasing frequency greater than 1.5 THz? "
   ]
  },
  {
   "cell_type": "code",
   "execution_count": 44,
   "id": "09ecc61f",
   "metadata": {},
   "outputs": [
    {
     "name": "stdout",
     "output_type": "stream",
     "text": [
      "material composition: GaAs/Al0.14Ga0.86As\n",
      "material composition: GaAs/AlGaAs\n",
      "material composition: InAs/AlAs0.16Sb0.84\n",
      "material composition: AlInGaAs\n",
      "material composition: GaAs/Al0.1Ga0.9As\n",
      "material composition: Al0.03Ga0.97As\n",
      "material composition: GaAs/Al0.15Ga0.85As\n",
      "material composition: GaAs/AlAs\n",
      "material composition: In0.53Ga0.47As/GaAs0.51Sb0.49\n",
      "material composition: GaAs/Al0.25Ga0.75As\n"
     ]
    }
   ],
   "source": [
    "q12 = \"\"\"\n",
    "    PREFIX QpOnto:<https://github.com/DeperiasKerre/qcl_Onto/blob/main/qclontology/version-1.0/qclonto.owl#>\n",
    "    PREFIX qudt:<https://qudt.org/schema/qudt/>\n",
    "    PREFIX qudt_qv: <https://qudt.org/schema/qudt/#>\n",
    "    SELECT DISTINCT ?material_composition\n",
    "WHERE\n",
    "{\n",
    " ?lf qudt_qv:hasQuantityValue ?fv;\n",
    " QpOnto:relatesToHeterostructure ?HS.\n",
    " ?fv qudt:numericValue ?value;\n",
    " qudt:hasUnit ?unit.\n",
    " ?HS QpOnto:hasMaterials ?HM.\n",
    " ?HM QpOnto:matFormula ?material_composition.\n",
    " FILTER(?unit=<https://qudt.org/vocab/unit/TeraHZ>&&?value>1.5).\n",
    "}\n",
    "\"\"\"\n",
    "for r in qcl_KG.query(q12):\n",
    "        print(\"material composition:\",r[\"material_composition\"])"
   ]
  },
  {
   "cell_type": "markdown",
   "id": "8ffdf327",
   "metadata": {},
   "source": [
    "Queries for Competence Question 6:  What are  the the DOIs and/ the URLs of the scientific articles documenting a laser with performance property W or with heterostructure materials X or working mode Y or design type Z."
   ]
  },
  {
   "cell_type": "markdown",
   "id": "76665561",
   "metadata": {},
   "source": [
    "Query 6.1: What are the DOIs and URLS of scientific articles documenting QCL laser devices with an optical power greater than 10mW?"
   ]
  },
  {
   "cell_type": "code",
   "execution_count": 45,
   "id": "a71e4d7c",
   "metadata": {},
   "outputs": [
    {
     "name": "stdout",
     "output_type": "stream",
     "text": [
      "DOI: 10.1088/1367-2630/18/12/123004 , URL: https://doi.org/10.1088/1367-2630/18/12/123004\n",
      "DOI: 10.1063/1.4826943 , URL: https://doi.org/10.1063/1.4826943\n",
      "DOI: 10.1063/1.4826943 , URL: https://doi/org/10.1063/1.4826943\n",
      "DOI: 10.1088/1674-1056/25/8/084206 , URL: https://doi.org/10.1088/1674-1056/25/8/084206\n",
      "DOI: 10.1063/1.5110305 , URL: https://doi.org/10.1063/1.5110305\n"
     ]
    }
   ],
   "source": [
    "q13 = \"\"\"\n",
    "    PREFIX QpOnto:<https://github.com/DeperiasKerre/qcl_Onto/blob/main/qclontology/version-1.0/qclonto.owl#>\n",
    "    PREFIX qudt:<https://qudt.org/schema/qudt/>\n",
    "    PREFIX qudt_qv: <https://qudt.org/schema/qudt/#>\n",
    "    PREFIX prov:<http://www.w3.org/ns/prov#>\n",
    "    SELECT ?doi ?url\n",
    "WHERE\n",
    "{\n",
    "?power prov:wasAttributedTo ?article;\n",
    "qudt_qv:hasQuantityValue  ?pv.\n",
    "?pv qudt:numericValue ?value;\n",
    " qudt:hasUnit ?unit.\n",
    "?article QpOnto:DOI ?doi;\n",
    "QpOnto:URL ?url.\n",
    "FILTER(?unit=<https://qudt.org/vocab/unit/MilliW>&&?value>100).\n",
    "}\n",
    "\"\"\"\n",
    "for r in qcl_KG.query(q13):\n",
    "    print(\"DOI:\",r[\"doi\"],\",\",\"URL:\",r[\"url\"])"
   ]
  },
  {
   "cell_type": "markdown",
   "id": "149cb73c",
   "metadata": {},
   "source": [
    "Query 6.2: What are the DOIs and URLS of scientific articles documenting QCL laser devices with a working temperature greater than 100 K in pulse mode?"
   ]
  },
  {
   "cell_type": "code",
   "execution_count": 46,
   "id": "8ce37fab",
   "metadata": {},
   "outputs": [
    {
     "name": "stdout",
     "output_type": "stream",
     "text": [
      "DOI: 10.1063/1.2189671 , URL: https://doi.org/10.1063/1.2189671\n",
      "DOI: 10.1063/1.2189671 , URL: https://doi.org/10.1063/1.2189671 \n",
      "DOI: 10.1364/OE.23.019689 , URL: https://doi.org/10.1364/OE.23.019689\n",
      "DOI: 10.1364/OPEX.13.003331 , URL: https://doi.org/10.1364/OPEX.13.003331\n",
      "DOI: 10.1088/0268-1242/20/7/013 , URL: https://doi.org/10.1088/0268-1242/20/7/013\n",
      "DOI: 10.1063/1.3068496 , URL: https://doi.org/10.1063/1.3068496\n",
      "DOI: 10.1364/OE.17.019926 , URL: https://doi.org/10.1364/OE.17.019926\n",
      "DOI: 10.1063/1.2136222 , URL: https://doi.org/10.1063/1.2136222\n",
      "DOI: 10.1063/1.2216112 , URL: https://doi.org/10.1063/1.2216112\n",
      "DOI: 10.1364/OE.438636 , URL: https://doi.org/10.1364/OE.438636\n"
     ]
    }
   ],
   "source": [
    "q14 = \"\"\"\n",
    "    PREFIX QpOnto:<https://github.com/DeperiasKerre/qcl_Onto/blob/main/qclontology/version-1.0/qclonto.owl#>\n",
    "    PREFIX qudt:<https://qudt.org/schema/qudt/>\n",
    "    PREFIX qudt_qv: <https://qudt.org/schema/qudt/#>\n",
    "    PREFIX prov:<http://www.w3.org/ns/prov#>\n",
    "    SELECT ?doi ?url\n",
    "WHERE\n",
    "{\n",
    "?wt prov:wasAttributedTo ?article;\n",
    "qudt_qv:hasQuantityValue  ?tv;\n",
    "QpOnto:correspondsToWorkingMode QpOnto:PulsedOperation.\n",
    "?tv qudt:numericValue ?value;\n",
    " qudt:hasUnit ?unit.\n",
    "?article QpOnto:DOI ?doi;\n",
    "QpOnto:URL ?url.\n",
    "FILTER(?unit=<https://qudt.org/vocab/unit/K>&&?value>100).\n",
    "}\n",
    "\"\"\"\n",
    "for r in qcl_KG.query(q14):\n",
    "    print(\"DOI:\",r[\"doi\"],\",\",\"URL:\",r[\"url\"])"
   ]
  },
  {
   "cell_type": "markdown",
   "id": "6c0dbe6d",
   "metadata": {},
   "source": [
    "Query 6.3: What are the DOIs and URLs of scientific articles documenting a QCL laser with a material composition of GaAs/Al0.3Ga0.7As?"
   ]
  },
  {
   "cell_type": "code",
   "execution_count": 47,
   "id": "948ea403",
   "metadata": {},
   "outputs": [
    {
     "name": "stdout",
     "output_type": "stream",
     "text": [
      "DOI: 10.1063/1.4862177 , URL: https://doi.org/10.1063/1.4862177\n",
      "DOI: 10.1063/1.3702571 , URL: https://doi.org/10.1063/1.3702571\n"
     ]
    }
   ],
   "source": [
    "q15 = \"\"\"\n",
    "    PREFIX QpOnto:<https://github.com/DeperiasKerre/qcl_Onto/blob/main/qclontology/version-1.0/qclonto.owl#>\n",
    "    PREFIX qudt:<https://qudt.org/schema/qudt/>\n",
    "    PREFIX prov:<http://www.w3.org/ns/prov#>\n",
    "    SELECT ?doi ?url\n",
    "WHERE\n",
    "{\n",
    "?HS prov:wasAttributedTo ?article;\n",
    "QpOnto:hasMaterials ?HM.\n",
    "?HM QpOnto:matFormula \"GaAs/Al0.25Ga0.75As\"^^xsd:string.\n",
    "?article QpOnto:DOI ?doi;\n",
    "QpOnto:URL ?url.\n",
    "}\n",
    "\"\"\"\n",
    "for r in qcl_KG.query(q15):\n",
    "    print(\"DOI:\",r[\"doi\"],\",\",\"URL:\",r[\"url\"])"
   ]
  },
  {
   "cell_type": "markdown",
   "id": "b9b1aa73",
   "metadata": {},
   "source": [
    "Query 6.4: What are the DOIs and URLs of scientific articles documenting QCL lasers with bound to continuum design type?"
   ]
  },
  {
   "cell_type": "code",
   "execution_count": 48,
   "id": "63626af9",
   "metadata": {},
   "outputs": [
    {
     "name": "stdout",
     "output_type": "stream",
     "text": [
      "DOI: 10.1063/1.2404598 URL: https://doi.org/10.1063/1.2404598\n",
      "DOI: 10.1049/el.2013.4035 URL: https://doi.org/10.1049/el.2013.4035\n",
      "DOI: 10.1063/1.2737129 URL: https://doi.org/10.1063/1.2737129\n",
      "DOI: 10.1088/0256-307X/30/6/064201 URL: https://doi.org/10.1088/0256-307X/30/6/064201\n"
     ]
    }
   ],
   "source": [
    "q16 = \"\"\"\n",
    "    PREFIX QpOnto:<https://github.com/DeperiasKerre/qcl_Onto/blob/main/qclontology/version-1.0/qclonto.owl#>\n",
    "    PREFIX qudt:<https://qudt.org/schema/qudt/>\n",
    "    PREFIX prov:<http://www.w3.org/ns/prov#>\n",
    "    SELECT ?doi ?url\n",
    "WHERE\n",
    "{\n",
    "?HS prov:wasAttributedTo ?article.\n",
    "?HS QpOnto:hasDesignType QpOnto:BoundToContinum.\n",
    "?article QpOnto:DOI ?doi;\n",
    "QpOnto:URL ?url.\n",
    "}\n",
    "\"\"\"\n",
    "# Apply the query to the graph and iterate through results\n",
    "for r in qcl_KG.query(q16):\n",
    "    print(\"DOI:\",r[\"doi\"],\"URL:\",r[\"url\"])"
   ]
  },
  {
   "cell_type": "markdown",
   "id": "23a102be",
   "metadata": {},
   "source": [
    "Query 6.5: What are the DOIs and URLs of articles documenting QCL lasers with a heterostructure of  material composition GaAs/Al0.15Ga0.85As, LO phonon design type and working temperatures greater than 70 K in pulse mode operation? "
   ]
  },
  {
   "cell_type": "code",
   "execution_count": 49,
   "id": "4c5c253f",
   "metadata": {},
   "outputs": [
    {
     "name": "stdout",
     "output_type": "stream",
     "text": [
      "DOI: 10.1063/1.2136222 URL: https://doi.org/10.1063/1.2136222\n"
     ]
    }
   ],
   "source": [
    "q17 = \"\"\"\n",
    "    PREFIX QpOnto:<https://github.com/DeperiasKerre/qcl_Onto/blob/main/qclontology/version-1.0/qclonto.owl#>\n",
    "    PREFIX qudt:<https://qudt.org/schema/qudt/>\n",
    "    PREFIX qudt_qv: <https://qudt.org/schema/qudt/#>\n",
    "    PREFIX prov:<http://www.w3.org/ns/prov#>\n",
    "    SELECT ?doi ?url\n",
    "WHERE\n",
    "{\n",
    "?HS prov:wasAttributedTo ?article;\n",
    "QpOnto:hasDesignType QpOnto:LOPhononDepopulation;\n",
    "QpOnto:hasMaterials ?HM.\n",
    "?HM QpOnto:matFormula \"GaAs/Al0.15Ga0.85As\"^^xsd:string.\n",
    "?wt QpOnto:relatesToHeterostructure ?HS;\n",
    "qudt_qv:hasQuantityValue ?tv.\n",
    "?tv qudt:numericValue ?value;\n",
    "qudt:hasUnit ?unit.\n",
    "?article QpOnto:DOI ?doi;\n",
    "QpOnto:URL ?url.\n",
    "FILTER(?unit=<https://qudt.org/vocab/unit/K>&&?value>70).\n",
    "}\n",
    "\"\"\"\n",
    "\n",
    "for r in qcl_KG.query(q17):\n",
    "    print(\"DOI:\",r[\"doi\"],\"URL:\",r[\"url\"])"
   ]
  },
  {
   "cell_type": "markdown",
   "id": "d124d01e",
   "metadata": {},
   "source": [
    "Queries for Competence Question 7: What are the DOIs and URLs of the articles being referenced by a QCL device with property\n",
    "W or with heterostructure materials X or working mode Y or design type Z?"
   ]
  },
  {
   "cell_type": "markdown",
   "id": "5040949c",
   "metadata": {},
   "source": [
    "Query 7.1:"
   ]
  }
 ],
 "metadata": {
  "kernelspec": {
   "display_name": "Python 3 (ipykernel)",
   "language": "python",
   "name": "python3"
  },
  "language_info": {
   "codemirror_mode": {
    "name": "ipython",
    "version": 3
   },
   "file_extension": ".py",
   "mimetype": "text/x-python",
   "name": "python",
   "nbconvert_exporter": "python",
   "pygments_lexer": "ipython3",
   "version": "3.11.5"
  }
 },
 "nbformat": 4,
 "nbformat_minor": 5
}
