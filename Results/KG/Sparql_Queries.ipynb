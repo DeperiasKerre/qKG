{
 "cells": [
  {
   "cell_type": "markdown",
   "id": "6ffa8040",
   "metadata": {},
   "source": [
    "This notebook shows the results for the queries for the Competency Questions"
   ]
  },
  {
   "cell_type": "code",
   "execution_count": 1,
   "id": "3c7389ed",
   "metadata": {},
   "outputs": [],
   "source": [
    "#importing a graph structure\n",
    "from rdflib import Graph"
   ]
  },
  {
   "cell_type": "code",
   "execution_count": 2,
   "id": "9e5e5483",
   "metadata": {},
   "outputs": [
    {
     "data": {
      "text/plain": [
       "<Graph identifier=N4fc6b501504744c2bf3b33424f70508d (<class 'rdflib.graph.Graph'>)>"
      ]
     },
     "execution_count": 2,
     "metadata": {},
     "output_type": "execute_result"
    }
   ],
   "source": [
    "#loading the QCL KG\n",
    "qcl_KG=Graph()\n",
    "qcl_KG.parse(\"qcl_KG.ttl\")"
   ]
  },
  {
   "cell_type": "code",
   "execution_count": 3,
   "id": "0f5636bc",
   "metadata": {},
   "outputs": [
    {
     "name": "stdout",
     "output_type": "stream",
     "text": [
      "Number of elements:3405\n"
     ]
    }
   ],
   "source": [
    "#number of graph elements\n",
    "print(f\"Number of elements:{len(qcl_KG)}\")"
   ]
  },
  {
   "cell_type": "markdown",
   "id": "072ac41c",
   "metadata": {},
   "source": [
    "Queries for Competence Question 1: What are the possible material compositions of a QCL laser heterostructure with a design type X ?"
   ]
  },
  {
   "cell_type": "markdown",
   "id": "8c25e3ca",
   "metadata": {},
   "source": [
    "Query 1.1: What are the possible material compositions of a QCL laser heterostructure with an LO Phonon Design Type?  "
   ]
  },
  {
   "cell_type": "code",
   "execution_count": 4,
   "id": "01b0cc6c",
   "metadata": {},
   "outputs": [
    {
     "name": "stdout",
     "output_type": "stream",
     "text": [
      "material composition: InGaAs/AlInGaAs\n",
      "material composition: GaAs/Al0.15Ga0.85As\n",
      "material composition: GaAs/Al0.3Ga0.7As\n"
     ]
    }
   ],
   "source": [
    "q1 = \"\"\"\n",
    "    PREFIX QpOnto:<https://github.com/DeperiasKerre/qcl_Onto/blob/main/qclontology/version-1.0/qclonto.owl#> \n",
    "    SELECT DISTINCT ?mat_composition\n",
    "WHERE\n",
    "{\n",
    " ?HS QpOnto:hasDesignType QpOnto:LOPhononDepopulation;\n",
    "     QpOnto:hasMaterials ?HM.\n",
    " ?HM QpOnto:matFormula ?mat_composition.\n",
    "}\n",
    "\"\"\"\n",
    "for r in qcl_KG.query(q1):\n",
    "    print(\"material composition:\",r[\"mat_composition\"])"
   ]
  },
  {
   "cell_type": "markdown",
   "id": "8cd8acb4",
   "metadata": {},
   "source": [
    "Query 1.2: What are the possible material compositions of a QCL laser heterostructure with a Resonant Phonon Design Type?"
   ]
  },
  {
   "cell_type": "code",
   "execution_count": 5,
   "id": "5c0333e5",
   "metadata": {},
   "outputs": [
    {
     "name": "stdout",
     "output_type": "stream",
     "text": [
      "material composition: InAs/AlAs0.16Sb0.84\n",
      "material composition: GaAs/Al0.15Ga0.85As\n",
      "material composition: GaN/AlGaN\n",
      "material composition: In0.53Ga0.47As/GaAs0.51Sb0.49\n"
     ]
    }
   ],
   "source": [
    "q2 = \"\"\"\n",
    "    PREFIX QpOnto:<https://github.com/DeperiasKerre/qcl_Onto/blob/main/qclontology/version-1.0/qclonto.owl#> \n",
    "    SELECT DISTINCT ?mat_composition\n",
    "WHERE\n",
    "{\n",
    " ?HS QpOnto:hasDesignType QpOnto:DoubleResonantPhonon;\n",
    "     QpOnto:hasMaterials ?HM.\n",
    " ?HM QpOnto:matFormula ?mat_composition.\n",
    "}\n",
    "\"\"\"\n",
    "for r in qcl_KG.query(q2):\n",
    "    print(\"material composition:\",r[\"mat_composition\"])"
   ]
  },
  {
   "cell_type": "markdown",
   "id": "76fc898f",
   "metadata": {},
   "source": [
    "Query 1.3: What are the possible material compositions of a QCL laser heterostructure with a Bound to Continuum Type?"
   ]
  },
  {
   "cell_type": "code",
   "execution_count": 6,
   "id": "dcc72b9d",
   "metadata": {},
   "outputs": [
    {
     "name": "stdout",
     "output_type": "stream",
     "text": [
      "material composition: GaAs/Al0.1Ga0.9As\n"
     ]
    }
   ],
   "source": [
    "q3 = \"\"\"\n",
    "    PREFIX QpOnto:<https://github.com/DeperiasKerre/qcl_Onto/blob/main/qclontology/version-1.0/qclonto.owl#> \n",
    "    SELECT DISTINCT ?mat_composition\n",
    "WHERE\n",
    "{\n",
    " ?HS QpOnto:hasDesignType QpOnto:BoundToContinum;\n",
    "     QpOnto:hasMaterials ?HM.\n",
    " ?HM QpOnto:matFormula ?mat_composition.\n",
    "}\n",
    "\"\"\"\n",
    "for r in qcl_KG.query(q3):\n",
    "    print(\"material composition:\",r[\"mat_composition\"])"
   ]
  },
  {
   "cell_type": "markdown",
   "id": "2385b741",
   "metadata": {},
   "source": [
    "Queries for Competence Question 2: What is the working property X of a QCL laser working in mode Y ?"
   ]
  },
  {
   "cell_type": "markdown",
   "id": "90553b1a",
   "metadata": {},
   "source": [
    "Query 2.1: What are the working temperatures for a QCL laser operating in the continuous wave mode?"
   ]
  },
  {
   "cell_type": "code",
   "execution_count": 7,
   "id": "763dcd23",
   "metadata": {},
   "outputs": [
    {
     "name": "stdout",
     "output_type": "stream",
     "text": [
      "working temperature value: 95.0 unit: https://qudt.org/vocab/unit/K\n",
      "working temperature value: 122.0 unit: https://qudt.org/vocab/unit/K\n",
      "working temperature value: 70.0 unit: https://qudt.org/vocab/unit/K\n",
      "working temperature value: 65.0 unit: https://qudt.org/vocab/unit/K\n",
      "working temperature value: 195.0 unit: https://qudt.org/vocab/unit/K\n",
      "working temperature value: 80.0 unit: https://qudt.org/vocab/unit/K\n",
      "working temperature value: 117.0 unit: https://qudt.org/vocab/unit/K\n",
      "working temperature value: 97.0 unit: https://qudt.org/vocab/unit/K\n",
      "working temperature value: 170.0 unit: https://qudt.org/vocab/unit/K\n",
      "working temperature value: 98.0 unit: https://qudt.org/vocab/unit/K\n",
      "working temperature value: 130.0 unit: https://qudt.org/vocab/unit/K\n",
      "working temperature value: 186.0 unit: https://qudt.org/vocab/unit/K\n",
      "working temperature value: 102.0 unit: https://qudt.org/vocab/unit/K\n",
      "working temperature value: 123.0 unit: https://qudt.org/vocab/unit/K\n",
      "working temperature value: 178.0 unit: https://qudt.org/vocab/unit/K\n",
      "working temperature value: 40.0 unit: https://qudt.org/vocab/unit/K\n",
      "working temperature value: 105.0 unit: https://qudt.org/vocab/unit/K\n",
      "working temperature value: 172.0 unit: https://qudt.org/vocab/unit/K\n",
      "working temperature value: 142.0 unit: https://qudt.org/vocab/unit/K\n",
      "working temperature value: 210.0 unit: https://qudt.org/vocab/unit/K\n",
      "working temperature value: 210.5 unit: https://qudt.org/vocab/unit/K\n",
      "working temperature value: 230.0 unit: https://qudt.org/vocab/unit/K\n",
      "working temperature value: 151.0 unit: https://qudt.org/vocab/unit/K\n",
      "working temperature value: 167.0 unit: https://qudt.org/vocab/unit/K\n",
      "working temperature value: 138.0 unit: https://qudt.org/vocab/unit/K\n",
      "working temperature value: 60.0 unit: https://qudt.org/vocab/unit/K\n",
      "working temperature value: 144.0 unit: https://qudt.org/vocab/unit/K\n",
      "working temperature value: 81.0 unit: https://qudt.org/vocab/unit/K\n",
      "working temperature value: 150.0 unit: https://qudt.org/vocab/unit/K\n",
      "working temperature value: 142.0 unit: https://qudt.org/vocab/unit/K\n"
     ]
    }
   ],
   "source": [
    "q4 = \"\"\"\n",
    "    PREFIX QpOnto:<https://github.com/DeperiasKerre/qcl_Onto/blob/main/qclontology/version-1.0/qclonto.owl#>\n",
    "    PREFIX qudt:<https://qudt.org/schema/qudt/>\n",
    "    PREFIX qudt_qv: <https://qudt.org/vocab/unit/#>\n",
    "    SELECT ?value ?unit \n",
    "WHERE\n",
    "{\n",
    " ?wt QpOnto:correspondsToWorkingMode QpOnto:ContinousWaveOperation;\n",
    " qudt_qv:hasQuantityValue ?qv.\n",
    " ?qv qudt:numericValue ?value;\n",
    " qudt:hasUnit ?unit.\n",
    "}\n",
    "\"\"\"\n",
    "for r in qcl_KG.query(q4):\n",
    "    print(\"working temperature value:\", r[\"value\"],\"unit:\",r[\"unit\"])"
   ]
  },
  {
   "cell_type": "markdown",
   "id": "3e574370",
   "metadata": {},
   "source": [
    "Query 2.2: What are the working temperatures for a QCL laser operating in the pulsed mode?"
   ]
  },
  {
   "cell_type": "code",
   "execution_count": 8,
   "id": "431d0186",
   "metadata": {},
   "outputs": [
    {
     "name": "stdout",
     "output_type": "stream",
     "text": [
      "working temperature value: 110.0 unit: https://qudt.org/vocab/unit/K\n",
      "working temperature value: 144.0 unit: https://qudt.org/vocab/unit/K\n",
      "working temperature value: 65.0 unit: https://qudt.org/vocab/unit/K\n",
      "working temperature value: 85.0 unit: https://qudt.org/vocab/unit/K\n",
      "working temperature value: 95.0 unit: https://qudt.org/vocab/unit/K\n",
      "working temperature value: 164.0 unit: https://qudt.org/vocab/unit/K\n",
      "working temperature value: 84.0 unit: https://qudt.org/vocab/unit/K\n",
      "working temperature value: 137.0 unit: https://qudt.org/vocab/unit/K\n",
      "working temperature value: 123.0 unit: https://qudt.org/vocab/unit/K\n",
      "working temperature value: 120.0 unit: https://qudt.org/vocab/unit/K\n",
      "working temperature value: 140.0 unit: https://qudt.org/vocab/unit/K\n",
      "working temperature value: 138.0 unit: https://qudt.org/vocab/unit/K\n",
      "working temperature value: 77.0 unit: https://qudt.org/vocab/unit/K\n",
      "working temperature value: 102.0 unit: https://qudt.org/vocab/unit/K\n"
     ]
    }
   ],
   "source": [
    "q5 = \"\"\"\n",
    "    PREFIX QpOnto:<https://github.com/DeperiasKerre/qcl_Onto/blob/main/qclontology/version-1.0/qclonto.owl#>\n",
    "    PREFIX qudt:<https://qudt.org/schema/qudt/>\n",
    "    PREFIX qudt_qv: <https://qudt.org/vocab/unit/#>\n",
    "    SELECT ?value ?unit \n",
    "WHERE\n",
    "{\n",
    " ?wt QpOnto:correspondsToWorkingMode QpOnto:PulsedOperation;\n",
    " qudt_qv:hasQuantityValue ?qv.\n",
    " ?qv qudt:numericValue ?value;\n",
    " qudt:hasUnit ?unit.\n",
    "}\n",
    "\"\"\"\n",
    "for r in qcl_KG.query(q5):\n",
    "    print(\"working temperature value:\", r[\"value\"],\"unit:\",r[\"unit\"])"
   ]
  },
  {
   "cell_type": "markdown",
   "id": "fd71c467",
   "metadata": {},
   "source": [
    "Queries for Competence Question 3: What is the performance property X of a QCL laser having a heterostructure with material\n",
    "composition Y?"
   ]
  },
  {
   "cell_type": "markdown",
   "id": "2fee91c0",
   "metadata": {},
   "source": [
    "Query 3.1: What are the possible power values for a QCL laser with a heterostructure with material composition GaAs/Al0.15Ga0.85As?"
   ]
  },
  {
   "cell_type": "code",
   "execution_count": 9,
   "id": "f5be4f4f",
   "metadata": {},
   "outputs": [
    {
     "name": "stdout",
     "output_type": "stream",
     "text": [
      "power value: 10.0 unit: https://qudt.org/vocab/unit/MilliW\n",
      "power value: 2.5 unit: https://qudt.org/vocab/unit/MilliW\n"
     ]
    }
   ],
   "source": [
    "q6 = \"\"\"\n",
    "    PREFIX QpOnto:<https://github.com/DeperiasKerre/qcl_Onto/blob/main/qclontology/version-1.0/qclonto.owl#>\n",
    "    PREFIX qudt:<https://qudt.org/schema/qudt/>\n",
    "    PREFIX qudt_qv: <https://qudt.org/vocab/unit/#>\n",
    "    SELECT DISTINCT ?value ?unit\n",
    "WHERE\n",
    "{\n",
    "?HS QpOnto:hasMaterials ?HM.\n",
    "?HM QpOnto:matFormula   \"GaAs/Al0.15Ga0.85As\"^^xsd:string.\n",
    "?lf QpOnto:relatesToHeterostructure ?HS;\n",
    "qudt_qv:hasQuantityValue ?qv.\n",
    " ?qv qudt:numericValue ?value;\n",
    " qudt:hasUnit ?unit.\n",
    " FILTER(?unit=<https://qudt.org/vocab/unit/MilliW>).\n",
    "}\n",
    "\"\"\"\n",
    "# Apply the query to the graph and iterate through results\n",
    "for r in qcl_KG.query(q6):\n",
    "        print(\"power value:\",r[\"value\"], \"unit:\",r[\"unit\"])"
   ]
  }
 ],
 "metadata": {
  "kernelspec": {
   "display_name": "Python 3 (ipykernel)",
   "language": "python",
   "name": "python3"
  },
  "language_info": {
   "codemirror_mode": {
    "name": "ipython",
    "version": 3
   },
   "file_extension": ".py",
   "mimetype": "text/x-python",
   "name": "python",
   "nbconvert_exporter": "python",
   "pygments_lexer": "ipython3",
   "version": "3.11.5"
  }
 },
 "nbformat": 4,
 "nbformat_minor": 5
}
